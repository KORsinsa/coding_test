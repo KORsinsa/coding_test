{
 "cells": [
  {
   "cell_type": "code",
   "execution_count": 1,
   "id": "998f04ba",
   "metadata": {},
   "outputs": [],
   "source": [
    "class Node:\n",
    "    def __init__(self, data):\n",
    "        self.data = data\n",
    "        self.next = None"
   ]
  },
  {
   "cell_type": "code",
   "execution_count": 9,
   "id": "7ef15510",
   "metadata": {},
   "outputs": [],
   "source": [
    "class Node: \n",
    "    def __init__(self, data, next=None):\n",
    "        self.data= data\n",
    "        self.next = next"
   ]
  },
  {
   "cell_type": "code",
   "execution_count": 10,
   "id": "383c44f9",
   "metadata": {},
   "outputs": [],
   "source": [
    "node1 = Node(1)\n",
    "node2 = Node(2)\n",
    "node1.next = node2 \n",
    "haed = node1 "
   ]
  },
  {
   "cell_type": "markdown",
   "id": "20796b20",
   "metadata": {},
   "source": [
    "* 링크드 리스트로 데이터 추가하기 "
   ]
  },
  {
   "cell_type": "code",
   "execution_count": 17,
   "id": "568082f1",
   "metadata": {},
   "outputs": [],
   "source": [
    "class Node:\n",
    "    def __init__(self, data, next = None):\n",
    "        self.data = data\n",
    "        self.next = next\n",
    "#-----------------------------------------------------------------------------------#\n",
    "def add(data):\n",
    "    node = head\n",
    "    while node.next: #만약에 node.next가 None이 아니라면, 계속 반복\n",
    "        node = node.next\n",
    "    node.next = Node(data) #여기서 Node(data) Node는 첫번째 head node의 다음 node인 것이다. \n",
    "    "
   ]
  },
  {
   "cell_type": "code",
   "execution_count": 18,
   "id": "18a772db",
   "metadata": {},
   "outputs": [],
   "source": [
    "node1 = Node(1)\n",
    "head = node1\n",
    "for index in range(2, 10): #2부터 9까지 ㄱㄱ \n",
    "    add(index)"
   ]
  },
  {
   "cell_type": "code",
   "execution_count": 19,
   "id": "9b4663b4",
   "metadata": {},
   "outputs": [
    {
     "name": "stdout",
     "output_type": "stream",
     "text": [
      "1\n",
      "2\n",
      "3\n",
      "4\n",
      "5\n",
      "6\n",
      "7\n",
      "8\n",
      "9\n"
     ]
    }
   ],
   "source": [
    "node = head #head = Node(1) -> node = Node(1)\n",
    "while node.next: #만약에 node.next의 값(def __init__(self, data, next = None): \n",
    "    #self.next = next에서 next의 값이 None이 아닌경우 반복)\n",
    "    print(node.data)\n",
    "    node = node.next\n",
    "print(node.data)"
   ]
  },
  {
   "cell_type": "markdown",
   "id": "a7626d9c",
   "metadata": {},
   "source": [
    "* Node 중간에 삽입하기!! "
   ]
  },
  {
   "cell_type": "code",
   "execution_count": 21,
   "id": "086fa608",
   "metadata": {},
   "outputs": [],
   "source": [
    "node3 = Node(1.5)"
   ]
  },
  {
   "cell_type": "code",
   "execution_count": 22,
   "id": "56fed22d",
   "metadata": {},
   "outputs": [],
   "source": [
    "node = head # node = Node(1)\n",
    "search = True \n",
    "while search: \n",
    "    if node.data == 1:\n",
    "        search = False #여기서 while 반복문이 종료 \n",
    "    else: \n",
    "        node = node.next #순서대로 node를 순회한다. \n",
    "\n",
    "# 여기서부터는 while 반복문이 종료가 되었기 때문에 node.next에는 2값이 들어 있을거다. \n",
    "node_next = node.next #이 줄의 소스코드의 node.next는 2를 값으로 가진다.   \n",
    "node.next = node3 #node3이 Node(1.5)이기 때문에 Node(1)이 next로 node3 = Node(1.5)를 가르킨다. \n",
    "node3.next = node_next #그럼 다시 node3=Node(1.5)은 당연히 그 다음 node인 Node(2)를 \n",
    "#next로 가르켜야 할 것이다. 그렇기 때문에 node3.next가 node.next값이 2인 node.next를 \n",
    "#node3의 next인 node3.next로 지정해야 한다. \n"
   ]
  },
  {
   "cell_type": "code",
   "execution_count": 24,
   "id": "2670d393",
   "metadata": {},
   "outputs": [
    {
     "name": "stdout",
     "output_type": "stream",
     "text": [
      "1\n",
      "1.5\n",
      "2\n",
      "3\n",
      "4\n",
      "5\n",
      "6\n",
      "7\n",
      "8\n",
      "9\n"
     ]
    }
   ],
   "source": [
    "node = head #head = Node(1) -> node = Node(1)\n",
    "while node.next:\n",
    "    print(node.data)\n",
    "    node = node.next\n",
    "print(node.data)"
   ]
  },
  {
   "cell_type": "markdown",
   "id": "b9e5ba1e",
   "metadata": {},
   "source": [
    "* 파이썬 객체지향 프로그래밍으로 링크드 리스트 구현하기 "
   ]
  },
  {
   "cell_type": "code",
   "execution_count": 4,
   "id": "9687de6a",
   "metadata": {},
   "outputs": [],
   "source": [
    "class Node:\n",
    "    def __init__(self, data, next = None):\n",
    "        self.data = data\n",
    "        self.next = next \n",
    "    \n",
    "class Nodemgnt:\n",
    "    def __init__(self, data):\n",
    "        self.head = Node(data)\n",
    "        \n",
    "    def add(self, data):\n",
    "        if self.head == None:\n",
    "            self.head = Node(data)\n",
    "        else:\n",
    "            node = self.head\n",
    "            while node.next: #만약에 node.next 값이 None이 아니고 존재한다면 반복! \n",
    "                node = node.next #2번째 node의 node 값에 1번째 node.next 값을 넣어준다.\n",
    "            node.next = Node(data) #2번째 node.next 값에 3번째 node.data 값을 넣어준다.\n",
    "    def desc(self):\n",
    "        node = self.head\n",
    "        while node:\n",
    "            print(node.data)\n",
    "            node = node.next\n",
    "                \n",
    "    def delete(self, data):\n",
    "        if self.head == None:\n",
    "            print('찾으시는 값이 없습니다')\n",
    "            return\n",
    "        elif self.head.data == data:\n",
    "            temp = self.head\n",
    "            self.head = self.head.next\n",
    "            del temp \n",
    "            \n",
    "        else:\n",
    "            node = self.head\n",
    "            while node.next:\n",
    "                if node.next.data == data:\n",
    "                    temp = node.next\n",
    "                    node.next = node.next.next\n",
    "                    del temp \n",
    "                    return\n",
    "                else:\n",
    "                    node = node.next \n",
    "                    "
   ]
  },
  {
   "cell_type": "code",
   "execution_count": null,
   "id": "4af1114d",
   "metadata": {},
   "outputs": [],
   "source": [
    "#이게 가능한 이유는 바로 위에서 형성된 \n",
    "                    #node의 구조때문이다. node.next에는 분명 Node(다음 node의 data)가 들어간다.\n",
    "                    #그럼 여기서 node.next는 node.next.data와 node.next.next 총 2가지 형태를\n",
    "                    #가지게 되고 node.next.next는 Node(다다음 node의 data)가 되는 것이다. "
   ]
  },
  {
   "cell_type": "code",
   "execution_count": 2,
   "id": "97a9151b",
   "metadata": {},
   "outputs": [
    {
     "name": "stdout",
     "output_type": "stream",
     "text": [
      "None\n"
     ]
    }
   ],
   "source": [
    "node = Node(1)\n",
    "print(node.next)"
   ]
  },
  {
   "cell_type": "code",
   "execution_count": 3,
   "id": "3d670462",
   "metadata": {
    "scrolled": true
   },
   "outputs": [
    {
     "name": "stdout",
     "output_type": "stream",
     "text": [
      "0\n",
      "1\n"
     ]
    }
   ],
   "source": [
    "linkedlist1 = Nodemgnt(0)\n",
    "linkedlist1.add(1)\n",
    "linkedlist1.desc()\n",
    "#----------------------------여기까지는 아주 이해가 잘 됬다!---------------------------------------------"
   ]
  },
  {
   "cell_type": "code",
   "execution_count": 5,
   "id": "70d97aba",
   "metadata": {},
   "outputs": [
    {
     "name": "stdout",
     "output_type": "stream",
     "text": [
      "0\n",
      "1\n",
      "2\n",
      "3\n",
      "4\n",
      "5\n",
      "6\n",
      "7\n",
      "8\n",
      "9\n",
      "10\n"
     ]
    }
   ],
   "source": [
    "linkedlist1 = Nodemgnt(0)\n",
    "for data in range(1, 10+1):\n",
    "    linkedlist1.add(data)\n",
    "linkedlist1.desc()"
   ]
  },
  {
   "cell_type": "markdown",
   "id": "27cbd4d0",
   "metadata": {},
   "source": [
    "* 링크드 리스트 삭제 "
   ]
  },
  {
   "cell_type": "code",
   "execution_count": 6,
   "id": "c35550aa",
   "metadata": {},
   "outputs": [],
   "source": [
    "linkedlist1.delete(4)"
   ]
  },
  {
   "cell_type": "code",
   "execution_count": 7,
   "id": "bcfa6530",
   "metadata": {},
   "outputs": [
    {
     "name": "stdout",
     "output_type": "stream",
     "text": [
      "0\n",
      "1\n",
      "2\n",
      "3\n",
      "5\n",
      "6\n",
      "7\n",
      "8\n",
      "9\n",
      "10\n"
     ]
    }
   ],
   "source": [
    "linkedlist1.desc()"
   ]
  },
  {
   "cell_type": "markdown",
   "id": "462fc42f",
   "metadata": {},
   "source": [
    "* double linked list "
   ]
  },
  {
   "cell_type": "markdown",
   "id": "56086ff6",
   "metadata": {},
   "source": [
    "검색을 항상 앞에서부터 했기 때문에 뒤에 있는 데이터를 찾으려면 시간이 많이 걸렸는데 \n",
    "뒤에서부터 앞으로 데이터를 찾을 수 있게 해준 것이 바로 double linked list이다!"
   ]
  },
  {
   "cell_type": "code",
   "execution_count": 11,
   "id": "abfa0b6c",
   "metadata": {},
   "outputs": [],
   "source": [
    "class Node:\n",
    "    def __init__(self, data, prev = None, next=None):\n",
    "        self.data=data\n",
    "        self.next=next\n",
    "        self.prev=prev\n",
    "        \n",
    "class NodeMgmt:\n",
    "    def __init__(self, data):\n",
    "        self.head = Node(data)\n",
    "        self.tail = self.head #맨 처음에 노드가 하나라면, 머리도 첫 노드일 것이고 꼬리도 \n",
    "        #첫 노드일 것이다. 그렇기 때문에 머리와 꼬리가 같을 것이다.\n",
    "        \n",
    "    def insert(self, data):\n",
    "        if self.head == None:\n",
    "            self.head = Node(data)\n",
    "        else:\n",
    "            node = self.head\n",
    "            while node.next:\n",
    "                node = node.next\n",
    "            new = Node(data)\n",
    "            node.next = new\n",
    "            new.prev = node\n",
    "            self.tail = new\n",
    "            \n",
    "    def desc(self):\n",
    "        node = self.head \n",
    "        while node:\n",
    "            print(node.data)\n",
    "            node = node.next"
   ]
  },
  {
   "cell_type": "code",
   "execution_count": 13,
   "id": "508eca87",
   "metadata": {},
   "outputs": [
    {
     "name": "stdout",
     "output_type": "stream",
     "text": [
      "0\n",
      "1\n",
      "2\n",
      "3\n",
      "4\n",
      "5\n",
      "6\n",
      "7\n",
      "8\n",
      "9\n"
     ]
    }
   ],
   "source": [
    "double_linked_list = NodeMgmt(0)\n",
    "for data in range(1, 10):\n",
    "    double_linked_list.insert(data)\n",
    "double_linked_list.desc()\n"
   ]
  },
  {
   "cell_type": "markdown",
   "id": "f989403c",
   "metadata": {},
   "source": [
    "* 연습문제 3: 위 코드에서 노드 데이터가 특정 숫자인 노드 앞에 데이터를 추가하는 함수를 만들고, 테스트 해보기 "
   ]
  },
  {
   "cell_type": "code",
   "execution_count": null,
   "id": "2594b334",
   "metadata": {},
   "outputs": [],
   "source": [
    "class Node:\n",
    "    def __init__(self, data, prev = None, next=None):\n",
    "        self.data=data\n",
    "        self.next=next\n",
    "        self.prev=prev\n",
    "        \n",
    "class NodeMgmt:\n",
    "    def __init__(self, data):\n",
    "        self.head = Node(data)\n",
    "        self.tail = self.head #맨 처음에 노드가 하나라면, 머리도 첫 노드일 것이고 꼬리도 \n",
    "        #첫 노드일 것이다. 그렇기 때문에 머리와 꼬리가 같을 것이다.\n",
    "        \n",
    "    def insert(self, data):\n",
    "        if self.head == None:\n",
    "            self.head = Node(data)\n",
    "        else:\n",
    "            node = self.head\n",
    "            while node.next:\n",
    "                node = node.next\n",
    "            new = Node(data)\n",
    "            node.next = new\n",
    "            new.prev = node\n",
    "            self.tail = new\n",
    "            \n",
    "    def desc(self):\n",
    "        node = self.head \n",
    "        while node:\n",
    "            print(node.data)\n",
    "            node = node.next\n",
    "## 데이터를 찾아주는 함수를 추가 해주자 ##\n",
    "    def search_from_head(self, data):\n",
    "        if self.head == None:\n",
    "            return False\n",
    "        node = self.head\n",
    "        while node:\n",
    "            if node.data == data:\n",
    "                return node\n",
    "            else:\n",
    "                node = node.next\n",
    "        return False\n",
    "    \n",
    "## data를 tail에서부터 찾아주는 함수 ##     \n",
    "    \n",
    "    def search_from_tail(self, data):\n",
    "        if self.tail == None:\n",
    "            return False\n",
    "        node = self.tail\n",
    "        while node:\n",
    "            if node.data == data:\n",
    "                return node\n",
    "            else:\n",
    "                node = node.prev\n",
    "        return False"
   ]
  },
  {
   "cell_type": "code",
   "execution_count": null,
   "id": "8a998524",
   "metadata": {},
   "outputs": [],
   "source": [
    "double_linked_list = NodeMgmt(0)\n",
    "for data in range(1, 10):\n",
    "    double_linked_list.insert(data)\n",
    "double_linked_list.desc()\n"
   ]
  },
  {
   "cell_type": "code",
   "execution_count": null,
   "id": "9c57c5cd",
   "metadata": {},
   "outputs": [],
   "source": [
    "node_3 = double_linked_list.search_from_head(3)\n",
    "if node_3:\n",
    "    print(node_3.data)\n",
    "else:\n",
    "    print(\"No data\")"
   ]
  },
  {
   "cell_type": "code",
   "execution_count": null,
   "id": "eab96486",
   "metadata": {},
   "outputs": [],
   "source": [
    "node_3 = double_linked_list.search_from_tail(3)\n",
    "if node_3:\n",
    "    print(node_3.data)\n",
    "else:\n",
    "    print(\"No data\")"
   ]
  },
  {
   "cell_type": "markdown",
   "id": "fb2aef44",
   "metadata": {},
   "source": [
    "** 링크드 리스트4 25분 26초부터 계속 진행해야함!(연습문제4번 남음) \n"
   ]
  },
  {
   "cell_type": "code",
   "execution_count": null,
   "id": "da73273c",
   "metadata": {},
   "outputs": [],
   "source": [
    "class Node:\n",
    "    def __init__(self, data, prev = None, next=None):\n",
    "        self.data=data\n",
    "        self.next=next\n",
    "        self.prev=prev\n",
    "        \n",
    "class NodeMgmt:\n",
    "    def __init__(self, data):\n",
    "        self.head = Node(data)\n",
    "        self.tail = self.head #맨 처음에 노드가 하나라면, 머리도 첫 노드일 것이고 꼬리도 \n",
    "        #첫 노드일 것이다. 그렇기 때문에 머리와 꼬리가 같을 것이다.\n",
    "        \n",
    "    def insert(self, data):\n",
    "        if self.head == None:\n",
    "            self.head = Node(data)\n",
    "        else:\n",
    "            node = self.head\n",
    "            while node.next:\n",
    "                node = node.next\n",
    "            new = Node(data)\n",
    "            node.next = new\n",
    "            new.prev = node\n",
    "            self.tail = new\n",
    "            \n",
    "    def desc(self):\n",
    "        node = self.head \n",
    "        while node:\n",
    "            print(node.data)\n",
    "            node = node.next\n",
    "## 데이터를 찾아주는 함수를 추가 해주자 ##\n",
    "    def search_from_head(self, data):\n",
    "        if self.head == None:\n",
    "            return False\n",
    "        node = self.head\n",
    "        while node:\n",
    "            if node.data == data:\n",
    "                return node\n",
    "            else:\n",
    "                node = node.next\n",
    "        return False\n",
    "    \n",
    "## data를 tail에서부터 찾아주는 함수 ##     \n",
    "    \n",
    "    def search_from_tail(self, data):\n",
    "        if self.tail == None:\n",
    "            return False\n",
    "        node = self.tail\n",
    "        while node:\n",
    "            if node.data == data:\n",
    "                return node\n",
    "            else:\n",
    "                node = node.prev\n",
    "        return False\n",
    "    \n",
    "    def insert_from_behind(self, data, before_data):\n",
    "        if self.head==None: \n",
    "            self.head=Node(data)\n",
    "            return True\n",
    "        else:\n",
    "            node = self.tail\n",
    "            while node.data != before_data:\n",
    "                node = node.prev\n",
    "                if node.prev ==None:\n",
    "                    print(\"There is just one node\")\n",
    "            new = Node(data)\n",
    "            new.next = node \n",
    "            before_new = node.prev\n",
    "            before_new.next = new\n",
    "            new.prev = before_new\n",
    "            node.prev = new\n",
    "            return True\n",
    "        \n",
    "            \n",
    "            "
   ]
  },
  {
   "cell_type": "code",
   "execution_count": null,
   "id": "bce78632",
   "metadata": {},
   "outputs": [],
   "source": [
    "double_linked_list = NodeMgmt(0)\n",
    "for data in range(1, 10):\n",
    "    double_linked_list.insert(data)\n",
    "double_linked_list.desc()"
   ]
  },
  {
   "cell_type": "code",
   "execution_count": null,
   "id": "32f201ce",
   "metadata": {},
   "outputs": [],
   "source": [
    "double_linked_list.insert_from_behind(1.5, 3)\n",
    "double_linked_list.desc()"
   ]
  },
  {
   "cell_type": "markdown",
   "id": "8cdd05e5",
   "metadata": {},
   "source": [
    "** 특정 노드 뒤(tail 쪽)에 숫자 추가하기!"
   ]
  },
  {
   "cell_type": "code",
   "execution_count": null,
   "id": "ebced3cf",
   "metadata": {},
   "outputs": [],
   "source": [
    "class Node:\n",
    "    def __init__(self, data, prev = None, next=None):\n",
    "        self.data=data\n",
    "        self.next=next\n",
    "        self.prev=prev\n",
    "        \n",
    "class NodeMgmt:\n",
    "    def __init__(self, data):\n",
    "        self.head = Node(data)\n",
    "        self.tail = self.head #맨 처음에 노드가 하나라면, 머리도 첫 노드일 것이고 꼬리도 \n",
    "        #첫 노드일 것이다. 그렇기 때문에 머리와 꼬리가 같을 것이다.\n",
    "        \n",
    "    def insert(self, data):\n",
    "        if self.head == None:\n",
    "            self.head = Node(data)\n",
    "        else:\n",
    "            node = self.head\n",
    "            while node.next:\n",
    "                node = node.next\n",
    "            new = Node(data)\n",
    "            node.next = new\n",
    "            new.prev = node\n",
    "            self.tail = new\n",
    "            \n",
    "    def desc(self):\n",
    "        node = self.head \n",
    "        while node:\n",
    "            print(node.data)\n",
    "            node = node.next\n",
    "## 데이터를 찾아주는 함수를 추가 해주자 ##\n",
    "    def search_from_head(self, data):\n",
    "        if self.head == None:\n",
    "            return False\n",
    "        node = self.head\n",
    "        while node:\n",
    "            if node.data == data:\n",
    "                return node\n",
    "            else:\n",
    "                node = node.next\n",
    "        return False\n",
    "    \n",
    "## data를 tail에서부터 찾아주는 함수 ##     \n",
    "    \n",
    "    def search_from_tail(self, data):\n",
    "        if self.tail == None:\n",
    "            return False\n",
    "        node = self.tail\n",
    "        while node:\n",
    "            if node.data == data:\n",
    "                return node\n",
    "            else:\n",
    "                node = node.prev\n",
    "        return False\n",
    "    \n",
    "    def insert_from_front(self, data, after_data):\n",
    "        if self.head==None: \n",
    "            self.head=Node(data)\n",
    "            return True\n",
    "        else:\n",
    "            node = self.head\n",
    "            while node.data != after_data:\n",
    "                node = node.next\n",
    "                if node.next ==None:\n",
    "                    print(\"There is just one node\")\n",
    "            new = Node(data)\n",
    "            new.prev = node \n",
    "            back_one = node.next\n",
    "            back_one.prev = new\n",
    "            new.next = back_one\n",
    "            node.next = new\n",
    "            return True\n",
    "        \n",
    "            \n",
    "        "
   ]
  },
  {
   "cell_type": "code",
   "execution_count": null,
   "id": "43c7e9f6",
   "metadata": {},
   "outputs": [],
   "source": [
    "double_linked_list = NodeMgmt(0)\n",
    "for i in range(1,10):\n",
    "    double_linked_list.insert(i)\n",
    "double_linked_list.desc()\n"
   ]
  },
  {
   "cell_type": "code",
   "execution_count": null,
   "id": "c1063f70",
   "metadata": {},
   "outputs": [],
   "source": [
    "double_linked_list.insert_from_front(1.5, 1)\n",
    "double_linked_list.desc()"
   ]
  },
  {
   "cell_type": "code",
   "execution_count": null,
   "id": "028d63b5",
   "metadata": {},
   "outputs": [],
   "source": []
  },
  {
   "cell_type": "code",
   "execution_count": null,
   "id": "f1dfe4f1",
   "metadata": {},
   "outputs": [],
   "source": []
  },
  {
   "cell_type": "code",
   "execution_count": null,
   "id": "611a3715",
   "metadata": {},
   "outputs": [],
   "source": []
  },
  {
   "cell_type": "code",
   "execution_count": null,
   "id": "1f3aa718",
   "metadata": {},
   "outputs": [],
   "source": []
  }
 ],
 "metadata": {
  "kernelspec": {
   "display_name": "Python 3 (ipykernel)",
   "language": "python",
   "name": "python3"
  },
  "language_info": {
   "codemirror_mode": {
    "name": "ipython",
    "version": 3
   },
   "file_extension": ".py",
   "mimetype": "text/x-python",
   "name": "python",
   "nbconvert_exporter": "python",
   "pygments_lexer": "ipython3",
   "version": "3.9.12"
  }
 },
 "nbformat": 4,
 "nbformat_minor": 5
}
