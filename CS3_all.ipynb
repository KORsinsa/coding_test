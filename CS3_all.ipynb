{
 "cells": [
  {
   "cell_type": "code",
   "execution_count": 22,
   "id": "3b3e2437",
   "metadata": {},
   "outputs": [
    {
     "name": "stdout",
     "output_type": "stream",
     "text": [
      "9\r\n"
     ]
    },
    {
     "ename": "Error",
     "evalue": "System.ArgumentNullException: Value cannot be null. (Parameter 's')\r\n   at System.Int32.Parse(String s)\r\n   at Submission#24.<<Initialize>>d__0.MoveNext()\r\n--- End of stack trace from previous location ---\r\n   at Microsoft.CodeAnalysis.Scripting.ScriptExecutionState.RunSubmissionsAsync[TResult](ImmutableArray`1 precedingExecutors, Func`2 currentExecutor, StrongBox`1 exceptionHolderOpt, Func`2 catchExceptionOpt, CancellationToken cancellationToken)",
     "output_type": "error",
     "traceback": [
      "System.ArgumentNullException: Value cannot be null. (Parameter 's')\r\n   at System.Int32.Parse(String s)\r\n   at Submission#24.<<Initialize>>d__0.MoveNext()\r\n--- End of stack trace from previous location ---\r\n   at Microsoft.CodeAnalysis.Scripting.ScriptExecutionState.RunSubmissionsAsync[TResult](ImmutableArray`1 precedingExecutors, Func`2 currentExecutor, StrongBox`1 exceptionHolderOpt, Func`2 catchExceptionOpt, CancellationToken cancellationToken)",
      "   at System.Int32.Parse(String s)",
      "   at Submission#24.<<Initialize>>d__0.MoveNext()",
      "--- End of stack trace from previous location ---",
      "   at Microsoft.CodeAnalysis.Scripting.ScriptExecutionState.RunSubmissionsAsync[TResult](ImmutableArray`1 precedingExecutors, Func`2 currentExecutor, StrongBox`1 exceptionHolderOpt, Func`2 catchExceptionOpt, CancellationToken cancellationToken)"
     ]
    }
   ],
   "source": [
    "Console.WriteLine(\"9\");\n",
    "int i = int.Parse(Console.ReadLine());\n",
    "while( i>=1 && i<=9){\n",
    "    Console.WriteLine(\"당신이 입력한 수는 {0}\\n\", i);\n",
    "}\n"
   ]
  },
  {
   "cell_type": "code",
   "execution_count": 23,
   "id": "9bc66ad7",
   "metadata": {},
   "outputs": [
    {
     "name": "stdout",
     "output_type": "stream",
     "text": [
      "홀수들의 합은 2500 입니다.\n",
      "짝수들의 합은 2450 입니다.\n"
     ]
    }
   ],
   "source": [
    "// 홀수 짝수 합을 구하는 코드 \n",
    "int i, even, odd = 0; //even: 짝수,  odd: 홀수\n",
    "for(i=0; i<100; i++){\n",
    "        if (i % 2 == 0)\n",
    "        even += i;\n",
    "        \n",
    "        else if (i % 2 != 0)\n",
    "        odd += i;\n",
    "\n",
    "}\n",
    "\n",
    "Console.WriteLine(\"홀수들의 합은 {0} 입니다.\", odd);\n",
    "Console.WriteLine(\"짝수들의 합은 {0} 입니다.\", even);\n"
   ]
  },
  {
   "cell_type": "code",
   "execution_count": 26,
   "id": "2c935ac1",
   "metadata": {},
   "outputs": [
    {
     "name": "stdout",
     "output_type": "stream",
     "text": [
      "2100\r\n"
     ]
    }
   ],
   "source": [
    "// 3.1.4 클래스 내에 함수 삽입 \n",
    "public class top{\n",
    "            public int a;\n",
    "            public int b;\n",
    "            public int GetData(){\n",
    "                        return a + b;\n",
    "            \n",
    "            }\n",
    "\n",
    "}//class \n",
    "\n",
    "top t = new top();\n",
    "t.a = 100;\n",
    "t.b = 2000;\n",
    "int c1 = t.GetData(); //class 내의 함수가 작동해서 a + b 값을 반환해서 함수가 내어준다.\n",
    "Console.WriteLine(c1);"
   ]
  },
  {
   "cell_type": "code",
   "execution_count": 27,
   "id": "d3b5ae26",
   "metadata": {},
   "outputs": [
    {
     "name": "stderr",
     "output_type": "stream",
     "text": [
      "\r\n",
      "(15,9): error CS0122: '보호 수준 때문에 'Person.weight'에 액세스할 수 없습니다.\r\n",
      "\r\n",
      "(18,39): error CS0122: '보호 수준 때문에 'Person.weight'에 액세스할 수 없습니다.\r\n",
      "\r\n"
     ]
    },
    {
     "ename": "Error",
     "evalue": "compilation error",
     "output_type": "error",
     "traceback": []
    }
   ],
   "source": [
    "// 접근제어 \n",
    "// public : 멤버에 직접 접근할 수 있다. \n",
    "// private : 멤버에 직접 접근할 수 없다. \n",
    "// 접근 지정자의 종류 : private, public, protected\n",
    "// private 멤버의 접근은 public 멤버의 접근처럼 이용할 수 없다. \n",
    "public class Person{\n",
    "    public int age;\n",
    "    public float height;\n",
    "    private float weight; //private 멤버 변수 선언\n",
    "}\n",
    "\n",
    "Person brother = new Person(); //class의 변수 선언 및 기존의 class를 할당\n",
    "brother.age = 100;\n",
    "brother.height = 170.0F;\n",
    "brother.weight = 67.0F; //private 멤버 접근 에러 -> 그렇다면 어떻게 접근할 수 있을까?\n",
    "Console.WriteLine(\"age:\" + brother.age);\n",
    "Console.WriteLine(\"height:\" + brother.height);\n",
    "Console.WriteLine(\"weight:\" + brother.weight); //private 멤버 접근 - 에러\n"
   ]
  },
  {
   "cell_type": "code",
   "execution_count": 31,
   "id": "98352872",
   "metadata": {},
   "outputs": [
    {
     "name": "stdout",
     "output_type": "stream",
     "text": [
      "500\r\n"
     ]
    }
   ],
   "source": [
    "// private 멤버 변수 값을 할당하고 값을 받아오려면 class 내부에서 각각 \n",
    "// public 멤버 형태의 메서드(함수)를 사용해야 한다.\n",
    "// 밑에 예시 \n",
    "\n",
    "public class TopSecret{\n",
    "        private int secret;\n",
    "        public void SetSecret(int x){ // private에 값을 할당하기 위한 함수\n",
    "                    secret = x;\n",
    "        }\n",
    "        \n",
    "        public int GetSecret(){  //private 값을 반환하기 위한 함수\n",
    "                    return secret;\n",
    "        }\n",
    "\n",
    "}\n",
    "\n",
    "TopSecret t = new TopSecret();\n",
    "t.SetSecret(500);\n",
    "int realsecret = t.GetSecret();\n",
    "\n",
    "Console.WriteLine(realsecret);"
   ]
  },
  {
   "cell_type": "code",
   "execution_count": null,
   "id": "2d20fd48",
   "metadata": {},
   "outputs": [],
   "source": [
    "// private 멤버 변수의 사용 이유\n",
    "// 1) 자료를 보호하기 위해서 2) 내부적으로만 사용하기 위해서 \n",
    "\n",
    "// 언제 public 멤버를 사용하는가? \n",
    "// 1) 클래스를 다른 사람에게 만들어준다고 가정 2) 다른 사람이 사용할 함수는 전부 \n",
    "// public. 그 외에는 전부 private 멤버를 사용한다. "
   ]
  },
  {
   "cell_type": "code",
   "execution_count": null,
   "id": "6dd46575",
   "metadata": {},
   "outputs": [],
   "source": [
    "// 속성(property)\n",
    "// 1) 멤버 필드에 값을 할당하는 방법 2)Set과 Get형식의 함수를 일반화한 형태 \n",
    "// 3) 스마트 필드(smart field)라고도 함\n",
    "// 속성(Property) 형식\n",
    "// private 데이터 타입 변수명;\n",
    "// public 데이터 타입 속성명 { //속성멤버\n",
    "//   set { \n",
    "//                속성 설정 구현        \n",
    "//  }\n",
    "//   get{\n",
    "//            속성 반환 구형\n",
    "//  }\n",
    "//} \n",
    "\n",
    "// set 함수 내에서 value라는 매개변수를 사용하며 외부에서 들어오는 값을 얻어낼 수 있다. \n",
    "// value는 set 접근자가 갖는 디폴트 매개변수이다.\n"
   ]
  },
  {
   "cell_type": "code",
   "execution_count": 41,
   "id": "21d58e36",
   "metadata": {},
   "outputs": [
    {
     "name": "stdout",
     "output_type": "stream",
     "text": [
      "저를 아사이말라이쿰이라고 불러주세요~!\r\n"
     ]
    }
   ],
   "source": [
    "// 속성 예시 \n",
    "\n",
    "class PropTest{\n",
    "        private string name; //소문자 이름 \n",
    "        public string Name{ //대문자 이름(Name:속성명)\n",
    "        get {  //여기서의 get은 private 멤버 변수를 반환하는 함수이다.\n",
    "            return name;\n",
    "        }\n",
    "        set{  //여기서 set 함수에서 value는 위에 속성명(input 값)을 받아와서 속성을 \n",
    "              // 설정해주는 역할을 한다. (value와 set는 짝꿍이다.)\n",
    "            name = value + \"이라고 불러주세요~!\";\n",
    "        }\n",
    "        }\n",
    "}\n",
    "\n",
    "PropTest a = new PropTest();\n",
    "a.Name = \"아사이말라이쿰\";\n",
    "//string b = a.Name\n",
    "\n",
    "Console.WriteLine(\"저를 {0}\", a.Name);\n",
    "\n",
    "// 멤버 변수와 속성을 혼동하지 않도록 주의해야 한다. \n",
    "// 속성을 사용하는 이유: 속성이 직관적이며 편리하게 값을 변경할 수 있기 때문이다. "
   ]
  },
  {
   "cell_type": "code",
   "execution_count": null,
   "id": "c335227d",
   "metadata": {},
   "outputs": [],
   "source": [
    "// 객체의 메모리 생성 \n",
    "// 객체 변수 선언: Person sister; -> 메모리 없는 변수 \n",
    "// 메모리 생성, 인스턴스 생성: sister = new Person(); -> 메모리 있는 변수 "
   ]
  },
  {
   "cell_type": "code",
   "execution_count": null,
   "id": "63a82408",
   "metadata": {},
   "outputs": [],
   "source": [
    "// 객체의 개념 \n",
    "// 답) 객체도 변수의 한 형태이며 클래스에서 만들어졌다 해서 객체 또는 인스턴스라고 \n",
    "// 부른다. "
   ]
  },
  {
   "cell_type": "code",
   "execution_count": 52,
   "id": "2a0baedc",
   "metadata": {},
   "outputs": [
    {
     "name": "stdout",
     "output_type": "stream",
     "text": [
      "501\r\n"
     ]
    }
   ],
   "source": [
    "// 구조체의 특징 \n",
    "// 1) 구조체는 상속할 수 없으며 또한 상속해 줄 수도 없다. 2) 생성자를 중복해서 만들 수\n",
    "// 있지만, 디폴트 생성자만큼은 재정의해서 사용할 수 없다. \n",
    "// 예시 \n",
    "\n",
    "struct Person{\n",
    "    public int age;\n",
    "    public long height;\n",
    "    public float weight;\n",
    "    public Person(int a, long h, float w){\n",
    "            age = a;\n",
    "            height = h;\n",
    "            weight = w;\n",
    "    }\n",
    "}//struct \n",
    "\n",
    "/* Person sister = new Person();\n",
    "sister.age = 13;\n",
    "sister.height = 155L;\n",
    "sister.weight = 67f;\n",
    "\n",
    "Console.WriteLine(sister.height);\n",
    "*/ \n",
    "\n",
    "Person mother = new Person(40, 501L, 60F);\n",
    "Console.WriteLine(mother.height);\n"
   ]
  },
  {
   "cell_type": "code",
   "execution_count": null,
   "id": "0dff3773",
   "metadata": {},
   "outputs": [],
   "source": [
    "// 클래스와 구조체의 차이 \n",
    "// 구조체: 메모리 중심의 사용자 정의 데이터 타입, 메모리 그 자체를 이용하고자 할 때에 \n",
    "// 주로 사용 \n",
    "\n",
    "// 클래스: 기능 중심의 사용자 정의 데이터 타입, 내부의 메모리가 어떠하든 간에 기능적인\n",
    "// 측면이 더 중요할 때 사용. \n"
   ]
  },
  {
   "cell_type": "code",
   "execution_count": null,
   "id": "2f70864c",
   "metadata": {},
   "outputs": [],
   "source": [
    "// 프로그램과 메모리 \n",
    "// 프로세스: 프로그램이 로딩되어 실행가능한 상태가 되었을 때의 메모리가 프로세스\n",
    "// 프로세스 == 메모리\n",
    "\n",
    "//프로세스(메모리)의 구성 -> 1) 데이터 메모리 영역, 코드 메모리 영역, 스택 메모리 영역\n",
    "\n",
    "\n",
    "// 데이터 메모리 영역: 프로그램을 실행하는데 필요한 데이터들을 위한 메모리 공간 \n",
    "// 코드 메모리 영역(클래스 영역): 어셈블리 코드가 로딩되는 영역 \n",
    "// 스택 메모리 영역: 프로그램을 실행하는데 필요한 메모리 공간\n",
    "\n",
    "// 스택 프레임(스택 메모리 산하): 하나의 함수를 호출하는데 필요한 메모리 덩어리, 함수 \n",
    "// 하나당 하나의 프레임 존재\n",
    "// 스택 프레임 구성 요소: 지역변수, 매개변수, 리턴값을 위한 공간 "
   ]
  },
  {
   "cell_type": "code",
   "execution_count": 74,
   "id": "4d1d7b59",
   "metadata": {},
   "outputs": [
    {
     "name": "stderr",
     "output_type": "stream",
     "text": [
      "\r\n",
      "(14,21): warning CS7022: 프로그램의 진입점이 전역 코드이며 'HeapMain.Main(string[])' 진입점을 무시합니다.\r\n",
      "\r\n"
     ]
    }
   ],
   "source": [
    "// stack과 Heap 메모리 \n",
    "//top 의 메모리 크기 int a, int b, int c -> 12바이트\n",
    "class top{\n",
    "    public int a = 10;\n",
    "    public int b = 20;\n",
    "    public int c = 30;\n",
    "    public int sum(){\n",
    "            int d = a + b + c;\n",
    "            return d;\n",
    "        }\n",
    "}\n",
    "\n",
    "public class HeapMain{\n",
    " public static void Main(string[] args){\n",
    "    top t = new top();\n",
    "    top s = new top();\n",
    "    s.a = 1;\n",
    "    s.b = 2;\n",
    "    s.c = 3;\n",
    "    int x = t.sum();\n",
    "    int y = s.sum();\n",
    "    Console.WriteLine(\"x={0}, y={1}\", x, y);\n",
    " }\n",
    "}"
   ]
  },
  {
   "cell_type": "code",
   "execution_count": 95,
   "id": "88f12874",
   "metadata": {},
   "outputs": [
    {
     "name": "stdout",
     "output_type": "stream",
     "text": [
      "67\r\n"
     ]
    }
   ],
   "source": [
    "// 스택과 힙의 조화 \n",
    "int[] p = new int[100]; // p라는 비어있는 배열에 100개의 공간이 차있는 정수 배열이 \n",
    "//p 배열에 할당이 된다. 하지만 할당된 100개의 값은 다 0이다. 여기서 0이 아닌 다른 값을\n",
    "// 할당하고 싶다면 해당 인덱스를 넣고 정수를 할당 해주면 해당 인덱스 위치의 값이 \n",
    "// 바뀌게 된다.\n",
    "p[99] = 67;\n",
    "Console.WriteLine(p[99]);"
   ]
  },
  {
   "cell_type": "code",
   "execution_count": null,
   "id": "e1fd3c20",
   "metadata": {},
   "outputs": [],
   "source": [
    "// Exception 이란? \n",
    "\n",
    "// 프로그래머가 생각하는 시나리오에서 벗어나는 사건을 예외라고 한다. \n",
    "// 예외 처리란 프로그램 실행 시 발생할 수 있는 얘기치 못한 예외의 발생에 대한 코드를\n",
    "// 작성하는 것이다. 예외 처리의 목적은 예외의 발생으로 인한 실행중인 프로그램의 비정상\n",
    "// 종료를 막고, 정상적인 실행 상태를 유지할 수 있도록 하는 것이다. \n",
    "\n",
    "// 프로그램 실행도중 발생하는 에러\n",
    "// 주로 런타임 상황의 에러를 의미\n",
    "// 모든 예외 클래스는 Exception 클래스를 상속받는다.\n"
   ]
  },
  {
   "cell_type": "code",
   "execution_count": 1,
   "id": "ca796688",
   "metadata": {},
   "outputs": [
    {
     "data": {
      "text/html": [
       "\r\n",
       "<div>\r\n",
       "    <div id='dotnet-interactive-this-cell-17284.Microsoft.DotNet.Interactive.Http.HttpPort' style='display: none'>\r\n",
       "        The below script needs to be able to find the current output cell; this is an easy method to get it.\r\n",
       "    </div>\r\n",
       "    <script type='text/javascript'>\r\n",
       "async function probeAddresses(probingAddresses) {\r\n",
       "    function timeout(ms, promise) {\r\n",
       "        return new Promise(function (resolve, reject) {\r\n",
       "            setTimeout(function () {\r\n",
       "                reject(new Error('timeout'))\r\n",
       "            }, ms)\r\n",
       "            promise.then(resolve, reject)\r\n",
       "        })\r\n",
       "    }\r\n",
       "\r\n",
       "    if (Array.isArray(probingAddresses)) {\r\n",
       "        for (let i = 0; i < probingAddresses.length; i++) {\r\n",
       "\r\n",
       "            let rootUrl = probingAddresses[i];\r\n",
       "\r\n",
       "            if (!rootUrl.endsWith('/')) {\r\n",
       "                rootUrl = `${rootUrl}/`;\r\n",
       "            }\r\n",
       "\r\n",
       "            try {\r\n",
       "                let response = await timeout(1000, fetch(`${rootUrl}discovery`, {\r\n",
       "                    method: 'POST',\r\n",
       "                    cache: 'no-cache',\r\n",
       "                    mode: 'cors',\r\n",
       "                    timeout: 1000,\r\n",
       "                    headers: {\r\n",
       "                        'Content-Type': 'text/plain'\r\n",
       "                    },\r\n",
       "                    body: probingAddresses[i]\r\n",
       "                }));\r\n",
       "\r\n",
       "                if (response.status == 200) {\r\n",
       "                    return rootUrl;\r\n",
       "                }\r\n",
       "            }\r\n",
       "            catch (e) { }\r\n",
       "        }\r\n",
       "    }\r\n",
       "}\r\n",
       "\r\n",
       "function loadDotnetInteractiveApi() {\r\n",
       "    probeAddresses([\"http://192.168.12.9:1000/\", \"http://127.0.0.1:1000/\"])\r\n",
       "        .then((root) => {\r\n",
       "        // use probing to find host url and api resources\r\n",
       "        // load interactive helpers and language services\r\n",
       "        let dotnetInteractiveRequire = require.config({\r\n",
       "        context: '17284.Microsoft.DotNet.Interactive.Http.HttpPort',\r\n",
       "                paths:\r\n",
       "            {\r\n",
       "                'dotnet-interactive': `${root}resources`\r\n",
       "                }\r\n",
       "        }) || require;\r\n",
       "\r\n",
       "            window.dotnetInteractiveRequire = dotnetInteractiveRequire;\r\n",
       "\r\n",
       "            window.configureRequireFromExtension = function(extensionName, extensionCacheBuster) {\r\n",
       "                let paths = {};\r\n",
       "                paths[extensionName] = `${root}extensions/${extensionName}/resources/`;\r\n",
       "                \r\n",
       "                let internalRequire = require.config({\r\n",
       "                    context: extensionCacheBuster,\r\n",
       "                    paths: paths,\r\n",
       "                    urlArgs: `cacheBuster=${extensionCacheBuster}`\r\n",
       "                    }) || require;\r\n",
       "\r\n",
       "                return internalRequire\r\n",
       "            };\r\n",
       "        \r\n",
       "            dotnetInteractiveRequire([\r\n",
       "                    'dotnet-interactive/dotnet-interactive'\r\n",
       "                ],\r\n",
       "                function (dotnet) {\r\n",
       "                    dotnet.init(window);\r\n",
       "                },\r\n",
       "                function (error) {\r\n",
       "                    console.log(error);\r\n",
       "                }\r\n",
       "            );\r\n",
       "        })\r\n",
       "        .catch(error => {console.log(error);});\r\n",
       "    }\r\n",
       "\r\n",
       "// ensure `require` is available globally\r\n",
       "if ((typeof(require) !==  typeof(Function)) || (typeof(require.config) !== typeof(Function))) {\r\n",
       "    let require_script = document.createElement('script');\r\n",
       "    require_script.setAttribute('src', 'https://cdnjs.cloudflare.com/ajax/libs/require.js/2.3.6/require.min.js');\r\n",
       "    require_script.setAttribute('type', 'text/javascript');\r\n",
       "    \r\n",
       "    \r\n",
       "    require_script.onload = function() {\r\n",
       "        loadDotnetInteractiveApi();\r\n",
       "    };\r\n",
       "\r\n",
       "    document.getElementsByTagName('head')[0].appendChild(require_script);\r\n",
       "}\r\n",
       "else {\r\n",
       "    loadDotnetInteractiveApi();\r\n",
       "}\r\n",
       "\r\n",
       "    </script>\r\n",
       "</div>"
      ]
     },
     "metadata": {},
     "output_type": "display_data"
    },
    {
     "name": "stderr",
     "output_type": "stream",
     "text": [
      "\r\n",
      "(10,21): warning CS7022: 프로그램의 진입점이 전역 코드이며 'TryCatchTest.Main()' 진입점을 무시합니다.\r\n",
      "\r\n"
     ]
    }
   ],
   "source": [
    "// try~catch문\n",
    "\n",
    "//try(예외 감시자)\n",
    "//예외가 발생할 가능성이 있는 코드의 영역을 지정\n",
    "\n",
    "//catch(예외 처리기)\n",
    "//try에서 발생한 예외를 확인하고 처리\n",
    "\n",
    "public class TryCatchTest{\n",
    "\tpublic static void Main() {\n",
    "\t\tstring str = null;\n",
    "\t\ttry{\n",
    "\t\t\tConsole.WriteLine(str.ToString());\n",
    "\t\t}catch(NullReferenceException e){\n",
    "\t\t\tConsole.WriteLine(e.ToString());\n",
    "\t\t}\n",
    "\t\tConsole.WriteLine(\"프로그램을 무사히 마칩니다.\");\n",
    "\t}\n",
    "}\n",
    "\n",
    "// 다중 catch\n",
    "// try에 여러 개의 에러가 발생할 경우 다중 catch로 처리할 수 있다.\n",
    "\n",
    "// 다중 catch문을 사용할 때의 주의사항\n",
    "// 각각의 catch문은 반드시 서로 다른 종류의 예외를 처리해야 한다.\n",
    "// catch문에서 사용될 예외 객체는 하위 예외타입을 상위 예외타입보다 먼저 사용해야 한다.\n",
    "\n",
    "\n",
    "\n"
   ]
  },
  {
   "cell_type": "code",
   "execution_count": null,
   "id": "4c51efda",
   "metadata": {},
   "outputs": [],
   "source": [
    "// throw 키워드\n",
    "// 사용자가 직접 예외를 만들어서 발생시킬 때 사용하는 키워드"
   ]
  },
  {
   "cell_type": "code",
   "execution_count": null,
   "id": "84fab68c",
   "metadata": {},
   "outputs": [],
   "source": [
    "// 스트림이란\n",
    "// 스트림이란 입출력 작업을 대행해주는 중간 매개체이다.\n",
    "// 스트림은 데이터를 읽고 기록하는 중간역할을 한다. \n",
    "// 스트림은 빨대다.\n",
    "// 빨대는 음료수를 마시는 중간역할을 한다. \n",
    "// 빨대는 입안에 있는 음료수를 다시 내뱉는 중간역할을 한다.\n",
    "\n",
    "// 입력 스트림(Input Stream)\n",
    "// 입력 스트림은 데이터를 읽어 들인다. 그리고 스트림에 존재하는 데이터를 하나씩 모두 \n",
    "// 읽어 들일 수 있다. \n",
    "// 음료수를 마실 때 빨대를 이용해서 음료수를 빨대에 모으고 빨대에 들어있는 음료수를 \n",
    "// 흡입한다. 그러면 입안으로 음료수가 들어올 것이다.\n",
    "\n",
    "// 출력 스트림(Output Stream)\n",
    "// 출력 스트림으로 데이터를 보낸다. 그리고 출력 스트림에 보낸 데이터를 비워버린다.\n",
    "// 그렇게 되면 출력 스트림에 존재하던 데이터가 모두 목표지점에 저장된다.\n",
    "// 입안에 있던 음료수를 빨대로 일단 보낸다. 빨대에 들어있는 음료수를 불어버린다.\n",
    "// (Flush) 그렇게 되면 음료수는 다시 컵 안으로 들어가게 된다.\n"
   ]
  },
  {
   "cell_type": "code",
   "execution_count": 2,
   "id": "663e1e69",
   "metadata": {},
   "outputs": [
    {
     "name": "stderr",
     "output_type": "stream",
     "text": [
      "\r\n",
      "(13,1): error CS0246: 'FileInfo' 형식 또는 네임스페이스 이름을 찾을 수 없습니다. using 지시문 또는 어셈블리 참조가 있는지 확인하세요.\r\n",
      "\r\n",
      "(13,19): error CS0246: 'FileInfo' 형식 또는 네임스페이스 이름을 찾을 수 없습니다. using 지시문 또는 어셈블리 참조가 있는지 확인하세요.\r\n",
      "\r\n"
     ]
    },
    {
     "ename": "Error",
     "evalue": "compilation error",
     "output_type": "error",
     "traceback": []
    }
   ],
   "source": [
    "// 파일과 디렉터리를 나타내는 클래스\n",
    "\n",
    "//  파일(File), 디렉터리(Directory) 관련 클래스들\n",
    "// FileSystemInfo : 파일 시스템을 나타내는 기본 클래스\n",
    "// Directory, DirectoryInfo : 디렉터리를 나타내는 기본 클래스\n",
    "// File, FileInfo : 파일을 나타내는 기본 클래스\n",
    "// Path : 경로를 조작하기 위한 기본 클래스\n",
    "\n",
    "// File 클래스를 이용한 예\n",
    "File.Copy((@\"c:\\test\\a.txt\", @\"c:\\test\\b.txt\");\n",
    "\n",
    "// FileInfo 클래스를 이용한 예\n",
    "FileInfo fi = new FileInfo(@\"c:\\test\\a.txt\");\n",
    "fi.CopyTo(@\"c:\\test\\b.txt\");\n",
    "\n",
    "\n"
   ]
  },
  {
   "cell_type": "code",
   "execution_count": null,
   "id": "e858e4ad",
   "metadata": {},
   "outputs": [],
   "source": [
    "// File 클래스\n",
    "\n",
    "// File 클래스\n",
    "// public sealed class File\n",
    "// 파일 관련 함수 제공\n",
    "// 멤버 함수들이 public static으로 선언\n",
    "\n",
    "// 파일 복사하기\n",
    "File.Copy(\"FileTest.cs\", \"Output.txt\", true);\n",
    "\n",
    "// 파일 존재 확인하기\n",
    "bool exist = File.Exists(\"./Output.txt\");\n",
    "\n",
    "// 파일 생성 시간 알아내기\n",
    "DateTime dt = File.GetCreationTime(\"./Output.txt\");\n"
   ]
  },
  {
   "cell_type": "code",
   "execution_count": null,
   "id": "3bf98c46",
   "metadata": {},
   "outputs": [],
   "source": [
    "// File 클래스를 이용한 FileStream 생성\n",
    "\n",
    "FileStream fs = File.OpenRead(\"./hero1.txt\"); //File을 이용해서 파일 스트림 생성\n",
    "\n",
    "\n",
    "StreamReader r = new StreamReader(fs, System.Text.Encoding.Default); //문자 스트림 변환\n",
    "\n",
    "\n",
    "r.BaseStream.Seek(0, SeekOrigin.Begin); //커서의 위치를 첫 부분에 위치시킨다.\n",
    "// 기준점에서 0떨어진 지점으로 키를 이동시킨다.\n",
    "\n",
    "while(r.Peek()>-1) { //데이터가 존재한다면 한 줄씩 읽어낸다\n",
    "\tConsole.WriteLine(r.ReadLine());\n",
    "}\n",
    "\n",
    "r.Close(); //스트림을 닫는다.\n",
    "\n",
    "// Begin : 스트림의 맨 앞을 지정합니다. \n",
    "// Current : 스트림 내의 현재 위치를 지정합니다. \n",
    "// End : 스트림의 맨 끝을 지정합니다\n"
   ]
  },
  {
   "cell_type": "code",
   "execution_count": null,
   "id": "76c5db2a",
   "metadata": {},
   "outputs": [],
   "source": [
    "// Directory 클래스\n",
    "\n",
    "// 디렉터리 생성하기\n",
    "Directory.CreateDirectory(@\"C:\\csharp\\chap07\\NewFolder\");//디렉터리 생성\n",
    "\n",
    "// 디렉터리 존재 확인하기\n",
    "if(Directory.Exists(@\"C:\\csharp\\chap07\\NewFolder\")){//디렉터리 존재확인\n",
    "\tConsole.WriteLine(\"해당 디렉터리가 존재합니다.\");\n",
    "}else{\n",
    "\tConsole.WriteLine(\"해당 디렉터리가 존재하지 않습니다.\");\n",
    "}\n",
    "\n",
    "// 디렉터리 내의 파일목록 출력\n",
    "string[ ] files = Directory.GetFiles(\".\");//디렉터리 내 파일얻기 \n",
    "for(int i= 0; i<files.Length; i++) {\n",
    "\tConsole.WriteLine(files[i]);\n",
    "}\n",
    "\n",
    "// 디렉터리 내의 서브디렉터리 목록 출력\n",
    "string[ ] dirs = Directory.GetDirectories(\".\");//서브 디렉터리얻기 \n",
    "for(int i= 0; i<dirs.Length; i++) {\n",
    "\tConsole.WriteLine(dirs[i]);"
   ]
  },
  {
   "cell_type": "code",
   "execution_count": null,
   "id": "59575df3",
   "metadata": {},
   "outputs": [],
   "source": [
    "// Path 클래스\n",
    "\n",
    "// 파일이나 디렉터리의 경로의 확장 및 변경, 수정하기 위한 클래스\n",
    "// 멤버 함수, 멤버 필드 모두 public static으로 선언되어 있다.\n",
    "\n",
    "// 시스템의 디렉터리 구분 문자 얻어내기\n",
    "char ps = Path.DirectorySeparatorChar;\n",
    "Console.WriteLine(\"1. Path.DirectorySeparatorChar:\" + ps);\n",
    "\n",
    "// 경로 결합하기\n",
    "string path1 = @\"C:\\csharp\\\";\n",
    "string path2 = @\"chap07\\Path\";\n",
    "Console.WriteLine(\"2. 디렉터리 결합:\" + Path.Combine(path1, path2));\n",
    "\n",
    "// 파일 이름만 얻어내기\n",
    "string str = Path.GetFileName(@\"C:\\csharp\\chap07\\PathTest.cs\");\n",
    "Console.WriteLine(\"3. 파일이름얻기:\" + str);\n"
   ]
  },
  {
   "cell_type": "code",
   "execution_count": 17,
   "id": "d2d797a1",
   "metadata": {},
   "outputs": [
    {
     "name": "stdout",
     "output_type": "stream",
     "text": [
      "S\n",
      "S"
     ]
    },
    {
     "data": {
      "text/html": [
       "<div class=\"dni-plaintext\">&lt;null&gt;</div>"
      ]
     },
     "execution_count": 17,
     "metadata": {},
     "output_type": "execute_result"
    }
   ],
   "source": [
    "// Stream 클래스 \n",
    "\n",
    "// 기본적인 입출력에 관련된 함수를 포함하고 있다.\n",
    "\n",
    "using System.IO;\n",
    "\n",
    "// 콘솔의 입력 스트림 얻어내기\n",
    "Stream st = Console.OpenStandardInput();\n",
    "\n",
    "// 스트림의 속성 출력하기\n",
    "// Console.WriteLine(\"CanRead:\" + st.CanRead);\n",
    "\n",
    "// 스트림 끝까지 읽어내기\n",
    "int ch;\n",
    "Console.WriteLine(\"S\");\n",
    "Console.Write(\"S\");\n",
    "while((ch=st.ReadByte()) != -1){ //ReadByte()의 리턴값이 -1이면 더 이상 데이터가 없다는 \n",
    "// 것을 의미한다.\n",
    "\tif(ch == 83){ //83은 'S'\n",
    "\t\tConsole.WriteLine(\"stop\");\n",
    "\t\treturn;\n",
    "\t}\n",
    "\tConsole.WriteLine((char)ch +\":\"+ ch);\n",
    "}"
   ]
  },
  {
   "cell_type": "markdown",
   "id": "2d3e08c2",
   "metadata": {},
   "source": [
    "Stream 실제 사용법 예시 \n",
    "-> https://m.blog.naver.com/PostView.naver?isHttpsRedirect=true&blogId=sfast&logNo=10107430024"
   ]
  },
  {
   "cell_type": "code",
   "execution_count": 24,
   "id": "7c49e9e3",
   "metadata": {},
   "outputs": [],
   "source": [
    "\n",
    "class OverrideToString{\n",
    "\tprivate string name;\n",
    "\tprivate int id;\n",
    "\tpublic OverrideToString(string name, int id){\n",
    "\t\tthis.name = name;\n",
    "\t\tthis.id = id;\n",
    "\t}\n",
    "\tpublic override String ToString(){\n",
    "\t\treturn name + ' ' + id;\n",
    "\t}\n",
    "}\n",
    "\n",
    "OverrideToString t = new OverrideToString(\"방자\", 1000);\n",
    "string str  = t.ToString();\n",
    "\n"
   ]
  },
  {
   "cell_type": "code",
   "execution_count": 29,
   "id": "a6e8f34a",
   "metadata": {},
   "outputs": [
    {
     "name": "stdout",
     "output_type": "stream",
     "text": [
      "True\n",
      "True\n",
      "True\n",
      "True\n",
      "False\n",
      "True\n",
      "True\n",
      "True\n",
      "False\n",
      "True\n",
      "True\n"
     ]
    }
   ],
   "source": [
    "// Object 클래스란?\n",
    "\n",
    "// .NET Framework 최상위 클래스\n",
    "// 모든 클래스는 Object 클래스를 상속 -> 모든 클래스는 자동으로 Object class가 자동으로\n",
    "// 상속이 되어진다.\n",
    "\n",
    "// Object 클래스의 멤버 함수\n",
    "// public virtual bool Equals(object obj)\n",
    "// public static bool Equals(object obj1, object obj2)\n",
    "// public static bool ReferenceEquals(object obj1, object obj2) \n",
    "// public virtual int GetHashCode()\n",
    "// public Type GetType() \n",
    "// public virtual string ToString()\n",
    "// protected ~Object() \n",
    "\n",
    "\n",
    "// public virtual bool Equals(object obj)\n",
    "// 기본적으로는 참조비교를 원칙으로 한다.\n",
    "// 재정의를 기본으로 하기 때문에 virtual 함수이다.\n",
    "// 재정의해서 다양한 객체의 비교로 활용할 수 있음. 재정의를 어떻게 할지는 프로그래머의 몫이다.\n",
    "// 닷넷에서 지원하는 클래스 중 미리 Equals() 함수를 재정의한 경우가 대부분이다.\n",
    "// string 클래스의 경우 string 객체 내의 문자열 자체를 비교하는 값비교로 재정의되어 있다\n",
    "\n",
    "// public static bool Equals(object obj1, object obj2)\n",
    "// 해당 객체의 virtual Equals() 함수와 같은 기능을 한다.\n",
    "// null이라도 비교가 가능하다.(둘 다 null이면 true)\n",
    "// 매개변수로 들어오는 객체의 virtual Equals()를 사용해서 비교한다.\n",
    "\n",
    "// public static bool ReferenceEquals(object obj1, object obj2)\n",
    "// 객체의 참조값 자체를 비교\n",
    "\n",
    "// null 비교\n",
    "Object A = null;\n",
    "Object B = null;\n",
    "Console.WriteLine(Object.Equals(A, B)); //True\n",
    "Console.WriteLine(Object.ReferenceEquals(A, B)); //True\n",
    "\n",
    "// 박싱된 객체의 비교 \n",
    "int C = 1000;\n",
    "int D = 1000;\n",
    "Console.WriteLine(C.Equals(D)); //True 값비교\n",
    "Console.WriteLine(Object.Equals(C, D)); //True 값비교\n",
    "Console.WriteLine(Object.ReferenceEquals(C, D)); //False\n",
    "\n",
    "// 문자열의 비교\n",
    "string E = \"hello\";\n",
    "string F = \"hello\";\n",
    "Console.WriteLine(E.Equals(F)); //True \n",
    "Console.WriteLine(Object.Equals(E, F)); //True \n",
    "Console.WriteLine(Object.ReferenceEquals(E, F)); //True \n",
    "\n",
    "// 객체 비교 \n",
    "Object G = new Object();\n",
    "Object H = new Object();\n",
    "Object I = H;\n",
    "Console.WriteLine(G.Equals(H)); //False\n",
    "Console.WriteLine(Object.Equals(I, H)); //True \n",
    "Console.WriteLine(Object.ReferenceEquals(I, H)); //True\n",
    "\n",
    "\n",
    "\n",
    "\n",
    "\n",
    "\n",
    "\n",
    "\n",
    "\n"
   ]
  },
  {
   "cell_type": "code",
   "execution_count": null,
   "id": "8f9d45bf",
   "metadata": {},
   "outputs": [],
   "source": [
    "235 "
   ]
  },
  {
   "cell_type": "code",
   "execution_count": 35,
   "id": "aa6e402d",
   "metadata": {},
   "outputs": [
    {
     "name": "stderr",
     "output_type": "stream",
     "text": [
      "\r\n",
      "(23,17): error CS1061: 'OverrideToString'에는 'toString'에 대한 정의가 포함되어 있지 않고, 'OverrideToString' 형식의 첫 번째 인수를 허용하는 액세스 가능한 확장 메서드 'toString'이(가) 없습니다. using 지시문 또는 어셈블리 참조가 있는지 확인하세요.\r\n",
      "\r\n",
      "(18,3): error CS0127: 'OverrideToString.OverrideToString()'이(가) void를 반환하므로 return 키워드 뒤에 개체 식이 나오면 안 됩니다.\r\n",
      "\r\n"
     ]
    },
    {
     "ename": "Error",
     "evalue": "compilation error",
     "output_type": "error",
     "traceback": []
    }
   ],
   "source": [
    "// ToString() 함수 \n",
    "// 객체의 요약 정보를 문자열로 리턴하는 함수\n",
    "\n",
    "// 디폴트 ToString()\n",
    "// 네임스페이스와 클래스 타입명을 리턴한다.\n",
    "\n",
    "// ToString()의 목적\n",
    "// 재정의해서 사용자가 원하는 정보를 리턴하는 용도로 사용된다.\n",
    "\n",
    "class OverrideToString{\n",
    "\tprivate string name;\n",
    "\tprivate int id;\n",
    "\tpublic OverrideToString(string name, int id){\n",
    "\t\tthis.name = name;\n",
    "\t\tthis.id = id;\n",
    "\t}\n",
    "\tpublic override String ToString(){\n",
    "\t\treturn name + ' ' + id;\n",
    "\t}\n",
    "}"
   ]
  },
  {
   "cell_type": "code",
   "execution_count": 31,
   "id": "d423fcb6",
   "metadata": {},
   "outputs": [
    {
     "name": "stdout",
     "output_type": "stream",
     "text": [
      "System.Object\r\n"
     ]
    }
   ],
   "source": [
    "Object obj = new Object();\n",
    "Console.WriteLine(obj.ToString());"
   ]
  },
  {
   "cell_type": "code",
   "execution_count": 26,
   "id": "cf3d2865",
   "metadata": {},
   "outputs": [
    {
     "name": "stdout",
     "output_type": "stream",
     "text": [
      "클래스 객체 h1 => 16448556\n",
      "클래스 객체 h2 => 7246076\n",
      "Object 객체 obj => 8809612\n",
      "string 변수 s => 2069639647\n",
      "string 변수 t => 2069639647\n",
      "int형 변수 i => 10000\n",
      "int형 변수 j => 10000\n"
     ]
    }
   ],
   "source": [
    "// GetHashCode() 함수\n",
    "// 해시코드란?\n",
    "// 객체를 식별하는 고유한 ID\n",
    "// GetHashCode()에 의해서 반환\n",
    "// 사용자가 GetHashCode()를 재정의해서 사용할 수 있음\n",
    "\n",
    "class HashBase{\n",
    "\tprivate int hash;\t\n",
    "\tpublic HashBase(int h){\n",
    "\t\thash = h;\n",
    "\t}\n",
    "}\n",
    "\n",
    "\n",
    "HashBase h1 = new HashBase(10);\n",
    "HashBase h2 = new HashBase(10);\n",
    "Object obj = new Object();\n",
    "string s = \"hahaha\";\n",
    "string t = \"hahaha\";\n",
    "int i = 10000;\n",
    "int j = 10000;\n",
    "Console.WriteLine(\"클래스 객체 h1 => \" + h1.GetHashCode());\n",
    "Console.WriteLine(\"클래스 객체 h2 => \" + h2.GetHashCode());\n",
    "Console.WriteLine(\"Object 객체 obj => \" + obj.GetHashCode());\n",
    "Console.WriteLine(\"string 변수 s => \" + s.GetHashCode());\n",
    "Console.WriteLine(\"string 변수 t => \" + t.GetHashCode());\n",
    "Console.WriteLine(\"int형 변수 i => \" + i.GetHashCode());\n",
    "Console.WriteLine(\"int형 변수 j => \" + j.GetHashCode());\n"
   ]
  },
  {
   "cell_type": "code",
   "execution_count": 28,
   "id": "83cc1cd7",
   "metadata": {},
   "outputs": [
    {
     "name": "stdout",
     "output_type": "stream",
     "text": [
      "False\n",
      "True\n",
      "True\n"
     ]
    }
   ],
   "source": [
    "// MemberwiseClone() 함수\n",
    "\n",
    "// 객체 복사\n",
    "// 얕은 복사 : Object의 MemberWiseClone()이 자동으로 지원해준다.\n",
    "// 깊은 복사 : 직접 구현해서 사용해야 한다.\n",
    "\n",
    "class Top{\n",
    "\tpublic int a = 100;\n",
    "\tpublic int b = 200;\n",
    "}\n",
    "class Child{\n",
    "\tpublic int age = 10;\n",
    "\tpublic object height = 20;\n",
    "\tpublic Top grand = new Top();\n",
    "\tpublic Child Copy(){\n",
    "\t\treturn (Child)base.MemberwiseClone();\n",
    "\t}\n",
    "}\n",
    "Child c1 = new Child();\n",
    "Child c2 = c1.Copy();\n",
    "Console.WriteLine(object.ReferenceEquals(c1, c2));//다른 참조\n",
    "Console.WriteLine(object.ReferenceEquals(c1.height, c2.height));//다른 참조\n",
    "Console.WriteLine(object.ReferenceEquals(c1.grand, c2.grand));//다른 참조"
   ]
  },
  {
   "cell_type": "code",
   "execution_count": 38,
   "id": "335c85db",
   "metadata": {},
   "outputs": [
    {
     "name": "stdout",
     "output_type": "stream",
     "text": [
      "AType.F1\n",
      "AType.F2 x=1000\n"
     ]
    }
   ],
   "source": [
    "// 대리자 Delegate 란? \n",
    "// 함수(class가 아닌)를 보다 효율적으로 사용하기 위해서 특정 함수 자체를 \n",
    "// 캡슐화하는 기능을 가지고 있다.\n",
    "\n",
    "// 함수에 맞는 Delegate 선언하기\n",
    "delegate void SimpleDelegate1();\n",
    "delegate void SimpleDelegate2(int i);\n",
    "\n",
    "class AType{\n",
    "                        // Delegate할 함수\n",
    "public void F1(){\n",
    "\t\tSystem.Console.WriteLine(\"AType.F1\");\n",
    "\t}\n",
    "\tpublic void F2(int x){\n",
    "\t\tSystem.Console.WriteLine(\"AType.F2 x=\" + x);\n",
    "\t}\n",
    "}\n",
    "// Delegate할 함수를 포함한 클래스의 객체 만들기\n",
    "AType atype = new AType();\n",
    "\n",
    "// Delegate 생성\n",
    "SimpleDelegate1 s1 = new SimpleDelegate1(atype.F1); \n",
    "SimpleDelegate2 s2 = new SimpleDelegate2(atype.F2); \n",
    "\n",
    "// Delegate 호출\n",
    "s1(); //Delegate를 이용한 호출 1\n",
    "s2(1000); //Delegate를 이용한 호출 2"
   ]
  },
  {
   "cell_type": "code",
   "execution_count": 40,
   "id": "5fc63f0c",
   "metadata": {},
   "outputs": [
    {
     "name": "stdout",
     "output_type": "stream",
     "text": [
      "Normal Method입니다.!!\tJabook\n",
      "Static Method입니다.!!\t소설같은 C#\n"
     ]
    }
   ],
   "source": [
    "// Delegate를 위한 함수 \n",
    "\n",
    "// 델리게이트 선언하기\n",
    "delegate void TopDelegator(string str);\n",
    "\n",
    "// 델리게이트에 사용할 함수\n",
    "class Top{\n",
    "// 스태틱 함수\n",
    "\tpublic static void StaticMethod(string str)\t{\n",
    "\t\tConsole.Write(\"Static Method입니다.!!\\t\");\n",
    "\t\tConsole.WriteLine(str); \n",
    "\t}\n",
    "// 일반 함수 \n",
    "\tpublic void NormalMethod(string str){\n",
    "\t\tConsole.Write(\"Normal Method입니다.!!\\t\");\n",
    "\t\tConsole.WriteLine(str); \n",
    "\t}\n",
    "}//class\n",
    "\n",
    "// 델리게이트의 사용\n",
    "Top t = new Top();\n",
    "TopDelegator td1= new TopDelegator(t.NormalMethod);\n",
    "td1(\"Jabook\");\n",
    "TopDelegator td2 = new TopDelegator(Top.StaticMethod); //static함수는 참조변수를 만들지\n",
    "// 않고 그냥 기존 class를 그대로 가져와서 함수를 사용하는 것 같다. \n",
    "td2(\"소설같은 C#\");"
   ]
  },
  {
   "cell_type": "code",
   "execution_count": 49,
   "id": "417556e0",
   "metadata": {},
   "outputs": [
    {
     "name": "stdout",
     "output_type": "stream",
     "text": [
      "Normal Method입니다!!\tadd TopDelegator 1\n",
      "Normal Method입니다!!\tadd TopDelegator 2\n",
      "Static Method입니다!!\tadd TopDelegator 2\n",
      "Static Method입니다!!\tremove TopDelegator 1\n"
     ]
    }
   ],
   "source": [
    "// Multi Delegate의 구현 \n",
    "\n",
    "// 델리게이트의 선언\n",
    "delegate void TopDelegator(string str);\n",
    "\n",
    "// 델리게이트로 사용할 함수\n",
    "class Top{\n",
    "\tpublic static void StaticMethod(string str){\n",
    "\t\tConsole.Write(\"Static Method입니다!!\\t\");\n",
    "\t\tConsole.WriteLine(str);\n",
    "\t}\n",
    "\tpublic void NormalMethod(string str){\n",
    "\t\tConsole.Write(\"Normal Method입니다!!\\t\");\n",
    "\t\tConsole.WriteLine(str);\n",
    "\t}\n",
    "}//class\n",
    "\n",
    "// 멀티 델리게이트의 생성 및 호출\n",
    "Top t = new Top();\n",
    "TopDelegator bank;\n",
    "TopDelegator td1 = new TopDelegator(t.NormalMethod);\n",
    "TopDelegator td2= new TopDelegator(Top.StaticMethod);\n",
    "bank = td1;\n",
    "bank(\"add TopDelegator 1\");//하나의 Delegate호출\n",
    "bank += td2;\n",
    "bank(\"add TopDelegator 2\");//두개의 Delegate호출\n",
    "bank -= td1;\n",
    "bank(\"remove TopDelegator 1\");//하나의 Delegate제거후 하나의 Deleate 호출"
   ]
  },
  {
   "cell_type": "code",
   "execution_count": 46,
   "id": "c5a38344",
   "metadata": {},
   "outputs": [
    {
     "name": "stdout",
     "output_type": "stream",
     "text": [
      "Normal Method입니다!!\tI feel this comming~!\n",
      "Static Method입니다!!\tI'm comming from just right behind of you bro~!\n"
     ]
    }
   ],
   "source": [
    "// 멀티 델리게이트를 사용하지 않고 출력해보기 \n",
    "\n",
    "// 델리게이트의 선언\n",
    "delegate void TopDelegator(string str);\n",
    "\n",
    "// 델리게이트로 사용할 함수\n",
    "class Top{\n",
    "\tpublic static void StaticMethod(string str){\n",
    "\t\tConsole.Write(\"Static Method입니다!!\\t\");\n",
    "\t\tConsole.WriteLine(str);\n",
    "\t}\n",
    "\tpublic void NormalMethod(string str){\n",
    "\t\tConsole.Write(\"Normal Method입니다!!\\t\");\n",
    "\t\tConsole.WriteLine(str);\n",
    "\t}\n",
    "}//class\n",
    "\n",
    "// 멀티 델리게이트를 사용하지 않고 출력해보기 \n",
    "Top t = new Top();\n",
    "TopDelegator bank; //멀티로 사용할 녀석\n",
    "TopDelegator td1 = new TopDelegator(t.NormalMethod);\n",
    "TopDelegator td2= new TopDelegator(Top.StaticMethod);\n",
    "td1(\"I feel this comming~!\");\n",
    "td2(\"I'm comming from just right behind of you bro~!\");"
   ]
  },
  {
   "cell_type": "code",
   "execution_count": null,
   "id": "a831ca5d",
   "metadata": {},
   "outputs": [],
   "source": [
    "// 애트리뷰트 Attribute \n",
    "// 애트리뷰트는 클래스에 메타데이터를 추가할수 있도록 제공되는 녀석입니다. \n",
    "// 주석과는 달리 클래스부터 시작해서 메소드, 구조체, 생성자, 프로퍼티, 필드, 이벤트, \n",
    "// 인터페이스 등 여러가지 요소에 애트리뷰트를 사용할 수 있습니다.\n",
    "\n",
    "// [attribute명(positional_parameter, name_parameter = value, ...)]\n",
    "// 여기서 positional_parameter는 위치지정 파라미터라고 해서 반드시 적어야하는\n",
    "// 부분으로, \" \"를 사용하여 작성합니다. 그리고 name_parameter는 명명 파라미터로, \n",
    "// 선택적인 정보이며 = 를 사용해서 값을 기입합니다. 이 애트리뷰트는 크게 두가지로 \n",
    "// 나뉘는데, 사용자가 정의하는 커스텀 애트리뷰트와 내장되어 있는 공통 애트리뷰트로\n",
    "// 나뉩니다. 공통 애트리뷰트의 경우는 추가된 정보가 컴파일 방식에 영향을 줄 수 있는데,\n",
    "// 반대로 커스텀 애트리뷰트는 영향을 주지 못합니다. \n",
    "\n"
   ]
  },
  {
   "cell_type": "code",
   "execution_count": 54,
   "id": "1d22aa2e",
   "metadata": {},
   "outputs": [],
   "source": [
    "// 애트리뷰트 생성\n",
    "public class AppleAttribute : Attribute{\n",
    "\tprivate string msg;\n",
    "\tpublic AppleAttribute(string msg){\n",
    "\t\tthis.msg = msg;\n",
    "\t}\n",
    "\tpublic string GetMsg(){\n",
    "\t\treturn this.msg;\n",
    "\t}\n",
    "}\n",
    "\n",
    "// 애트리뷰트 클래스를 이용한 애트리뷰트 객체 생성하기\n",
    "[AppleAttribute(\"사과를 위한 클래스입니다.\")] // Attribute 객체 생성\n",
    "public class AppleStore{\n",
    "\t[AppleAttribute(\"사과의 개수 나타내는 필드입니다.\")] // Attribute 객체 생성\n",
    "\tpublic int count = 5;\n",
    "\t\n",
    "\t[AppleAttribute(\"사과의 개수를 리턴하는 함수입니다.\")] // Attribute 객체 생성\n",
    "\tpublic int GetCount(){\n",
    "\t\treturn this.count;\n",
    "\t}\n",
    "}\n"
   ]
  },
  {
   "cell_type": "code",
   "execution_count": 65,
   "id": "41da4882",
   "metadata": {},
   "outputs": [
    {
     "name": "stderr",
     "output_type": "stream",
     "text": [
      "\r\n",
      "(26,1): error CS0201: 대입, 호출, 증가, 감소 및 새 개체 식만 문으로 사용할 수 있습니다.\r\n",
      "\r\n"
     ]
    },
    {
     "ename": "Error",
     "evalue": "compilation error",
     "output_type": "error",
     "traceback": []
    }
   ],
   "source": [
    "// Conditional 애트리뷰트\n",
    "\n",
    "#define JABOOK\n",
    "using System;\n",
    "using System.Diagnostics;\n",
    "\n",
    "class ConditionalTest{\n",
    "[Conditional(\"JABOOK\")]\n",
    "\tpublic static void DefineMethod(){\n",
    "\t\tConsole.WriteLine(\"Define Conditional 애트리뷰트!!\");\n",
    "\t}\n",
    "\n",
    "\t[Conditional(\"MICROSOFT\")]\n",
    "\tpublic static void UndefineMethod(){\n",
    "\t\tConsole.WriteLine(\"Undefine Conditional 애트리뷰트!!\");\t\n",
    "\t}\n",
    "\n",
    "\tpublic static void Main(){\n",
    "\t\tConditionalTest.DefineMethod();\n",
    "\t\tConditionalTest.UndefineMethod();\n",
    "\t}//Main\n",
    "\n",
    "}//class\n",
    "\n",
    "ConditionalTest a = new ConditionalTest();\n",
    "a;\n",
    "\n",
    "\n",
    "\n",
    "// Conditional 에트리뷰트를 정리하자면, 앞에 #define으로 먼저 정의해주지 않고 \n",
    "// 바로 Attribute를 추가한다면 호출되지 않는다. "
   ]
  },
  {
   "cell_type": "code",
   "execution_count": 74,
   "id": "04480b5b",
   "metadata": {},
   "outputs": [
    {
     "name": "stdout",
     "output_type": "stream",
     "text": [
      "Obsolete Attribute Method!!\n",
      "Normal Method!!\n"
     ]
    },
    {
     "name": "stderr",
     "output_type": "stream",
     "text": [
      "\r\n",
      "(13,21): warning CS7022: 프로그램의 진입점이 전역 코드이며 'ObsoleteTest.Main()' 진입점을 무시합니다.\r\n",
      "\r\n",
      "(19,1): warning CS0618: 'ObsoleteTest.ObsoMethod()'은(는) 사용되지 않습니다. '지금 Obsolete로 선언된 함수를 사용하였습니다. '\r\n",
      "\r\n",
      "(14,3): warning CS0618: 'ObsoleteTest.ObsoMethod()'은(는) 사용되지 않습니다. '지금 Obsolete로 선언된 함수를 사용하였습니다. '\r\n",
      "\r\n"
     ]
    }
   ],
   "source": [
    "// Obsolete 애트리뷰트 \n",
    "// Obsolete 애트리뷰트 가 붙어있는 함수를 호출하게 되면은 경고가 나타나게 된다.\n",
    "// 아무래도 Obsolete이라는 뜻이 구식이라는 뜻이어서 지양하는 문구가 뜨는게 아닐까?? \n",
    "\n",
    "class ObsoleteTest{\n",
    "\t[Obsolete(\"지금 Obsolete로 선언된 함수를 사용하였습니다. \")]\n",
    "\tpublic static void ObsoMethod(){\n",
    "\t\tConsole.WriteLine(\"Obsolete Attribute Method!!\");\n",
    "\t}\n",
    "\tpublic static void NormMethod(){\n",
    "\t\tConsole.WriteLine(\"Normal Method!!\");\n",
    "\t}\n",
    "\tpublic static void Main(){\n",
    "\t\tObsoleteTest.ObsoMethod();\n",
    "\t\tObsoleteTest.NormMethod();\n",
    "\t}//Main\n",
    "}//class\n",
    "\n",
    "ObsoleteTest.ObsoMethod();\n",
    "ObsoleteTest.NormMethod();"
   ]
  },
  {
   "cell_type": "code",
   "execution_count": 97,
   "id": "c824d511",
   "metadata": {},
   "outputs": [
    {
     "name": "stderr",
     "output_type": "stream",
     "text": [
      "\r\n",
      "(16,21): warning CS7022: 프로그램의 진입점이 전역 코드이며 'DllImport.Main()' 진입점을 무시합니다.\r\n",
      "\r\n"
     ]
    }
   ],
   "source": [
    "// DllImport\n",
    "\n",
    "// DllImport는 System입니다.Runtime.InteropServices 네임스페이스 아래의 속성 \n",
    "// 클래스입니다. 따라서 ASP.NET에서 DllImport를 사용하려면 먼저 \"using System.Runtime.\n",
    "// Interop Services;\"를 선택해야 합니다.관리되지 않는 DLL에서 내보낸 함수를 호출하는\n",
    "// 데 필요한 정보를 제공합니다.DllImport 속성은 메서드에 적용되며 엔트리 포인트를\n",
    "// 포함하는 dll의 이름을 최소한 입력해야 합니다.\n",
    "\n",
    "\n",
    "using System.Runtime.InteropServices;\n",
    "class DllImport{\n",
    "\n",
    "\t[DllImport(\"User32.dll\")]\n",
    "\tpublic static extern int MessageBox(int i, string text, string title, int type);\n",
    "\t\n",
    "\tpublic static void Main()\t{\n",
    "\t\tMessageBox(0, \"you'll never know this shit!\", \"DllImport Test\", 3);\t\n",
    "\t}\n",
    "}\n",
    "\n",
    "DllImport.Main();"
   ]
  },
  {
   "cell_type": "code",
   "execution_count": null,
   "id": "122c98a4",
   "metadata": {},
   "outputs": [],
   "source": [
    "// Windows Form 개요\n",
    "\n",
    "// 윈폼 프로그래밍(WinForm Programming)\n",
    "// 공용 언어 런타임의 Windows 응용 프로그램밍\n",
    "\n",
    "// Windows Form의 구성요소\n",
    "\n",
    "// 폼(Form)\n",
    "// 프로그램이 표시되는 창\n",
    "// Form 클래스를 이용해서 구현\n",
    "\n",
    "// 컨트롤(Control)\n",
    "// 버튼, 텍스트 박스 등 폼에 추가되는 구성요소들\n",
    "\n",
    "// 이벤트(Event)\n",
    "// 버튼을 클릭하거나 스크롤바를 움직이는 등 컨트롤에 변화가 생길 때 발생하는 상황\n",
    "// 이벤트가 발생한 다음 이벤트에 맞는 처리를 해주는 것이 윈폼의 핵심\n"
   ]
  },
  {
   "cell_type": "code",
   "execution_count": 99,
   "id": "bf9e3b20",
   "metadata": {},
   "outputs": [
    {
     "name": "stderr",
     "output_type": "stream",
     "text": [
      "\r\n",
      "(7,1): error CS0246: 'HelloForm' 형식 또는 네임스페이스 이름을 찾을 수 없습니다. using 지시문 또는 어셈블리 참조가 있는지 확인하세요.\r\n",
      "\r\n",
      "(7,22): error CS0246: 'HelloForm' 형식 또는 네임스페이스 이름을 찾을 수 없습니다. using 지시문 또는 어셈블리 참조가 있는지 확인하세요.\r\n",
      "\r\n",
      "(10,1): error CS0103: 'Application' 이름이 현재 컨텍스트에 없습니다.\r\n",
      "\r\n"
     ]
    },
    {
     "ename": "Error",
     "evalue": "compilation error",
     "output_type": "error",
     "traceback": []
    }
   ],
   "source": [
    "// 폼 생성 순서\n",
    "\n",
    "// 폼 사용을 위한 네임스페이스의 using\n",
    "using System.Windows.Forms;\n",
    "\n",
    "// 폼을 상속하여 사용자 정의 폼을 생성 \n",
    "HelloForm form = new HelloForm();\n",
    "\n",
    "// Application.Run() 함수 실행\n",
    "Application.Run(form); \n"
   ]
  },
  {
   "cell_type": "code",
   "execution_count": 101,
   "id": "c5be8ff6",
   "metadata": {},
   "outputs": [
    {
     "name": "stderr",
     "output_type": "stream",
     "text": [
      "\r\n",
      "(5,1): error CS7021: 스크립트 코드에서 네임스페이스를 선언할 수 없습니다.\r\n",
      "\r\n"
     ]
    },
    {
     "ename": "Error",
     "evalue": "compilation error",
     "output_type": "error",
     "traceback": []
    }
   ],
   "source": [
    "// 전체 소스 코드 \n",
    "\n",
    "using System.Windows.Forms;\n",
    "\n",
    "namespace FormApp {\n",
    "    public class HelloForm : System.Windows.Forms.Form{\n",
    "        public HelloForm(){\n",
    "            this.Name = \"HelloForm\";\n",
    "            this.Text = \"Hello World!\";\n",
    "        }\n",
    "        static void Main(){\n",
    "            HelloForm form = new HelloForm();\n",
    "            Application.Run(form);\n",
    "        }\n",
    "    }\n",
    "}"
   ]
  },
  {
   "cell_type": "code",
   "execution_count": 102,
   "id": "ce936089",
   "metadata": {},
   "outputs": [
    {
     "name": "stderr",
     "output_type": "stream",
     "text": [
      "\r\n",
      "(2,1): error CS7021: 스크립트 코드에서 네임스페이스를 선언할 수 없습니다.\r\n",
      "\r\n"
     ]
    },
    {
     "ename": "Error",
     "evalue": "compilation error",
     "output_type": "error",
     "traceback": []
    }
   ],
   "source": [
    "// OVERRIDE EVENT 함수 \n",
    "// 모든 이벤트에 On만 붙이면 override Event 함수가 된다.\n",
    "// override Event 함수에서 해당 이벤트를 발생시킨다.\n",
    "// ex) OnMouseDown() 이벤트 함수에서 MouseDown 이벤트를 발생시킨다.\n",
    "// ex) OnMouseDown() 이벤트 함수에서 MouseDown 이벤트에 이벤트 핸들러를 호출한다.\n",
    "\n",
    "// override 이벤트 함수를 사용할 때 주의 사항\n",
    "// 부모의 이벤트 함수를 호출할 지 말지를 결정해야 한다.\n",
    "// 부모의 이벤트 함수 앞에서 작업할지 뒤에서 작업할지를 결정해야 한다.\n",
    "\n",
    "OnLoad() \n",
    "namespace OverrideEventProject{\n",
    "    public partial class OverrideEventForm : Form {  \n",
    "        protected override void OnMouseDown(MouseEventArgs e) {\n",
    "\t\tMessageBox.Show(\"override: base.OnMouseDown(e) 호출이전\");\n",
    "\t\tbase.OnMouseDown(e);\n",
    "\t\tMessageBox.Show(\"override: base.OnMouseDown(e) 호출이후\");\n",
    "        }\n",
    "        private void OverrideEventForm_MouseDown(object sender, MouseEventArgs e) {\n",
    "\t\tMessageBox.Show(\"handler: MouseDown 이벤트처리\");\n",
    "        }\n",
    "    }\n",
    "}\n",
    "\n",
    "\n"
   ]
  },
  {
   "cell_type": "markdown",
   "id": "4c5f0e2c",
   "metadata": {},
   "source": [
    "10.5.1 공통 속성들 \n",
    "\n",
    "- 모양\n",
    "obj.Text = \"Hello World\"; \n",
    "obj.Font = new Font(\"굴림\", 12);\n",
    "obj.ForeColor = Color.Black;\n",
    "obj.BackColor = SystemColors.Control;\n",
    "\n",
    "- 동작\n",
    "obj.Visible = true; //보일 것인지를 지정\n",
    "obj.Enabled = true; //사용 가능한지를 지정\n",
    "obj.TabStop = true; //탭키로 포커스를 받을 수 있는지를 지정\n",
    "obj.TabIndex = 0; //탭의 순서를 지정\n",
    "\n",
    "- 레이아웃\n",
    "obj.Location = new Point(100, 100); //위치\n",
    "obj.X = 100; \n",
    "obj.Y = 100; //위치\n",
    "obj.Size = new Size(300, 300); //크기\n",
    "obj.Dock = DockStyle.Fill; //Left, Right, Top, Bottom, None, Fill\n",
    "\n",
    "- 컨트롤의 성격에 벗어난다면 어떻게 해야 하나?\n",
    "통째로 상속해서 사용해야 한다.\n",
    "컨트롤을 직접 상속한다.\n",
    "\n",
    "- 여러 개의 컨트롤을 묶어서 하나의 컨트롤로 만들어야 하는 경우\n",
    "사용자 정의 컨트롤로 만들어서 새로 정의해서 사용한다.\n",
    "UserControl을 상속한 후 새롭게 디자인해서 사용한다."
   ]
  },
  {
   "cell_type": "markdown",
   "id": "a5f7db05",
   "metadata": {},
   "source": [
    "* Dialog 모달, 모달리스란? "
   ]
  },
  {
   "cell_type": "markdown",
   "id": "bee825e4",
   "metadata": {},
   "source": [
    "모달 대화상자란?\n",
    "- 대화상자가 출력되면 사용자가 대화상자를 닫기 전까지 해당 응용 프로그램에서 다른 작업을 할 수 없는 대화상자를 나타냅니다. 즉, 모달 대화상자를 닫아야만 응용 프로그램 내의 다른 윈도우에 포커스를 둘 수 있습니다."
   ]
  },
  {
   "cell_type": "markdown",
   "id": "93c71b4e",
   "metadata": {},
   "source": [
    "모달리스 대화상자란?\n",
    "- 모달리스 대화상자는 대화상자를 닫지 않은 채 즉, 대화상자가 화면에 출력되어 있는 채로 사용자가 얼마든지 응용 프로그램에서 다른 작업을 할 수 있는 대화상자를 나타냅니다.\n"
   ]
  },
  {
   "attachments": {},
   "cell_type": "markdown",
   "id": "c0d0663a",
   "metadata": {},
   "source": [
    "스레드 개요 \n",
    "\n",
    "- 프로세스(Process) (프로그램 = 프로세스)\\\n",
    "하나의 프로그램(Program)은 하나의 프로세스에 해당한다. \n",
    "\n",
    "\\\n",
    "- 멀티 태스킹(Multi-Tasking) \\\n",
    "프로세스의 경우 운영체제에서 자동으로 관리해준다. \n",
    "운영체제 차원의 프로세스 관리를 멀티 태스킹이라고 한다.\n",
    "\n",
    "\\\n",
    "- 프로세스와 스레드\\\n",
    "하나의 프로세스 내에는 여러 개의 스레드가 존재할 수 있다.\n",
    "\n",
    "\\\n",
    "- 프로세스와 스레드\\\n",
    "하나의 프로세스 내에는 여러 개의 스레드가 존재할 수 있다.\n",
    "\n",
    "\\\n",
    "- 스레드 프로그램을 할 때 주의해야 할 사항\\\n",
    "우선권(Priority) \n",
    "동기화(Synchronization)\n",
    "\n",
    "\n"
   ]
  },
  {
   "attachments": {},
   "cell_type": "markdown",
   "id": "987098a3",
   "metadata": {},
   "source": [
    "* 일반적 함수의 특징 \\\n",
    "한순간에 하나의 함수가 동작하는 것을 \"시퀀셜하게 동작한다\"라고 한다. \u000b",
    "\n",
    "* 스레드란?\\\n",
    "프로그램에서 독립적으로 실행되는 함수 \u000b",
    "\n",
    "* 스레드의 기본 \\\n",
    "한순간에 두 개의 함수가 동시에 실행되었을 때 실행된 함수를 스레드라고 한다. \n",
    "생각 \u000b",
    "\n",
    "* 어떻게 동시에 두 개의 함수를 실행시키는가?\\\n",
    "Thread, ThreadStart"
   ]
  },
  {
   "cell_type": "code",
   "execution_count": null,
   "id": "0b6220af",
   "metadata": {},
   "outputs": [],
   "source": [
    " public class Top\n",
    "    {\n",
    "        private int limit = 0;\n",
    "        public void SayHello()\n",
    "        {\n",
    "            while (limit < 10)\n",
    "            {\n",
    "                Thread th = Thread.CurrentThread;\n",
    "                Console.WriteLine(\"Thread\" + th.GetHashCode() + \":\" + limit++);\n",
    "            }\n",
    "        }\n",
    "    }\n",
    "\n",
    "        Top t = new Top();\n",
    "        ThreadStart ts = new ThreadStart(t.SayHello);\n",
    "        Thread thread = new Thread(ts);\n",
    "        Thread.Start();\n",
    "        Console.Write(\"Thread\" + Thread.CurrentThread.GetHashCode() + \"메인종료/n\");"
   ]
  },
  {
   "cell_type": "markdown",
   "id": "b8bff6f4",
   "metadata": {},
   "source": [
    "// 동기화와 공유자원 \n",
    "\n",
    "- 공유자원을 사용할 때의 문제점 \\\n",
    "병목 현상\\\n",
    "데드락\n",
    "\n",
    "\n",
    "- 동기화\\\n",
    "스레드가 자원을 공유할 때 한번에 하나의 스레드만 사용\\\n",
    "하나의 스레드가 공유자원을 사용할 때 공유자원에 lock을 걸어준다.\\\n",
    "비유 -> 화장실 변기와 Lock(변기를 2사람이 같이 동시에 사용할 수 없다는 뜻 같음)\n",
    "\n",
    "\n",
    "\n",
    "- 동기화를 위한 방법들 \n",
    "lock 키워드의 사용\\\n",
    "Treading 네이스페이스의 Monitor 클래스의 사용\\\n",
    "Treading 네임 스페이스의 Mutex 클래스의 사용\n",
    "\n",
    "\n",
    "- 동기화와 비동기화 \n",
    "> 동기화 기능을 제거한 후, 동기화가 되었을 때와 동기화가 되지 않았을 때 어떤식으로 작동하는지 보면 차이를 극명하게 볼 수 있다."
   ]
  },
  {
   "cell_type": "markdown",
   "id": "3b9f196a",
   "metadata": {},
   "source": [
    "// 동기화를 할 때 공유자원 source의 타입에 따라 lock을 걸어주는 방법! \n",
    "\n",
    "- 공유자원의 타입이 static이 아닌 일반 타입인 경우 \n",
    "> lock(this) \n",
    "\n",
    "\n",
    "- 공유자원의 타입이 static int 인 경우 \n",
    "> lock(typeof(Top)) \n",
    "\n",
    "\n",
    "- 공유자원의 타입이 static object 형인 경우 \n",
    "> lock(class명.공유자원_변수명)\n",
    "\n"
   ]
  },
  {
   "cell_type": "markdown",
   "id": "9f1f1d2e",
   "metadata": {},
   "source": [
    "- 컬렉션에 여러 개의 스레드가 접근할 때 발생하는 문제 \\\n",
    "1) 동기화 보장하지 못 함\\\n",
    "2) 공유 데이터에 동시 접근하는 문제\\\n",
    "3) 병목 현상 발생 \\\n",
    "\n",
    "- 위와 같은 문제를 해결하려면?\n",
    "> 1) lock 키워드 -> 공유 데이터를 순서대로 접근하게 하는 방법을 제공\\\n",
    "> 2) 컬렉션의 SyncRoot 이용 "
   ]
  },
  {
   "attachments": {},
   "cell_type": "markdown",
   "id": "a7e5d018",
   "metadata": {},
   "source": [
    "- Interlocked 클래스!\n",
    "> interlocked 클래스는 int 형 값을 증가시키거나 감소시는데 사용한다. 멀티 쓰레드 환경에서 하나의 int 형 전역 변수를 공유한다고 생각해보자 이런 경우에 A 쓰레드와 B 쓰레드가 값을 동시에 읽어와서 B 쓰레드가 수정한 값을 저장하고, A 쓰레드가 다시 수정한 값을 저장하게 되면 결국 B 쓰레드의 변경사항을 잃어버리게 되는데 이를 수정될 때 마다 값을 동기화 함으로써 각각에 쓰레드에서 수정한 값을 잊어버리지 않게 도와준다. \n",
    "\n",
    "\n",
    "> CompareExchange: 두 대상을 비교하여 값이 같으면 지정된 값을 설정하고, 그렇지 않으면 연산을 수행하지 않는다. \n",
    "\n",
    "\n",
    "> Decrement: 지정된 변수의 값을 감소시키고 저장한다. \n",
    "\n",
    "\n",
    "> Exchange: 변수를 지정된 값으로 설정한다.\n",
    "\n",
    "\n",
    "> Increment: 지정된 변수의 값을 증가시키고 저장한다."
   ]
  },
  {
   "cell_type": "markdown",
   "id": "e4687b1f",
   "metadata": {},
   "source": [
    "- ReaderWriterLock\n",
    "> 일부 경우에는 데이터를 쓰고 있을 때만 리소스를 잠그고 업데이트하지 않을 때는 여러 클라이언트에서 동시에 데이터를 읽을 수 있도록 할 수 있다. ReaderWriterClass를 사용하면 스레드에서 리소스를 수정하는 동안(AcquireWriterLock)은 리소스를 단독으로 사용하고 리소스를 읽을 때(AcquireReaderLock)는 여러 스레드에서 동시에 사용할 수 있도록 할 수 있다.  "
   ]
  },
  {
   "cell_type": "markdown",
   "id": "41c5eee6",
   "metadata": {},
   "source": [
    " - Timer CallBack 함수\n",
    " > TimerCallback 함수에서는 delegate(대리자)함수를 많이 이용한다. new Timer를 이용할 때, 안에 들어가는 지연될 int 를 잘 셋팅해주어서 얼마나 TimerCallback 함수가 작동할지 조정해주어야 한다. "
   ]
  },
  {
   "cell_type": "markdown",
   "id": "0964f762",
   "metadata": {},
   "source": [
    "- 중요 팁!! \n",
    "> 앞으로 모르는 함수나 파라미터의 개념과 활용을 모를 때는 F12 키를 눌러서 주석 처리 되어있는 설명을 통해 \n",
    "보다 깔끔하고 정확하게 이해하자!!! "
   ]
  },
  {
   "attachments": {},
   "cell_type": "markdown",
   "id": "15d32f9d",
   "metadata": {},
   "source": [
    "- XML.NET의 배경 \n",
    "\n",
    "\n",
    "- NET + XML의 예\n",
    ">ADO.NET = ADO + XML \\\n",
    ">XML Web Services = RPC + XML(SOAP)\n",
    "\n",
    "\n",
    "- XML 클래스의 디자인 목표\n",
    ">W3C 표준과의 호환\\\n",
    ">XML 형태의 데이터 교환(SOAP)\\\n",
    ">ADO.NET과의 긴밀한 통합\n",
    "\n",
    "\n",
    "- XML의 대표 클래스들\n",
    "> XmlReader 및 XmlWriter 클래스\n",
    "XML 데이터를 빠르게 읽고 쓸 수 있게 해주는 스트림 클래스 \\\n",
    "- XmlDocument 클래스\n",
    "> DOM의 Level 1 및 Level 2 권장 사항을 구현한 클래스\\\n",
    "- XPathNavigator 클래스\n",
    "> XSLT와 XPath를 지원하기 위한 클래스 \\\n",
    "\n",
    "- XslCompiledTransform 클래스(XslTransform -> XslCompiledTransform)\n",
    "> XSLT를 사용해서 문서를 변환하기 위한 클래스\n",
    "\n"
   ]
  },
  {
   "cell_type": "markdown",
   "id": "bd411838",
   "metadata": {},
   "source": [
    "// XML(eXtensible Markup Language)이란?\n",
    "// 구조(Structure), 데이터(Data) 그리고 표현(Description)이 분리된 데이터 정의를 위한 언어\n",
    "\n"
   ]
  },
  {
   "cell_type": "markdown",
   "id": "feb6fc9f",
   "metadata": {},
   "source": []
  },
  {
   "cell_type": "markdown",
   "id": "c3c85977",
   "metadata": {},
   "source": []
  },
  {
   "cell_type": "markdown",
   "id": "3d974793",
   "metadata": {},
   "source": []
  },
  {
   "cell_type": "code",
   "execution_count": null,
   "id": "a681e907",
   "metadata": {},
   "outputs": [],
   "source": []
  },
  {
   "cell_type": "code",
   "execution_count": null,
   "id": "6f84d3d9",
   "metadata": {},
   "outputs": [],
   "source": []
  }
 ],
 "metadata": {
  "kernelspec": {
   "display_name": ".NET (C#)",
   "language": "C#",
   "name": ".net-csharp"
  },
  "language_info": {
   "file_extension": ".cs",
   "mimetype": "text/x-csharp",
   "name": "C#",
   "pygments_lexer": "csharp",
   "version": "10.0"
  }
 },
 "nbformat": 4,
 "nbformat_minor": 5
}
