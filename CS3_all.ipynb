{
 "cells": [
  {
   "cell_type": "code",
   "execution_count": 22,
   "id": "a7d5c831",
   "metadata": {},
   "outputs": [
    {
     "name": "stdout",
     "output_type": "stream",
     "text": [
      "9\r\n"
     ]
    },
    {
     "ename": "Error",
     "evalue": "System.ArgumentNullException: Value cannot be null. (Parameter 's')\r\n   at System.Int32.Parse(String s)\r\n   at Submission#24.<<Initialize>>d__0.MoveNext()\r\n--- End of stack trace from previous location ---\r\n   at Microsoft.CodeAnalysis.Scripting.ScriptExecutionState.RunSubmissionsAsync[TResult](ImmutableArray`1 precedingExecutors, Func`2 currentExecutor, StrongBox`1 exceptionHolderOpt, Func`2 catchExceptionOpt, CancellationToken cancellationToken)",
     "output_type": "error",
     "traceback": [
      "System.ArgumentNullException: Value cannot be null. (Parameter 's')\r\n   at System.Int32.Parse(String s)\r\n   at Submission#24.<<Initialize>>d__0.MoveNext()\r\n--- End of stack trace from previous location ---\r\n   at Microsoft.CodeAnalysis.Scripting.ScriptExecutionState.RunSubmissionsAsync[TResult](ImmutableArray`1 precedingExecutors, Func`2 currentExecutor, StrongBox`1 exceptionHolderOpt, Func`2 catchExceptionOpt, CancellationToken cancellationToken)",
      "   at System.Int32.Parse(String s)",
      "   at Submission#24.<<Initialize>>d__0.MoveNext()",
      "--- End of stack trace from previous location ---",
      "   at Microsoft.CodeAnalysis.Scripting.ScriptExecutionState.RunSubmissionsAsync[TResult](ImmutableArray`1 precedingExecutors, Func`2 currentExecutor, StrongBox`1 exceptionHolderOpt, Func`2 catchExceptionOpt, CancellationToken cancellationToken)"
     ]
    }
   ],
   "source": [
    "//while 반복문 (조건을 만족한 다면 무한 반복_ 정함잉 없는 반복)\n",
    "Console.WriteLine(\"9\");\n",
    "int i = int.Parse(Console.ReadLine());\n",
    "while( i>=1 && i<=9){\n",
    "    Console.WriteLine(\"당신이 입력한 수는 {0}\\n\", i);\n",
    "}\n"
   ]
  },
  {
   "cell_type": "code",
   "execution_count": 23,
   "id": "babd0ab7",
   "metadata": {},
   "outputs": [
    {
     "name": "stdout",
     "output_type": "stream",
     "text": [
      "홀수들의 합은 2500 입니다.\n",
      "짝수들의 합은 2450 입니다.\n"
     ]
    }
   ],
   "source": [
    "// 홀수 짝수 합을 구하는 코드 \n",
    "int i, even, odd = 0; //even: 짝수,  odd: 홀수\n",
    "for(i=0; i<100; i++){\n",
    "        if (i % 2 == 0)\n",
    "        even += i;\n",
    "        \n",
    "        else if (i % 2 != 0)\n",
    "        odd += i;\n",
    "\n",
    "}\n",
    "\n",
    "Console.WriteLine(\"홀수들의 합은 {0} 입니다.\", odd);\n",
    "Console.WriteLine(\"짝수들의 합은 {0} 입니다.\", even);\n"
   ]
  },
  {
   "cell_type": "code",
   "execution_count": 26,
   "id": "fa6b7967",
   "metadata": {},
   "outputs": [
    {
     "name": "stdout",
     "output_type": "stream",
     "text": [
      "2100\r\n"
     ]
    }
   ],
   "source": [
    "// 3.1.4 클래스 내에 함수 삽입 \n",
    "public class top{\n",
    "            public int a;\n",
    "            public int b;\n",
    "            public int GetData(){\n",
    "                        return a + b;\n",
    "            \n",
    "            }\n",
    "\n",
    "}//class \n",
    "\n",
    "top t = new top();\n",
    "t.a = 100;\n",
    "t.b = 2000;\n",
    "int c1 = t.GetData(); //class 내의 함수가 작동해서 a + b 값을 반환해서 함수가 내어준다.\n",
    "Console.WriteLine(c1);"
   ]
  },
  {
   "cell_type": "code",
   "execution_count": 27,
   "id": "f9b20519",
   "metadata": {},
   "outputs": [
    {
     "name": "stderr",
     "output_type": "stream",
     "text": [
      "\r\n",
      "(15,9): error CS0122: '보호 수준 때문에 'Person.weight'에 액세스할 수 없습니다.\r\n",
      "\r\n",
      "(18,39): error CS0122: '보호 수준 때문에 'Person.weight'에 액세스할 수 없습니다.\r\n",
      "\r\n"
     ]
    },
    {
     "ename": "Error",
     "evalue": "compilation error",
     "output_type": "error",
     "traceback": []
    }
   ],
   "source": [
    "// 접근제어 \n",
    "// public : 멤버에 직접 접근할 수 있다. \n",
    "// private : 멤버에 직접 접근할 수 없다. \n",
    "// 접근 지정자의 종류 : private, public, protected\n",
    "// private 멤버의 접근은 public 멤버의 접근처럼 이용할 수 없다. \n",
    "public class Person{\n",
    "    public int age;\n",
    "    public float height;\n",
    "    private float weight; //private 멤버 변수 선언\n",
    "}\n",
    "\n",
    "Person brother = new Person(); //class의 변수 선언 및 기존의 class를 할당\n",
    "brother.age = 100;\n",
    "brother.height = 170.0F;\n",
    "brother.weight = 67.0F; //private 멤버 접근 에러 -> 그렇다면 어떻게 접근할 수 있을까?\n",
    "Console.WriteLine(\"age:\" + brother.age);\n",
    "Console.WriteLine(\"height:\" + brother.height);\n",
    "Console.WriteLine(\"weight:\" + brother.weight); //private 멤버 접근 - 에러\n"
   ]
  },
  {
   "cell_type": "code",
   "execution_count": 31,
   "id": "c089c982",
   "metadata": {},
   "outputs": [
    {
     "name": "stdout",
     "output_type": "stream",
     "text": [
      "500\r\n"
     ]
    }
   ],
   "source": [
    "// private 멤버 변수 값을 할당하고 값을 받아오려면 class 내부에서 각각 \n",
    "// public 멤버 형태의 메서드(함수)를 사용해야 한다.\n",
    "// 밑에 예시 \n",
    "\n",
    "public class TopSecret{\n",
    "        private int secret;\n",
    "        public void SetSecret(int x){ // private에 값을 할당하기 위한 함수\n",
    "                    secret = x;\n",
    "        }\n",
    "        \n",
    "        public int GetSecret(){  //private 값을 반환하기 위한 함수\n",
    "                    return secret;\n",
    "        }\n",
    "\n",
    "}\n",
    "\n",
    "TopSecret t = new TopSecret();\n",
    "t.SetSecret(500);\n",
    "int realsecret = t.GetSecret();\n",
    "\n",
    "Console.WriteLine(realsecret);"
   ]
  },
  {
   "cell_type": "code",
   "execution_count": null,
   "id": "631461c9",
   "metadata": {},
   "outputs": [],
   "source": [
    "// private 멤버 변수의 사용 이유\n",
    "// 1) 자료를 보호하기 위해서 2) 내부적으로만 사용하기 위해서 \n",
    "\n",
    "// 언제 public 멤버를 사용하는가? \n",
    "// 1) 클래스를 다른 사람에게 만들어준다고 가정 2) 다른 사람이 사용할 함수는 전부 \n",
    "// public. 그 외에는 전부 private 멤버를 사용한다. "
   ]
  },
  {
   "cell_type": "code",
   "execution_count": null,
   "id": "282e9be8",
   "metadata": {},
   "outputs": [],
   "source": [
    "// 속성(property)\n",
    "// 1) 멤버 필드에 값을 할당하는 방법 2)Set과 Get형식의 함수를 일반화한 형태 \n",
    "// 3) 스마트 필드(smart field)라고도 함\n",
    "// 속성(Property) 형식\n",
    "// private 데이터 타입 변수명;\n",
    "// public 데이터 타입 속성명 { //속성멤버\n",
    "//   set { \n",
    "//                속성 설정 구현        \n",
    "//  }\n",
    "//   get{\n",
    "//            속성 반환 구형\n",
    "//  }\n",
    "//} \n",
    "\n",
    "// set 함수 내에서 value라는 매개변수를 사용하며 외부에서 들어오는 값을 얻어낼 수 있다. \n",
    "// value는 set 접근자가 갖는 디폴트 매개변수이다.\n"
   ]
  },
  {
   "cell_type": "code",
   "execution_count": 41,
   "id": "dc4e26a3",
   "metadata": {},
   "outputs": [
    {
     "name": "stdout",
     "output_type": "stream",
     "text": [
      "저를 아사이말라이쿰이라고 불러주세요~!\r\n"
     ]
    }
   ],
   "source": [
    "// 속성 예시 \n",
    "\n",
    "class PropTest{\n",
    "        private string name; //소문자 이름 \n",
    "        public string Name{ //대문자 이름(Name:속성명)\n",
    "        get {  //여기서의 get은 private 멤버 변수를 반환하는 함수이다.\n",
    "            return name;\n",
    "        }\n",
    "        set{  //여기서 set 함수에서 value는 위에 속성명(input 값)을 받아와서 속성을 \n",
    "              // 설정해주는 역할을 한다. (value와 set는 짝꿍이다.)\n",
    "            name = value + \"이라고 불러주세요~!\";\n",
    "        }\n",
    "        }\n",
    "}\n",
    "\n",
    "PropTest a = new PropTest();\n",
    "a.Name = \"아사이말라이쿰\";\n",
    "//string b = a.Name\n",
    "\n",
    "Console.WriteLine(\"저를 {0}\", a.Name);\n",
    "\n",
    "// 멤버 변수와 속성을 혼동하지 않도록 주의해야 한다. \n",
    "// 속성을 사용하는 이유: 속성이 직관적이며 편리하게 값을 변경할 수 있기 때문이다. "
   ]
  },
  {
   "cell_type": "code",
   "execution_count": null,
   "id": "4bb6125c",
   "metadata": {},
   "outputs": [],
   "source": [
    "// 객체의 메모리 생성 \n",
    "// 객체 변수 선언: Person sister; -> 메모리 없는 변수 \n",
    "// 메모리 생성, 인스턴스 생성: sister = new Person(); -> 메모리 있는 변수 "
   ]
  },
  {
   "cell_type": "code",
   "execution_count": null,
   "id": "82f8930d",
   "metadata": {},
   "outputs": [],
   "source": [
    "// 객체의 개념 \n",
    "// 답) 객체도 변수의 한 형태이며 클래스에서 만들어졌다 해서 객체 또는 인스턴스라고 \n",
    "// 부른다. "
   ]
  },
  {
   "cell_type": "code",
   "execution_count": null,
   "id": "a73cd59e",
   "metadata": {},
   "outputs": [],
   "source": [
    "// 구조체의 특징 \n",
    "// 1) 구조체는 상속할 수 없으며 또한 상속해 줄 수도 없다. 2) 생성자를 중복해서 만들 수\n",
    "// 있지만, 디폴트 생성자만큼은 재정의해서 사용할 수 없다. \n",
    "// 예시 \n",
    "\n",
    "struct Person{\n",
    "    public int age;\n",
    "    public long height;\n",
    "    public float weight;\n",
    "    public Person(int a, long h, float w){\n",
    "            age = a;\n",
    "            height = h;\n",
    "            weight = w;\n",
    "    }\n",
    "}//struct \n",
    "\n",
    "/* Person sister = new Person();\n",
    "sister.age = 13;\n",
    "sister.height = 155L;\n",
    "sister.weight = 67f;\n",
    "\n",
    "Console.WriteLine(sister.height);\n",
    "*/ \n",
    "\n",
    "Person mother = new Person(40, 501L, 60F);\n",
    "Console.WriteLine(mother.height);\n"
   ]
  },
  {
   "cell_type": "code",
   "execution_count": null,
   "id": "94c722f5",
   "metadata": {},
   "outputs": [],
   "source": [
    "// 클래스와 구조체의 차이 \n",
    "// 구조체: 메모리 중심의 사용자 정의 데이터 타입, 메모리 그 자체를 이용하고자 할 때에 \n",
    "// 주로 사용 \n",
    "\n",
    "// 클래스: 기능 중심의 사용자 정의 데이터 타입, 내부의 메모리가 어떠하든 간에 기능적인\n",
    "// 측면이 더 중요할 때 사용. \n"
   ]
  },
  {
   "cell_type": "code",
   "execution_count": null,
   "id": "cf2280fa",
   "metadata": {},
   "outputs": [],
   "source": [
    "// 프로그램과 메모리 \n",
    "// 프로세스: 프로그램이 로딩되어 실행가능한 상태가 되었을 때의 메모리가 프로세스\n",
    "// 프로세스 == 메모리\n",
    "\n",
    "//프로세스(메모리)의 구성 -> 1) 데이터 메모리 영역, 코드 메모리 영역, 스택 메모리 영역\n",
    "\n",
    "\n",
    "// 데이터 메모리 영역: 프로그램을 실행하는데 필요한 데이터들을 위한 메모리 공간 \n",
    "// 코드 메모리 영역(클래스 영역): 어셈블리 코드가 로딩되는 영역 \n",
    "// 스택 메모리 영역: 프로그램을 실행하는데 필요한 메모리 공간\n",
    "\n",
    "// 스택 프레임(스택 메모리 산하): 하나의 함수를 호출하는데 필요한 메모리 덩어리, 함수 \n",
    "// 하나당 하나의 프레임 존재\n",
    "// 스택 프레임 구성 요소: 지역변수, 매개변수, 리턴값을 위한 공간 "
   ]
  },
  {
   "cell_type": "code",
   "execution_count": null,
   "id": "f5667187",
   "metadata": {},
   "outputs": [],
   "source": [
    "// stack과 Heap 메모리 \n",
    "//top 의 메모리 크기 int a, int b, int c -> 12바이트\n",
    "class top{\n",
    "    public int a = 10;\n",
    "    public int b = 20;\n",
    "    public int c = 30;\n",
    "    public int sum(){\n",
    "            int d = a + b + c;\n",
    "            return d;\n",
    "        }\n",
    "}\n",
    "\n",
    "public class HeapMain{\n",
    " public static void Main(string[] args){\n",
    "    top t = new top();\n",
    "    top s = new top();\n",
    "    s.a = 1;\n",
    "    s.b = 2;\n",
    "    s.c = 3;\n",
    "    int x = t.sum();\n",
    "    int y = s.sum();\n",
    "    Console.WriteLine(\"x={0}, y={1}\", x, y);\n",
    " }\n",
    "}"
   ]
  },
  {
   "cell_type": "code",
   "execution_count": null,
   "id": "08740912",
   "metadata": {},
   "outputs": [],
   "source": [
    "// 스택과 힙의 조화 \n",
    "int[] p = new int[100]; // p라는 비어있는 배열에 100개의 공간이 차있는 정수 배열이 \n",
    "//p 배열에 할당이 된다. 하지만 할당된 100개의 값은 다 0이다. 여기서 0이 아닌 다른 값을\n",
    "// 할당하고 싶다면 해당 인덱스를 넣고 정수를 할당 해주면 해당 인덱스 위치에 값이 \n",
    "// 바뀌게 된다.\n",
    "p[99] = 67;\n",
    "Console.WriteLine(p[99]);\n"
   ]
  },
  {
   "cell_type": "code",
   "execution_count": null,
   "id": "981ba253",
   "metadata": {},
   "outputs": [],
   "source": [
    "// 스택과 힘의 예 \n",
    "class Top{\n",
    "    private int q;\n",
    "    private int[]p = new int[100];\n",
    "    public static void Main(){\n",
    "                Top t = new Top();\n",
    "    }\n",
    "}\n",
    "// 스택의 메모리: 함수 내에서 선언된 변수는 무조건 스택에 만들어진다. \n",
    "// 힙의 메모리: new를 이용해서 만든 메모리는 무조건 힙에 만들어진다. \n",
    "// 스택과 힙의 조화: 프로그램에서 사용되는 메모리는 스택과 힙의 조화로 이루어진다. \n",
    "\n",
    "//스택의 메모리: 참조변수 t는 스택에 만들어진다. \n",
    "//힙의 메모리: Top형은 8바이트짜리 메모리 지도(q, []p(참조변수 4 바이트)), new Top()이라고\n",
    "// 했을 때 만들어지는 Top의 메모리는 힙에 만들어진다. \n",
    "\n",
    "// 힙의 힙: 8바이트 Top형의 메모리가 만들어지는 것과 동시에 힙에 new int[100]에 해당하는 \n",
    "// 메모리가 만들어진다. \n",
    "//그리고 그 참조 값은 p에 저장된다. "
   ]
  },
  {
   "cell_type": "code",
   "execution_count": null,
   "id": "e91829ae",
   "metadata": {},
   "outputs": [],
   "source": [
    "// Garbage Collector\n",
    "// -> C#의 메모리 관리자 역할을 한다. 더이상 사용하지 않는 메모리나 불필요한 메모리를\n",
    "// 제거, 메모리가 부족하면 메모리의 조각 모음을 한다. \n",
    "// 제거대상: 힙에 생성되는 객체의 메모리 "
   ]
  },
  {
   "cell_type": "code",
   "execution_count": 6,
   "id": "c0f030b4",
   "metadata": {},
   "outputs": [
    {
     "name": "stderr",
     "output_type": "stream",
     "text": [
      "\r\n",
      "(7,24): warning CS7022: 프로그램의 진입점이 전역 코드이며 'TestRef.Main()' 진입점을 무시합니다.\r\n",
      "\r\n"
     ]
    }
   ],
   "source": [
    "// 값에 의한 전달\n",
    "using System;\n",
    "\n",
    "class TestRef{\n",
    "    static void callbyval(int x){\n",
    "        x = 10000;\n",
    "    }\n",
    "    public static void Main(){\n",
    "        int x1 = 10;\n",
    "        callbyval(x1);\n",
    "        Console.WriteLine(\"call-by-value:{0}\", x1);\n",
    "    }\n",
    "}\n",
    "\n",
    "/***\n",
    "Call-By-Value: 10\n",
    "***/\n",
    "\n"
   ]
  },
  {
   "cell_type": "code",
   "execution_count": 9,
   "id": "75ad1ec3",
   "metadata": {},
   "outputs": [
    {
     "name": "stderr",
     "output_type": "stream",
     "text": [
      "\r\n",
      "(6,21): warning CS7022: 프로그램의 진입점이 전역 코드이며 'TestValue.Main()' 진입점을 무시합니다.\r\n",
      "\r\n"
     ]
    }
   ],
   "source": [
    "// ref에 의한 참조 \n",
    "\n",
    "using System;\n",
    "class TestValue{\n",
    "\tstatic void CallByVal(int x){\n",
    "\t\tx = 10000;\n",
    "\t}\n",
    "\tpublic static void Main(){\n",
    "\t\tint x1 = 10;  //참조할 변수 초기화 함.\n",
    "\t\tCallByVal(x1);\n",
    "\t\tConsole.WriteLine(\"Call-By-Value: {0}\", x1);\n",
    "\t}//Main\n",
    "}//class\n",
    "\n",
    "\n",
    "/***\n",
    "Call-By-Reference: 10000\n",
    "***/"
   ]
  },
  {
   "cell_type": "code",
   "execution_count": 11,
   "id": "0d7b5086",
   "metadata": {},
   "outputs": [
    {
     "name": "stderr",
     "output_type": "stream",
     "text": [
      "\r\n",
      "(5,21): warning CS7022: 프로그램의 진입점이 전역 코드이며 'TestOut.Main()' 진입점을 무시합니다.\r\n",
      "\r\n"
     ]
    }
   ],
   "source": [
    "// out 키워드 \n",
    "// 1) 참조에 의한 전달을 할 때 사용하는 키워드 2) 참조로 값을 넘길 때 참조할 대상을 \n",
    "// 초기화할 필요가 없다. 3) 함수로부터 값을 얻어낼 때 주로 사용. 그렇기 때문에 초기화를 \n",
    "// 하지 않아도 된다.\n",
    "\n",
    "// ref 와 out의 미세한 차이\n",
    "// 1) ref는 함수 외부에서 함수 내부로 값을 전달할 때 사용하는 참조 키워드 \n",
    "// 2) out은 함수 내부에서 함수 외부로 값을 추출할 때 사용하는 참조 키워드 "
   ]
  },
  {
   "cell_type": "code",
   "execution_count": null,
   "id": "11cf8c39",
   "metadata": {},
   "outputs": [],
   "source": [
    "// 매개 변수의 값 할당과 참조 할당의 차이\n",
    "\n",
    "int a = 3;\n",
    "int b = 5;\n",
    "\n",
    "int Sum(int x, int y){\n",
    "int c = x + y;\n",
    "return c;\n",
    "}\n",
    "\n",
    "Sum(a, b)\n",
    "\n",
    "// 매개변수의 값 할당 \n",
    "// int x = a = 3 \n",
    "// int y = b = 5\n",
    "\n",
    "int Sum( ref int x, ref int y){\n",
    "        int z = x + y; \n",
    "        return z;\n",
    "}\n",
    "\n",
    "// 매개변수의 ref 할당 \n",
    "// ref int x = ref a \n",
    "// ref int y = ref b"
   ]
  },
  {
   "cell_type": "code",
   "execution_count": null,
   "id": "c0c6300b",
   "metadata": {},
   "outputs": [],
   "source": [
    "// 프로그램 구성 분석 \n",
    "using System;   //using System: System 네임 스페이스를 사용하겠다.\n",
    "namespace HelloWorld_Tool{\n",
    "        public class HelloWrold{\n",
    "            public static void Main(){ \n",
    "                Console.WriteLine(\"Hellow World!\");\n",
    "            } //Main\n",
    "        } //class\n",
    "}\n",
    "\n",
    "//static: 이 함수는 객체를 생성하지 않고 직접 접근이 가능하다. \n",
    "// Main(): 실행 프로그램은 하나의 Main()을 포함해야 한다. \n",
    "// namespace HelloWorld_Tool: 특정 구간의 이름을 HelloWorld_Tool으로 하겠다 "
   ]
  },
  {
   "cell_type": "code",
   "execution_count": null,
   "id": "ef5a889c",
   "metadata": {},
   "outputs": [],
   "source": [
    "// 어셈블리: 컴파일한 결과 파일 \n",
    "// 네임 스페이스: 어셈블리 내에서 클래스들을 구분하는 기준이다. "
   ]
  },
  {
   "cell_type": "code",
   "execution_count": 16,
   "id": "a034e939",
   "metadata": {},
   "outputs": [
    {
     "name": "stderr",
     "output_type": "stream",
     "text": [
      "\r\n",
      "(1,12): error CS1002: ;이 필요합니다.\r\n",
      "\r\n",
      "(1,12): error CS7017: 멤버 정의, 문 또는 파일 끝(EOF)이 필요합니다.\r\n",
      "\r\n",
      "(1,22): error CS1525: 잘못된 식의 항 'out'입니다.\r\n",
      "\r\n",
      "(1,22): error CS1002: ;이 필요합니다.\r\n",
      "\r\n",
      "(1,22): error CS7017: 멤버 정의, 문 또는 파일 끝(EOF)이 필요합니다.\r\n",
      "\r\n",
      "(1,46): error CS1003: 구문 오류입니다. '('이(가) 필요합니다.\r\n",
      "\r\n",
      "(1,46): error CS1026: )가 필요합니다.\r\n",
      "\r\n",
      "(1,46): error CS1002: ;이 필요합니다.\r\n",
      "\r\n"
     ]
    },
    {
     "ename": "Error",
     "evalue": "compilation error",
     "output_type": "error",
     "traceback": []
    }
   ],
   "source": [
    "// 라이브러리 생성 및 사용 이해가 안됨 "
   ]
  },
  {
   "cell_type": "markdown",
   "id": "61d7a543",
   "metadata": {},
   "source": [
    "* 스태틱 키워드에 대해서 알아보자 (아직은 많이 헷갈린다ㅠㅠ_하지만 빛을 볼날이 멀지..)"
   ]
  },
  {
   "cell_type": "code",
   "execution_count": 17,
   "id": "8f793f94",
   "metadata": {},
   "outputs": [
    {
     "name": "stderr",
     "output_type": "stream",
     "text": [
      "\r\n",
      "(5,28): warning CS7022: 프로그램의 진입점이 전역 코드이며 'StaticAccess.Main()' 진입점을 무시합니다.\r\n",
      "\r\n"
     ]
    }
   ],
   "source": [
    "// static 사용의 예\n",
    "public class StaticAccess{\n",
    "        public static int sint = 0; //static 정수형 변수 \n",
    "        public int nint = 0;\n",
    "        public static void Main(){\n",
    "                StaticAccess.sint = 3333; //기존의 class를 이용해서 static변수에 값 할당\n",
    "                StaticAccess sa = new StaticAccess();\n",
    "                sa.nint = 1000;\n",
    "                Console.WriteLine(\"static직접접근:\" + StaticAccess.sint);\n",
    "                Console.WriteLine(\"일반멤버 필드접근:\" + sa.nint);\n",
    "                \n",
    "        }//Main\n",
    "}//Class\n",
    "\n",
    "// static에 접근하는 방법 = 클래스의 이름으로 접근한다. "
   ]
  },
  {
   "cell_type": "code",
   "execution_count": null,
   "id": "d6fa50a1",
   "metadata": {},
   "outputs": [],
   "source": [
    "// static 멤버 변수: 모든 객체가 어떠한 값을 공통으로 공유해야 할 때 사용할 변수이다. \n",
    "// 한마디로 전역변수의 개념으로 사용이 되며 객체를 생성할 필요가 없이 직접 클래스 \n",
    "// 이름으로 접근이 가능한 것이다.  \n",
    "\n",
    "//static 메모리의 생성시기: 객체를 생성하기 이전에 static의 메모리는 생성된다. \n",
    "\n",
    "//스태틱 멤버 함수에서 주의할 점\n",
    "//1) 스태틱 함수를 이용해서 일반 멤버 필드에 접근 불가\n",
    "//2) 일반 멤버 필드는 객체 생성 후에 존재하기 때문에 스태틱 함수에서는 접근 불가\n"
   ]
  },
  {
   "cell_type": "code",
   "execution_count": 18,
   "id": "a9d9f8d2",
   "metadata": {},
   "outputs": [
    {
     "name": "stderr",
     "output_type": "stream",
     "text": [
      "\r\n",
      "(24,24): warning CS7022: 프로그램의 진입점이 전역 코드이며 'staticconsttest.Main()' 진입점을 무시합니다.\r\n",
      "\r\n"
     ]
    }
   ],
   "source": [
    "// static 생성자 \n",
    "// -> static 멤버 필드의 메모리가 생성된 직후(전제조건), 호출되는 static 전용의 \n",
    "// 생성자 함수이다.\n",
    "\n",
    "// static 생성자의 특징\n",
    "// 1)접근제어를 사용할 수 없음  2) 매개변수를 가질 수 없음\n",
    "\n",
    "//static 생성자의 사용\n",
    "class  staticconst{\n",
    "        public static int sint = 0; //static 멤버 필드 생성(전제 조건)\n",
    "        static staticconst(){ //static 생성자\n",
    "            sint = 10;        //static 생성자 안에서 static 멤버 값 할당\n",
    "            Console.Write(\"simt=\" + sint +\":static 생성자!!!\");\n",
    "        }\n",
    "        public staticconst(){//디폴트 셍성자\n",
    "        \n",
    "        }\n",
    "        public static void initsint(int a){ //static 함수\n",
    "                sint = a;\n",
    "        }\n",
    "}\n",
    "\n",
    "class staticconsttest{\n",
    "    public static void Main(){\n",
    "            int a = staticconst.sint;\n",
    "    }\n",
    "}\n"
   ]
  },
  {
   "cell_type": "code",
   "execution_count": null,
   "id": "16d4f842",
   "metadata": {},
   "outputs": [],
   "source": [
    "//Console.WriteLine 는 출력 이후 줄을 바꿉니다.\n",
    "//Console.Write 는 출력만 합니다.\n",
    "//만약, Console.Write에서 줄을 바꾸려면?\n",
    "//Console.Write(\"\\n\"); 와 같이 써주시면 됩니다."
   ]
  },
  {
   "cell_type": "code",
   "execution_count": null,
   "id": "ab587448",
   "metadata": {},
   "outputs": [],
   "source": [
    "// 상수 const 의 특징 \n",
    "// 1) const는 자동으로 static이 된다. \n",
    "// 2) const로 선언한 변수는 반드시 초기화되어야 한다. "
   ]
  },
  {
   "cell_type": "code",
   "execution_count": null,
   "id": "91f7fbcf",
   "metadata": {},
   "outputs": [],
   "source": [
    "// readonly 상수의 특징과 예시 \n",
    "// readonly 특징 \n",
    "// 1) 반드시 초기화할 필요없다. 2) 생성자에서 딱 한번 값을 할당할 수 있다. \n",
    "// 3) static 키워드를 사용하면 static 상수가 된다. 사용하지 않으면 일반 상수가 된다.\n",
    "\n",
    "//static readonly \n",
    "// 1) static readonly일 경우 static 생성자에서 초기화할 수 있다. \n",
    "// 2) static readonly일 경우 클래스의 이름으로 접근 가능 \n",
    "\n",
    "//일반 readonly \n",
    "// 1) 일반 raedonly일 경우 일반 생성자에서 초기화할 수 있다. \n",
    "// 2) 일반 raedonly일 경우 객체의 이름으로 접근할 수 있다.\n",
    "\n",
    "//readonly의 사용 \n",
    "// 1) static readonly의 사용\n",
    "\n",
    "public readonly static int STATIC_READONLY = 1; \n",
    "static ReadonlyTest(){              //static 생성자 \n",
    "            STATIC_READONLY = 100;  //static 생성자에서 초기화 \n",
    "}\n",
    "\n",
    "// 2) 일반 readonly의 사용\n",
    "public readonly int NORNAL_READONLY =1;\n",
    "public ReadonlyTest(){                     //일반 생성자\n",
    "            NORMAL_READONLY = 10000;       //일반 생성자에서 초기화 함 \n",
    "}"
   ]
  },
  {
   "cell_type": "code",
   "execution_count": null,
   "id": "5084702b",
   "metadata": {},
   "outputs": [],
   "source": [
    "// unsafe code \n",
    "// 1) C#에서 포인터를 사용하면 unsafe 코드가 된다. \n",
    "// 2) CLR이 메모리를 전자동으로 관리해주는데 사용자가 직접 메모리를 건드리는 것은 \n",
    "// 안전하지 못 하기 때문에 unsafe 코드라고 한다. \n",
    "\n",
    "//unsafe 코드의 예\n",
    "class UnsafeTest2{\n",
    "\tunsafe static void CallByPoint(int* x) {\n",
    "\t\t*x = 10000;\n",
    "\t}\n",
    "\tpublic static void Main() {\n",
    "\t\tint x1 = 10;\n",
    "\t\tunsafe{ \n",
    "\t\t\tCallByPoint(&x1); \n",
    "\t\t}\n",
    "\t\tConsole.WriteLine(\"Call-By-Point: {0}\", x1);\n",
    "\t}\n",
    "}\n",
    "// 컴파일 ex) csc /unsafe UnsafeTest2.cs"
   ]
  },
  {
   "cell_type": "code",
   "execution_count": null,
   "id": "e4832aaa",
   "metadata": {},
   "outputs": [],
   "source": [
    "// fixed 키워드를 이용한 메모리 고정 \n",
    "// fixed 키워드: CLR에 의해서 해당 메모리의 포인터를 이동시키지 못하도록 하는 키워드 \n",
    "// 1) unsafe 코드 내에서만 사용할 수 있다. \n",
    "// 2) CLR이 메모리를 이동하지 않는다는 것이 보장된다. \n",
    "\n",
    "//fixed의 사용 예\n",
    "class FixedTest{\n",
    "\tunsafe static void ArrayCopy(byte[ ] source, byte[ ] target) {\n",
    "\t\tfixed(byte* s = source, t = target){\n",
    "\t\t\tfor(int i =0; i<source.Length; i++)\n",
    "\t\t\t\t*(t +i) = *(s+i);\n",
    "\t\t}\n",
    "\t}\n",
    "}\n"
   ]
  },
  {
   "cell_type": "code",
   "execution_count": null,
   "id": "b9552c7c",
   "metadata": {},
   "outputs": [],
   "source": [
    "// 연산자 오버로딩: 연사자를 중복하는 것 \n",
    "// 1) 무조건 public, static, 반환형은 마음대로\n",
    "public static Top operator+(Top t1, Top t2){\n",
    "\t\tint m = t1.a + t2.a;\n",
    "\t\tint n = t1.b + t2.b; \n",
    "\t\treturn new Top(m, n);\n",
    "\t}"
   ]
  },
  {
   "cell_type": "code",
   "execution_count": null,
   "id": "9d8f1267",
   "metadata": {},
   "outputs": [],
   "source": [
    "// 상속 \n",
    "// 1) 상속을 하면 상위 클래스의 능력을 하위 클래스에서 모두 이용할 수 있다. \n",
    "// 2) 만들어둔 클래스를 다시 사용할 수 있는 방법을 말한다. \n",
    "\n",
    "// 상속을 사용하면 해결되는 2가지 상황 \n",
    "// 1번째) Top형의 클래스가 있으며,  새로 클래스를 만들어야 하는데 Top형에서 조금만 \n",
    "// 수정하면 되는 경우 \n",
    "// 2번째) Top형 클래스의 소스코드는 잃어 버렸으며 DLL만 있는 경우 \n",
    "\n",
    "// public class HelloForm(하위 클래스) : Form(상위 클래스) \n",
    "\n",
    "//주의사항: sealed 키워드를 이용한 상속은 금지이다. "
   ]
  },
  {
   "cell_type": "code",
   "execution_count": null,
   "id": "6a72adde",
   "metadata": {},
   "outputs": [],
   "source": [
    "// 생성자 \n",
    "\n",
    "public class ConstructDirect{\n",
    "        private String name = null;         \n",
    "        private String address = null;    // 3줄이 메모리가 생성되는 영역이다.   \n",
    "        private int age = 0;              \n",
    "        public ConstructDirect(String sname, String saddress, int sage){ //생성자\n",
    "            name = sname;\n",
    "            address = saddress;\n",
    "            age = sage;           // return 타입이 없다. \n",
    "        } //메모리 생성 후 먼저 호출되는 함수\n",
    "        \n",
    "        \n",
    "        \n",
    "} //class\n",
    "\n",
    "// 에러 디폴드 생성자는 사용할 수 없다. \n",
    "// ConstructDirect ct = new ConstructDirect();\n",
    "ConstructDirect ct = new ConstructDirect(\"홍길도\", \"서울시\", 25);\n",
    "\n",
    "//생성자 함수\n",
    "// -> 생성자 함수란 class 내에 메모리가 생성된 직후 가장 먼저 호출되는 함수이다. 또한 생성자는 \n",
    "// return type이 없다. 생성자의 이름은 해당 class의 이름과 동일하다. new 연산자가 \n",
    "// 힙 영역에 해당 클래스의 메모리를 생성한 직후 호출된다. \n",
    "\n",
    "// 디폴트 생성자란?? \n",
    "// 생성자가 없는 class에 대해 컴파일러는 매개변수를 가지지 않는 생성자(생성자())를 \n",
    "// 자동으로 제공한다. 디폴트 생성자는 매개변수가 없으며 구현부가 비어있다."
   ]
  },
  {
   "cell_type": "code",
   "execution_count": null,
   "id": "7c03fd63",
   "metadata": {},
   "outputs": [],
   "source": [
    "// 상속관계에서 상위 class에 있는 private에 접근할 때. \n",
    "// 일반적으로 new 객체를 받아서 접근하는 것이 안된다.\n",
    "// ex) Top s = new Top() <- 이런식으로 \n",
    "//그렇기 때문에 상위 클래스(아빠 class)에 있는 public 함수를 이용해서 private 값을 \n",
    "// 호출해서 사용할 수 있다. "
   ]
  },
  {
   "cell_type": "code",
   "execution_count": null,
   "id": "92b0a7ed",
   "metadata": {},
   "outputs": [],
   "source": [
    "// internal 과 proteceted internal 접근자 \n",
    "// 논리적 접근 제한자: class 계층 구조에서 접근을 제한 \n",
    "// 1) public, private, protected \n",
    "\n",
    "// 물리적 접근 제한자 (internal 접근자))\n",
    "// 기준: assembly 단위로 접근을 제한 \n",
    "\n",
    "// internal 접근자 \n",
    "// -> 하나의 assembly 내에서만 접근을 허락하는 접근자 \n",
    "// 같은 assembly 안에 있어야 접근 가능 \n",
    "\n",
    "// protected internal \n",
    "// assembly가 다르더라도 상속을 받은 하위 클래스에서 상위 클래스의 internal에 접근 \n",
    "// 가능하게 하기 위한 기능이다."
   ]
  },
  {
   "cell_type": "code",
   "execution_count": 30,
   "id": "edd775c5",
   "metadata": {},
   "outputs": [
    {
     "name": "stderr",
     "output_type": "stream",
     "text": [
      "\r\n",
      "(5,17): warning CS0414: 'ValueHide.i' 필드가 할당되었지만 사용되지 않았습니다.\r\n",
      "\r\n"
     ]
    }
   ],
   "source": [
    "// overriding 무시하기 (덮어쓰기) \n",
    "// 1) 변수 무시하기 \n",
    "\n",
    "class ValueHide{\n",
    "    private int i = 0;\n",
    "    public void MethodA(){\n",
    "    int i = 10000;\n",
    "    Console.WriteLine(\"MethodA() i =\" + i);\n",
    "    }\n",
    "}"
   ]
  },
  {
   "cell_type": "code",
   "execution_count": 37,
   "id": "5313b2a4",
   "metadata": {},
   "outputs": [
    {
     "name": "stdout",
     "output_type": "stream",
     "text": [
      "Base Method()\r\n"
     ]
    }
   ],
   "source": [
    "// 함수 무시하기 \n",
    "\n",
    "class Base{\n",
    "    public void MethodA(){\n",
    "        Console.WriteLine(\"Base Method()\");\n",
    "    }\n",
    "}\n",
    "\n",
    "class MethodHide: Base{                                // class 상속받기 \n",
    "    new public void MethodA(){                          // Overriding한 부분! \n",
    "        Console.WriteLine(\"MethodHide Method()\");\n",
    "    }\n",
    "}\n",
    "\n",
    "/* MethodHide m = new MethodHide();\n",
    "m.MethodA(); */\n",
    "\n",
    "Base b = new Base();\n",
    "b.MethodA();"
   ]
  },
  {
   "cell_type": "code",
   "execution_count": null,
   "id": "133b1d29",
   "metadata": {},
   "outputs": [],
   "source": [
    "// THIS 키워드 딱 들어와~! \n",
    "// -> this 키워드는 한 마디로 이름이 동일한 2개의 매개변수와 인스턴스 변수를 구분해줄\n",
    "// 키워드다 이말이다.\n",
    "//예시 \n",
    "\n",
    "class student \n",
    "{\n",
    "    private string name; \n",
    "    \n",
    "    public void SetName(string name)\n",
    "    {\n",
    "        this.name = name;     //여기서 this.name의 name은 private string name이고 \n",
    "                             // = name 의 name은 SetName(string name)의 name이다. \n",
    "    }\n",
    "}"
   ]
  },
  {
   "cell_type": "code",
   "execution_count": 38,
   "id": "21436869",
   "metadata": {},
   "outputs": [
    {
     "name": "stderr",
     "output_type": "stream",
     "text": [
      "\r\n",
      "(9,9): error CS1520: 메서드에는 반환 형식이 있어야 합니다.\r\n",
      "\r\n",
      "(14,9): error CS1520: 메서드에는 반환 형식이 있어야 합니다.\r\n",
      "\r\n",
      "(20,9): error CS1520: 메서드에는 반환 형식이 있어야 합니다.\r\n",
      "\r\n"
     ]
    },
    {
     "ename": "Error",
     "evalue": "compilation error",
     "output_type": "error",
     "traceback": []
    }
   ],
   "source": [
    "// this() 생성자 파헤쳐보기\n",
    "// 기존에 this() 생성자가 없는 경우의 소스코드 \n",
    "class dog \n",
    "{ \n",
    "        public string color;\n",
    "        public string name;\n",
    "        public int age;\n",
    "        \n",
    "        Dog()\n",
    "        {\n",
    "         this.color = \"brown\";\n",
    "        }\n",
    "        \n",
    "        Dog(string name)\n",
    "        {\n",
    "         this.color = \"brown\";\n",
    "         this.name = name;\n",
    "        }\n",
    "        \n",
    "        Dog(string name, int age)\n",
    "        {\n",
    "         this.color = \"brown\";\n",
    "         this.name = name;\n",
    "         this.age = age;\n",
    "        }\n",
    "}"
   ]
  },
  {
   "cell_type": "code",
   "execution_count": 42,
   "id": "0c45dad8",
   "metadata": {},
   "outputs": [
    {
     "name": "stderr",
     "output_type": "stream",
     "text": [
      "\r\n",
      "(9,9): error CS1520: 메서드에는 반환 형식이 있어야 합니다.\r\n",
      "\r\n",
      "(14,9): error CS1520: 메서드에는 반환 형식이 있어야 합니다.\r\n",
      "\r\n",
      "(19,9): error CS1520: 메서드에는 반환 형식이 있어야 합니다.\r\n",
      "\r\n"
     ]
    },
    {
     "ename": "Error",
     "evalue": "compilation error",
     "output_type": "error",
     "traceback": []
    }
   ],
   "source": [
    "// this() 생성자가 있을 때의 소스코드 \n",
    "\n",
    "class dog \n",
    "{\n",
    "        public string color;\n",
    "        public string name;\n",
    "        public int age;\n",
    "        \n",
    "        Dog()\n",
    "        {\n",
    "         this.color = \"brown\";\n",
    "        }\n",
    "        \n",
    "        Dog(string name) : this()\n",
    "        {\n",
    "         this.name = name;\n",
    "        }\n",
    "        \n",
    "        Dog(string name, int age) : this(name)\n",
    "        {\n",
    "         this.age = age;\n",
    "        }\n",
    "}\n",
    "\n",
    "//위 코드에서 : this()는 Dog() 함수를 가르키고 : this(name) 함수는 Dog(string name)\n",
    "// 함수를 가르킨다. 확실히 this() 생성자를 사용하니 코드가 훨씬 짧아지고 가독성이 \n",
    "// 좋아진 것 같다. \n",
    "\n",
    "// this() 생성자 특징 \n",
    "// 1) 자신의 생성자를 호출할 때도 사용 \n",
    "// ex) public ThisSelf() :this(\"이름없음\") { ..... }\n",
    "// ex) public ThisSelf(string name) : this(name, -1) { .... }\n",
    "// 2) 자신의 생성자를 재사용하기 위해서 생성자를 호출하는 방법을 제공 (위 코드에 설명)"
   ]
  },
  {
   "cell_type": "code",
   "execution_count": 33,
   "id": "557d4936",
   "metadata": {},
   "outputs": [
    {
     "name": "stdout",
     "output_type": "stream",
     "text": [
      "아버지의 함수\n",
      "아들의 재정의 함수\n"
     ]
    }
   ],
   "source": [
    "// base 키워드 \n",
    "// 해설) 자식 클래스 안에서 부모 클래스의 멤버에 접근하고 싶을 때 사용한다. \n",
    "// base 키워드는 1)생성자 2)인스턴스 메서드 3)인스턴스 속성 접근자에서만 허용된다. \n",
    "// static 메서드 안에서 base 키워드를 사용하면 안된다. \n",
    "public class NewFather{\n",
    "    public virtual void OverrideFunc(){\n",
    "            Console.WriteLine(\"아버지의 함수\");\n",
    "    }\n",
    "}\n",
    "\n",
    "public class NewSon : NewFather{\n",
    "        public override void OverrideFunc(){\n",
    "                Console.WriteLine(\"아들의 재정의 함수\");       \n",
    "        }\n",
    "        public void TestFunc(){\n",
    "            base.OverrideFunc();  //base.가 붙어있기 때문에 NewFather의 함수 호출 \n",
    "        }\n",
    "}\n",
    "\n",
    "NewSon a = new NewSon();\n",
    "a.TestFunc(); \n",
    "a.OverrideFunc();\n",
    "\n",
    "//base를 사용하지 않으면 자신의 OverrideFunc()이 호출된다. "
   ]
  },
  {
   "cell_type": "code",
   "execution_count": 40,
   "id": "85cc64df",
   "metadata": {},
   "outputs": [],
   "source": [
    "// base \n",
    "\n",
    "public class BaseFather{\n",
    "        private string name;\n",
    "        public BaseFather(string name){\n",
    "                this.name = name;\n",
    "                Console.WriteLine(\"BaseSon: {0}\", name);\n",
    "        }\n",
    "}\n",
    "\n",
    "\n",
    "public class BaseSon : BaseFather {\n",
    "    private string str;\n",
    "    public BaseSon(string name,string str): base(name){\n",
    "            this.str = str;\n",
    "    }\n",
    "}\n"
   ]
  },
  {
   "cell_type": "code",
   "execution_count": 74,
   "id": "eb8f2705",
   "metadata": {},
   "outputs": [],
   "source": [
    "// 추상함수(미완성된 class-미완성된 메소드 포함) \n",
    "// 1) 몸체가 없는 함수 2) 프로토타입만 가지고 있음\n",
    "\n",
    "// 추상 class의 목적: 자식 class에서 공유할 수 있도록 추상 class(부모 class)의 공통적\n",
    "//인 정의를 제공하는 것이다. 추상 클래스 안에서 선언되는 모든 멤버변수, 메소드, 프로퍼\n",
    "//티, 이벤트들은 접근 제한자를 적지 않으면 모두 private이다. \n",
    "\n",
    "//추상 class의 특징\n",
    "//1) new 연산자를 이용하여 인스턴스를 생성할 수 없다. \n",
    "//2) 오직 자식 클래스에서 상속을 통해서만 구현 가능하다. \n",
    "//3) 추상 메소드와 추상 프로퍼티를 가질 수 있다. \n",
    "\n",
    "// 추상 메서드(class내의 함수)의 특징\n",
    "// 1) 추상 메서드는 암시적으로 가상 메서드이다. \n",
    "// 2) 추상 메서드의 선언은 오직 추상 클래스에서만 허용된다. \n",
    "// 3) 추상 메서드를 선언할 때 static 또는 virtual 키워드를 사용할 수 없다.\n",
    "// 4) 추상 메서드는 실제 구현을 제공하지 않기 때문에 메서드 본문이 없다.(브레이스 X)\n",
    "\n",
    "abstract class A{\n",
    "        public abstract void F1();\n",
    "        public abstract void F2();        // 추상화 메서드이기 때문에 브레이스가 없다.\n",
    "}\n",
    "\n",
    "class B : A{\n",
    "    public override void F1(){\n",
    "            Console.WriteLine(\"B클래스 F()\");\n",
    "    }\n",
    "    public override void F2(){\n",
    "    \n",
    "    }\n",
    "}\n",
    "// 후속 class인 B에서 F2()를 구현해주지 않으면 에러가 난다. 가상의 메서드이기 때문에 \n",
    "// 구현을 하지 않으면 에러가 생기는 것일까?? 좀더 공부를 해봐야 겠다! "
   ]
  },
  {
   "cell_type": "code",
   "execution_count": null,
   "id": "604501f4",
   "metadata": {},
   "outputs": [],
   "source": [
    "// 추상 CLASS가 되는 법\n",
    "// 1) 몸체 없는 함수를 하나라도 포함하고 있는 클래스 \n",
    "// 2) 몸체 없는 함수를 포함하고 있지 않더라도 클래스를 선언할 때 abstract 키워드를 \n",
    "// 포함하고 있는 경우 \n",
    "\n",
    "// 추상 class의 특징 \n",
    "// 1)추상 class는 객체(인스턴스)를 생성할 수 없다. \n",
    "// 2) 추상 함수는 자동으로 가상 함수가 된다. (추상함수는 virtual 키워드를 사용하지 \n",
    "// 않지만 자동으로 virtual이 된다.)\n",
    "\n",
    "// 추상 class 의 예1 \n",
    "abstract class Simple1 {\n",
    "    public abstract void F();\n",
    "}\n",
    "\n",
    "// 추상 class 의 예2 \n",
    "abstract class Simple2{\n",
    "    public void G(){} //브레이스 안에 몸체가 없다. \n",
    "}\n",
    "\n"
   ]
  },
  {
   "cell_type": "code",
   "execution_count": null,
   "id": "e2ccd7a8",
   "metadata": {},
   "outputs": [],
   "source": [
    "// interface 란? \n",
    "// 클래스 내의 구성요소들의 구현부가 없고 선언부의 집합으로만 이루어져 있는 클래스이다\n",
    "// 내부의 멤버가 몽땅 추상으로 이루어져 있는 클래스\n",
    "// -> 계약(contract)을 위해서 사용하는 클래스의 한 종류이다. \n",
    "// 다수의 많은 사람들이 모여서 프로그램을 할 때에는 반드시 필요하다. \n",
    "\n",
    "\n",
    "//인터페이스의 구성요소 \n",
    "public delegate void StringListEvent(IStringList sender);\n",
    "public interface IStringList{\n",
    "\t\tvoid Add(string s); //함수\n",
    "\t\tint Count { get; set; } //속성\n",
    "\t\tevent StringListEvent Changed; //이벤트\n",
    "\t\tstring this[int index] { get; set; } //인덱서\n",
    "}\n",
    "\n",
    "//인터페이스의 특징 \n",
    "// 1) 인터페이스 내의 멤버는 모두 몸체가 없다.\n",
    "// 2) 인터페이스의 멤버는 디폴트로 전부 public이다. \n",
    "// 3) 내부에 필드를 가질 수 없다. \n",
    "// 4) 멤버에 어떠한 접근자, 한정자도 붙이지 않는다. \n",
    "// 5) 인터페이스끼리 상속하면 더 큰 인터페이스가 된다. \n",
    "// 6) 인터페이스는 구현을 목적으로 한다. "
   ]
  },
  {
   "cell_type": "code",
   "execution_count": 75,
   "id": "55776063",
   "metadata": {},
   "outputs": [],
   "source": [
    "// 클래스의 상속과 인터페이스를 동시에 상속하는 예 \n",
    "interface IA{\n",
    "\tvoid SayA();\n",
    "}\n",
    "interface IB{\n",
    "\tvoid SayB();\n",
    "}\n",
    "abstract class Top { //추상 클래스\n",
    "\tpublic abstract void SayTop();\t\n",
    "}\n",
    "class TopTest : Top, IA, IB { //모든 인터페이스의 구현\n",
    "\tpublic void SayA(){ }\n",
    "\tpublic void SayB(){ }\n",
    "\tpublic override void SayTop(){ }\n",
    "}"
   ]
  },
  {
   "cell_type": "code",
   "execution_count": 77,
   "id": "44b79111",
   "metadata": {},
   "outputs": [
    {
     "data": {
      "text/html": [
       "<div class=\"dni-plaintext\">Submission#79+Dog</div>"
      ]
     },
     "execution_count": 77,
     "metadata": {},
     "output_type": "execute_result"
    }
   ],
   "source": [
    "// 업캐스팅(Upcasting)이란? \n",
    "// 특정 개체가 하위 클래스의 형에서 상위의 클래스형으로 캐스팅 되는 것 \n",
    "// 형만 정확하다면 묵시적으로 캐스팅 된다. \n",
    "//업케스팅의 예 \n",
    "public class Animal {\n",
    "    //...\n",
    "}\n",
    "\n",
    "public class Dog : Animal{\n",
    "    //...\n",
    "}\n",
    "\n",
    "Animal ani = new Dog();\n",
    "ani\n",
    "\n",
    "//업캐스팅의 장점\n",
    "// 하나의 매개변수의 형으로 여러 형을 받아줄 수 있다는 장점이 있다. \n",
    "// Animal 형으로 Animal을 상속받은 Dog와  Cat을 받아줄 수 있다. \n",
    "\n",
    "// Upcasting에서 하위 class에 있는 어떠한 객체가 상위 class의 형으로 바뀌는 것인데 /\n",
    "// 여기서 말하는 형이라는 것은 Animal a = new Animal()에서 \"Animal\"이다. 그렇기 때문에\n",
    "// 우리가 기존에 알고 있던 float, str, int, decimal같은 형들과는 별개의 형이다. \n"
   ]
  },
  {
   "cell_type": "code",
   "execution_count": 88,
   "id": "40e43929",
   "metadata": {},
   "outputs": [
    {
     "name": "stdout",
     "output_type": "stream",
     "text": [
      "Derevied.FuncA\n",
      "Derived.FuncB\n",
      "Base.FuncA\n",
      "Derived.FuncB\n"
     ]
    }
   ],
   "source": [
    "class Base { \n",
    "    public void FuncA(){\n",
    "        Console.WriteLine(\"Base.FuncA\");\n",
    "    }\n",
    "    public virtual void FuncB(){\n",
    "            Console.WriteLine(\"Base.FuncB\");\n",
    "    }\n",
    "}\n",
    "\n",
    "class Derived : Base { \n",
    "        new public void FuncA(){\n",
    "                Console.WriteLine(\"Derevied.FuncA\");\n",
    "        }\n",
    "        public override void FuncB(){\n",
    "            Console.WriteLine(\"Derived.FuncB\");\n",
    "        }\n",
    "}\n",
    "\n",
    "Derived d = new Derived();\n",
    "d.FuncA();\n",
    "d.FuncB();\n",
    "\n",
    "Base a = d; // 업캐스팅됨 \n",
    "a.FuncA();  // 아버지의 이름으로 아버지의 함수 호출\n",
    "a.FuncB();  //아버지의 이름으로 아들의 함수 호출 \n",
    "\n",
    "// virtual 키워드를 이용해서 함수를 오버라이딩한(override) 후 업캐스팅 했을 때\n",
    "// 상위 클래스의 이름으로 하위 클래스의 함수를 호출하는 것이 된다.(매우 중요!)\n",
    "// 1) 상위 class 내부에 virtual 함수 -> 하위 class에서 상위 class에 있는 virtual class\n",
    "// 를 override를 통해서 재정의한다. 그렇게 하위 class를 상위 class와 연동을 하게 되면\n",
    "// 연동 (ex_Circle(하위 class) Shape(상위 class)  Circle a, Shape c = d)"
   ]
  },
  {
   "cell_type": "code",
   "execution_count": null,
   "id": "f94c8378",
   "metadata": {},
   "outputs": [],
   "source": [
    "// 가상함수의 조건: overriding된 상태 + Upcasting된 상태(상위 class형으로 변경)\n",
    "// 가상 함수의 장점: 아버지(상위 class)의 이름으로 모든 아들의 함수를 호출할 수 있다. \n"
   ]
  },
  {
   "cell_type": "code",
   "execution_count": null,
   "id": "e64011b0",
   "metadata": {},
   "outputs": [],
   "source": [
    "// ArrayList란?\n",
    "// 배열은 정해진 크기만큼 값을 추가할 수 있으며, 동일한 타입만 다룰 수 있다. 하지만, \n",
    "// ArrayList는 크기가 자동으로 늘어나며, 타입이 서로 다른 값을 추가할 수 있는 자료 \n",
    "// 구조를 가지고 있다. \n",
    "\n",
    "// ArrayList 초기화 하는 방법 \n",
    "ArrayList arlist = new ArrayList();\n",
    "// 또는 \n",
    "var arlist2 = new ArrayList();\n",
    "\n",
    "// ArrayList 초기화 하는 방법\n",
    "ArrayList arlist = new ArrayList() {i, \"hi\", 5.5, true, \"A\", null, \"\"};\n",
    "\n",
    "// ArrayList에 값 추가하는 법 \n",
    "//1) Add() 메서드를 사용 \n",
    "ArrayList arlist = new ArrayList();\n",
    "arlist.Add(10); // 10 \n",
    "arlist.Add(20); // 10 20\n",
    "arlist.Add(30); // 10 20 30 \n",
    "\n",
    "// 2) AddRange() 메서드를 사용 \n",
    "ArrayList arlist = new ArrayList();\n",
    "\n",
    "object[] obj = {30, 40, 50};\n",
    "\n",
    "arlist.Add(10); // 10 \n",
    "arlist.Add(20); // 10 20\n",
    "arlist.AddRange(obj); //10 20 30 40 50\n",
    "\n",
    "//3) 같은 ArrayList를 이어붙여서 더할 수도 있음.\n",
    "\n",
    "ArrayList arlist = new ArrayList();\n",
    "\n",
    "ArrayList arlist2 = new ArrayList() {\"A\", \"B\", \"C\"};\n",
    "\n",
    "arlist.Add(10); // 10 \n",
    "arlist.Add(20); // 10 20\n",
    "arlist.Add(30); // 10 20 30 \n",
    "arlist.AddRange(arlist2); // 10 20 30 A B C\n",
    "\n",
    "// 4) Insert() 메서드를 사용하여 원하는 위치에 값 추가 \n",
    "ArrayList arlist = new ArrayList();\n",
    "\n",
    "arlist.Add(10); // 10 \n",
    "arlist.Add(20); // 10 20\n",
    "arlist.Add(30); // 10 20 30 \n",
    "arlist.Insert(0, 0); // 0 20 30 "
   ]
  },
  {
   "cell_type": "code",
   "execution_count": 18,
   "id": "89ab6696",
   "metadata": {},
   "outputs": [
    {
     "name": "stdout",
     "output_type": "stream",
     "text": [
      "모양없음\n",
      "원을 그립니다.\n",
      "사각형을 그립니다.\n"
     ]
    }
   ],
   "source": [
    "public class Shape{\n",
    "\tpublic virtual void Draw(){\n",
    "\t\tConsole.WriteLine(\"모양없음\"); \n",
    "\t}\n",
    "}\n",
    "public class Circle: Shape{//추상클래스의 구현//아들클래스 \n",
    "\tpublic override void Draw(){\n",
    "\t\tConsole.WriteLine(\"원을 그립니다.\");\n",
    "\t}\n",
    "}\n",
    "public class Rect: Shape{//추상클래스의 구현\n",
    "\tpublic override void Draw(){\n",
    "\t\tConsole.WriteLine(\"사각형을 그립니다.\");\n",
    "\t}\n",
    "}\n",
    "\n",
    "Shape zero = new Shape();\n",
    "zero.Draw();\n",
    "Circle c = new Circle();\n",
    "Shape s1 = c; //업캐스팅\n",
    "s1.Draw(); \n",
    "Rect r = new Rect();\n",
    "Shape s2 = r; //업캐스팅\n",
    "s2.Draw(); \n",
    "\n",
    "\n",
    "\n",
    "\n",
    "ShapeSet ss = new ShapeSet();\n",
    "ss.AddShape(new Circle());\n",
    "ss.AddShape(new Rect());\n",
    "ss.AddShape(new Circle());\n",
    "ss.AddShape(new Circle());\n",
    "ss.AddShape(new Rect());\n",
    "\n",
    "class ShapeSet{\n",
    "\tprivate ArrayList arList = new ArrayList();\n",
    "\tpublic void AddShape(Shape s){\n",
    "\t\tarList.Add(s);\n",
    "\t}\n",
    "\tpublic void DrawAllShape(){\n",
    "\t\tforeach(Shape s in arList){\n",
    "\t\ts.Draw();\n",
    "\t}\n",
    "\t}\n",
    "}\n"
   ]
  },
  {
   "cell_type": "code",
   "execution_count": 22,
   "id": "ba2e7dad",
   "metadata": {},
   "outputs": [],
   "source": [
    "// 인터페이스와 추상클래스의 가상함수 예시 끝판왕 잘 보고 이해하기를!\n",
    "public interface IFork {\n",
    "    void dig();\n",
    "} \n",
    "\n",
    "public interface ITank {\n",
    "    void shoot();\n",
    "} \n",
    "\n",
    "public abstract class AutoCar {\n",
    "    public abstract void drive();\n",
    "} \n",
    "\n",
    "public class MadCar : AutoCar, IFork, ITank{\n",
    "    public void dig(){\n",
    "        Console.WriteLine(\"IFork : 땅을 파고 있습니다.\");\n",
    "    }\n",
    "    public void shoot(){\n",
    "        Console.WriteLine(\"ITank : 포를 쏘고 있습니다.\");\n",
    "    }\n",
    "    public override void drive(){\n",
    "        Console.WriteLine(\"AutoCar : 운전을 하고 있습니다.\");\n",
    "    }\n",
    "    public void soundHorn(){\n",
    "        Console.WriteLine(\"MadCar : 빠아앙! 빠아앙!\");\n",
    "    }\n",
    "} \n",
    "\n",
    "public class MadCarMain{\n",
    "    public static void main(String[ ] args){\n",
    "    MadCar m = new MadCar();\n",
    "    m.dig();\n",
    "    m.shoot();\n",
    "    m.drive();\n",
    "    m.soundHorn();\n",
    "    //1. IFork 인터페이스로 업캐스팅\n",
    "    IFork f = m;\n",
    "        f.dig();\n",
    "    //2. ITank 인터페이스로 업캐스팅\n",
    "    ITank t = m;\n",
    "    t.shoot();\n",
    "    //3. AutoCar 추상 클래스로 업캐스팅\n",
    "    AutoCar c = m;\n",
    "    c.drive();\n",
    "    }\n",
    " }"
   ]
  },
  {
   "cell_type": "code",
   "execution_count": 25,
   "id": "5a6ce978",
   "metadata": {},
   "outputs": [
    {
     "name": "stdout",
     "output_type": "stream",
     "text": [
      "1234\n",
      "안녕하세요. 아무개입니다\n",
      "True\n",
      "3.123124\n",
      "Z\n"
     ]
    }
   ],
   "source": [
    "// object란??\n",
    "// C#은 char, int, bool과 같은 모든 데이터 형식을 Object 형으로부터 파생하도록 \n",
    "// 설계 하였다. 이를 상속받았다고 이야기하는데 모든 데이터 형식은 Object \n",
    "// 형식으로부터 상속 받았다고 한다. 그렇기 때문에 object 형은 모든 데이터 형을 \n",
    "// 받을 수 있다. \n",
    "\n",
    "    object a =1234;\n",
    "    object b =\"안녕하세요. 아무개입니다\";\n",
    "    object c =true;\n",
    "    object d =3.123124;\n",
    "    object e =\"Z\";\n",
    "    \n",
    "    Console.WriteLine(a);\n",
    "    Console.WriteLine(b);\n",
    "    Console.WriteLine(c);\n",
    "    Console.WriteLine(d);\n",
    "    Console.WriteLine(e);\n",
    " "
   ]
  },
  {
   "cell_type": "code",
   "execution_count": 27,
   "id": "8bfeb8e3",
   "metadata": {},
   "outputs": [
    {
     "name": "stdout",
     "output_type": "stream",
     "text": [
      "j=123\n",
      "p=123\n",
      "o=123\n"
     ]
    }
   ],
   "source": [
    "// Boxing: 값 타입을 참조 타입으로 변환하는 기법 \n",
    "// UnBoxing: 참조 타입을 다시 값 타입으로 변화하는 기법 \n",
    "// Boxing의 예 \n",
    "/* int p = 123;\n",
    "object o = p; */ //Boxing이 발생 \n",
    "\n",
    "//Unboxing의 예시 \n",
    "int p = 123;\n",
    "object o = p; //Boxing 묵시적으로 이루어진다. \n",
    "int j = (int) o; //UnBoxing 명시적으로 캐스팅 해주어야 함. \n",
    "Console.WriteLine(\"j=\" + j);\n",
    "Console.WriteLine(\"p=\" + p);\n",
    "Console.WriteLine(\"o=\" + o);\n",
    "\n",
    "// 한마디로 boxing은 어떤 값을 또 다른 변수에 값 말고 변수 명을 할당해주는 것이고 \n",
    "// unboxing은 할당된 또 다른 변수를 다시 새로운 변수에 형을 명시해서 풀어주는 것이다."
   ]
  },
  {
   "cell_type": "code",
   "execution_count": 29,
   "id": "ee216581",
   "metadata": {},
   "outputs": [
    {
     "name": "stdout",
     "output_type": "stream",
     "text": [
      "10"
     ]
    }
   ],
   "source": [
    "struct Point {\n",
    "\tpublic int x, y;\n",
    "\tpublic Point(int x, int y) {\n",
    "\t\tthis.x = x;\n",
    "\t\tthis.y = y;\n",
    "\t}\n",
    "} \n",
    "\n",
    "\n",
    "\t\tPoint p = new Point(10, 10);\n",
    "\t\tobject box = p; //박싱발생\n",
    "\t\tp.x = 20;\n",
    "\t\tConsole.Write(((Point)box).x); //이거를 이해 못 하겠음 ㄷㄷ \n",
    "// 구조체(struct)에 참조 값 형식으로 새로운 변수에 할당해도 여전히 값 타입이다. "
   ]
  },
  {
   "cell_type": "code",
   "execution_count": null,
   "id": "0f987e6b",
   "metadata": {},
   "outputs": [],
   "source": [
    "// 대리자(Delegate)\n",
    "// 대리자 형식은 메서드에 대한 참조를 가리키는 형식이다. 즉, 대리자 형식의 참조 변수를\n",
    "// 통해 메서드를 간접적으로 호출할 수 있는 방법을 제공한다. \n",
    "\n",
    "// 대리자 특징 \n",
    "// 1) 대리자를 사용하면 메서드를 매개 변수로 전달하는 것이 가능하다. \n",
    "// 2) 대리자의 타입과 일치하는 구조의 모든 메서드들을 대리자에 할당하는 것이 가능하다. \n",
    "// 3) 대리자는 사용자 정의형으로 일반적으로 클래스와 같은 위치에서 선언한다. \n",
    "// 4) 대리자는 메서드를 안전하게 캡슐화하는 형식이다. \n",
    "// 5) 대리자는 콜백 메서드를 구현할 때 이상적이다. \n",
    "// 6) 콜백(Call Back)이란 예를 들어 A라는 메서드를 호출할 때, B라는 메서드를 매개변수로 \n",
    "// 넘겨주고  A 메서드에서 B 메서드를 호출하는 것을 말한다. 여기서 A메서드를 콜백 \n",
    "// 메서드라고 한다. \n",
    "\n",
    "// 대리자가 왜 형식(type)일까? \n",
    "// delegate라는 키워드는 메서드를 가리킬 수 있는 내부 .NET 타입에 대한 \"간편 표기법\"\n",
    "// 이다. 실제로 delegate의 내부 타입은 MulticastDelegate 클래스이다. 그래서 대리자 역시\n",
    "// 클래스이기 때문에 대리자를 사용하여 메서드의 참조를 저장하고 호출할 수 있었던 \n",
    "// 것이다. \n",
    "\n",
    "// 1) 대리자 정의하기 \n",
    "// 접근제한자 delegate 반환타입 대리자명 (매개변수);\n",
    "    public delegate void Print(int result);\n",
    "    \n",
    "// 2) 대리자가 참조할 메소드(함수) 정의하기\n",
    "// 대리자는 메소드에 대한 참조이기 때문에 자신이 참조할 메소드의 반환 타입과 매개 \n",
    "// 변수를 일치시켜야 한다. \n",
    "\n",
    "\n",
    "// 3) 대리자를 인스턴스화하기\n",
    "// 대리자 타입의 참조 변수를 선언하고 메서드를 할당하면 대리자 인스턴스가 만들어진다. \n",
    "\n",
    "Print printDel = new Print (PrintNumber); // 방법(1)\n",
    "\n",
    "Print printDel2 = PrintNumber; //방법(2)\n",
    "\n",
    "//4) 대리자 호출하기 \n",
    "// 이제 생성된 대리자 인스턴스를 이용하여 메서드를 호출할 수 있다. \n",
    "printDel(100); "
   ]
  },
  {
   "cell_type": "code",
   "execution_count": 31,
   "id": "5c5f7333",
   "metadata": {},
   "outputs": [
    {
     "name": "stdout",
     "output_type": "stream",
     "text": [
      "KIM:1000\n",
      "LEE:1500\n",
      "JUN:2000\n"
     ]
    }
   ],
   "source": [
    "// 일형성 예제 (직원들의 이름과 월급을 출력해보자!)\n",
    "\n",
    "\n",
    "class Permanent{\n",
    "\tprivate String name;\n",
    "\tprivate int salary;\n",
    "\tpublic Permanent(String name, int salary){ //생성자 생성: class이름과 동일해야 함\n",
    "\t\tthis.name = name;\n",
    "\t\tthis.salary = salary;\n",
    "\t}\n",
    "\tpublic String GetName(){\n",
    "\t\treturn this.name;\n",
    "\t}\n",
    "\tpublic int GetPay(){\n",
    "\t\treturn this.salary;\n",
    "\t}\n",
    "}\n",
    "\n",
    "class Department{\n",
    "\tprivate ArrayList arList = new ArrayList();\n",
    "\tpublic void AddEmployee(Permanent p){\n",
    "\t\tthis.arList.Add(p);\n",
    "\t}\n",
    "\tpublic void ShowEmployee(){\n",
    "\t\tforeach(Permanent p in arList){\n",
    "\t\t\tConsole.WriteLine(p.GetName() + \":\" + p.GetPay());\n",
    "\t\t}\n",
    "\t}\n",
    "}\n",
    "\n",
    "Department depart = new Department();\n",
    "depart.AddEmployee(new Permanent(\"KIM\", 1000)); //arryList에 있는 Permanent p에 \n",
    "// 계속해서 \"KIM\"(string Nane), 1OOO(int Salary)을 넣어준다.\n",
    "depart.AddEmployee(new Permanent(\"LEE\", 1500));\n",
    "depart.AddEmployee(new Permanent(\"JUN\", 2000));\n",
    "depart.ShowEmployee();"
   ]
  },
  {
   "cell_type": "code",
   "execution_count": 44,
   "id": "5c8ced68",
   "metadata": {},
   "outputs": [
    {
     "name": "stdout",
     "output_type": "stream",
     "text": [
      "KIM:1000\n",
      "LEE:1500\n",
      "PARK:2000\n",
      "SONG:1700\n"
     ]
    }
   ],
   "source": [
    "// 다형성 예제 -> 주의 깊게 봐보기를!! \n",
    "\n",
    "abstract class Employee{\n",
    "\tprivate String name;\n",
    "\tpublic Employee(String name){ //생성자 : 클래스와 같은 이름\n",
    "\t\tthis.name = name;\n",
    "\t}\n",
    "\tpublic String GetName(){\n",
    "\t\treturn this.name;\n",
    "\t}\n",
    "\tpublic abstract int GetPay();\n",
    "}\n",
    "\n",
    "class Permanent : Employee{\n",
    "\tprivate int salary;\n",
    "\tpublic Permanent(String name, int salary) : base(name){ // 부모 class 의 생성자를 호출한다.\n",
    "\t\tthis.salary = salary;\n",
    "\t}\n",
    "\tpublic override int GetPay(){\n",
    "\t\treturn this.salary;\n",
    "\t}\n",
    "}\n",
    "\n",
    "class PartTime : Employee{\n",
    "\tprivate int time;\n",
    "\tprivate int pay;\n",
    "\tpublic PartTime(String name, int time, int pay) : base(name){\n",
    "\t\tthis.time = time;\n",
    "\t\tthis.pay = pay;\n",
    "\t}\n",
    "\tpublic override int GetPay(){\n",
    "\t\treturn this.time * this.pay;\n",
    "\t}\n",
    "}\n",
    "\n",
    "\n",
    "class Department{\n",
    "\tprivate ArrayList arList = new ArrayList();\n",
    "\tpublic void AddEmployee(Employee p){\n",
    "\t\tthis.arList.Add(p);\n",
    "\t}\n",
    "\tpublic void ShowEmployee(){\n",
    "\t\tforeach(Employee p in arList){\n",
    "\t\t\tConsole.WriteLine(p.GetName() + \":\" + p.GetPay());\n",
    "\t\t}\n",
    "\t}\n",
    "}\n",
    "\n",
    "\n",
    "\t\tDepartment depart = new Department(); // 이게 바로 upcasting 이쥬~!? \n",
    "\t\tdepart.AddEmployee(new Permanent(\"KIM\", 1000)); //Employee, Permanent 2개 메서드 존재\n",
    "\t\tdepart.AddEmployee(new Permanent(\"LEE\", 1500)); // Employee, Permanent\n",
    "\t\tdepart.AddEmployee(new PartTime(\"PARK\", 10, 200)); // Employee, PartTime\n",
    "\t\tdepart.AddEmployee(new PartTime(\"SONG\", 10, 170)); // Employee, PartTime\n",
    "\t\tdepart.ShowEmployee(); //arList에 총 4번의 함수들이 배열 안에 들어가 있다. \n",
    "\t        //위 형식은 실제로 이렇게 된다 \n",
    "\t\t//new PartTime(“PARK”, 10, 200) => Employee p = new PartTime(“PARK”, 10, 200)\n",
    "\n"
   ]
  },
  {
   "cell_type": "code",
   "execution_count": 45,
   "id": "68aead8e",
   "metadata": {},
   "outputs": [
    {
     "name": "stderr",
     "output_type": "stream",
     "text": [
      "\r\n",
      "(31,25): error CS8635: 예기치 않은 '...' 문자 시퀀스입니다.\r\n",
      "\r\n",
      "(31,27): error CS1002: ;이 필요합니다.\r\n",
      "\r\n",
      "(31,27): error CS1513: }가 필요합니다.\r\n",
      "\r\n",
      "(32,26): error CS8635: 예기치 않은 '...' 문자 시퀀스입니다.\r\n",
      "\r\n",
      "(32,28): error CS1002: ;이 필요합니다.\r\n",
      "\r\n",
      "(32,28): error CS1513: }가 필요합니다.\r\n",
      "\r\n",
      "(33,27): error CS8635: 예기치 않은 '...' 문자 시퀀스입니다.\r\n",
      "\r\n",
      "(33,29): error CS1002: ;이 필요합니다.\r\n",
      "\r\n",
      "(33,29): error CS1513: }가 필요합니다.\r\n",
      "\r\n",
      "(34,29): error CS8635: 예기치 않은 '...' 문자 시퀀스입니다.\r\n",
      "\r\n",
      "(34,31): error CS1002: ;이 필요합니다.\r\n",
      "\r\n",
      "(34,31): error CS1513: }가 필요합니다.\r\n",
      "\r\n",
      "(40,25): error CS8635: 예기치 않은 '...' 문자 시퀀스입니다.\r\n",
      "\r\n",
      "(40,27): error CS1002: ;이 필요합니다.\r\n",
      "\r\n",
      "(40,27): error CS1513: }가 필요합니다.\r\n",
      "\r\n",
      "(41,26): error CS8635: 예기치 않은 '...' 문자 시퀀스입니다.\r\n",
      "\r\n",
      "(41,28): error CS1002: ;이 필요합니다.\r\n",
      "\r\n",
      "(41,28): error CS1513: }가 필요합니다.\r\n",
      "\r\n",
      "(42,27): error CS8635: 예기치 않은 '...' 문자 시퀀스입니다.\r\n",
      "\r\n",
      "(42,29): error CS1002: ;이 필요합니다.\r\n",
      "\r\n",
      "(42,29): error CS1513: }가 필요합니다.\r\n",
      "\r\n",
      "(43,29): error CS8635: 예기치 않은 '...' 문자 시퀀스입니다.\r\n",
      "\r\n",
      "(43,31): error CS1002: ;이 필요합니다.\r\n",
      "\r\n",
      "(43,31): error CS1513: }가 필요합니다.\r\n",
      "\r\n"
     ]
    },
    {
     "ename": "Error",
     "evalue": "compilation error",
     "output_type": "error",
     "traceback": []
    }
   ],
   "source": [
    "// 인터페이스 \n",
    "// 이해를 돕기 위한 리모컨 통합 과정 구현 예시 \n",
    "\n",
    "public interface IRemoteControl{\n",
    "\tvoid PowerOn(); //추상 함수\n",
    "\tvoid PowerOff(); //추상 함수\n",
    "\tvoid ChannelUp(); //추상 함수: 브레이스가 없는 함수 \n",
    "\tvoid ChannelDown(); //추상 함수:또는 abstract가 붙은 함수 \n",
    "} \n",
    "\n",
    "public class SSTVRemote : IRemoteControl{\n",
    "\tprotected int nChannel = 0;\n",
    "\tprotected booln bPower = false;\n",
    "\tpublic void PowerOn(){ \n",
    "\t\tbPower = true;\n",
    "\t} \n",
    "\tpublic void PowerOff(){ \n",
    "\t\tbPower = false;\n",
    "\t}\n",
    "\tpublic void ChannelUp() {\n",
    "\t\tnChannel++;\n",
    "\t}\n",
    "\tpublic void ChannelDown() {\n",
    "\t\tnChannel--;\n",
    "\t}\n",
    "}\n",
    "\n",
    "\n",
    "public class DWTVRemote : IRemoteControl{\n",
    "\t//...\n",
    "\tpublic void PowerOn(){ ... } //SSTVRemote class 내부 메서드와\n",
    "\tpublic void PowerOff(){ ... } // 내용이 같기 때문에 생략한 것이다.\n",
    "\tpublic void ChannelUp(){ ... } \n",
    "\tpublic void ChannelDown(){ ... } \n",
    "}\n",
    "\n",
    "\n",
    "public class HDTVRemote : IRemoteControl{\n",
    "\t//...\n",
    "\tpublic void PowerOn(){ ... } \n",
    "\tpublic void PowerOff(){ ... } \n",
    "\tpublic void ChannelUp(){ ... } \n",
    "\tpublic void ChannelDown(){ ... } \n",
    "}\n",
    "\n",
    "\n",
    "IRemoteControl irc1 = new SSTVRemote();\n",
    "irc1. PowerOn(); \n",
    "irc1. PowerOff(); \n",
    "irc1. ChannelUp(); \n",
    "irc1. ChannelDown(); \n",
    "IRemoteControl irc2 = new DWTVRemote();\n",
    "irc2. PowerOn(); \n",
    "irc2. PowerOff(); \n",
    "irc2. ChannelUp(); \n",
    "irc2. ChannelDown(); \n",
    "IRemoteControl irc3 = new HDTVRemote();\n",
    "irc3. PowerOn(); \n",
    "irc3. PowerOff(); \n",
    "irc3. ChannelUp(); \n",
    "irc3. ChannelDown();\n"
   ]
  },
  {
   "cell_type": "code",
   "execution_count": 48,
   "id": "be7b87ef",
   "metadata": {},
   "outputs": [
    {
     "name": "stderr",
     "output_type": "stream",
     "text": [
      "\r\n",
      "(2,25): error CS0501: 'Shape.Draw()'은(는) abstract, extern 또는 partial로 표시되어 있지 않으므로 본문을 선언해야 합니다.\r\n",
      "\r\n",
      "(3,25): error CS0501: 'Shape.Delete()'은(는) abstract, extern 또는 partial로 표시되어 있지 않으므로 본문을 선언해야 합니다.\r\n",
      "\r\n",
      "(19,4): error CS1061: 'Shape'에는 'SayCircle'에 대한 정의가 포함되어 있지 않고, 'Shape' 형식의 첫 번째 인수를 허용하는 액세스 가능한 확장 메서드 'SayCircle'이(가) 없습니다. using 지시문 또는 어셈블리 참조가 있는지 확인하세요.\r\n",
      "\r\n",
      "(19,1): error CS0201: 대입, 호출, 증가, 감소 및 새 개체 식만 문으로 사용할 수 있습니다.\r\n",
      "\r\n"
     ]
    },
    {
     "ename": "Error",
     "evalue": "compilation error",
     "output_type": "error",
     "traceback": []
    }
   ],
   "source": [
    "public class Shape{\n",
    "    public virtual void Draw();\n",
    "    public virtual void Delete();\n",
    "}\n",
    "\n",
    "public class Circle : Shape{\n",
    "    public override void  Draw(){\n",
    "        Console.WriteLine(\"I'm drawing now\");\n",
    "    }\n",
    "    public override void Delete(){\n",
    "        Console.WriteLine(\"I'm deleting dude~!\");\n",
    "    }\n",
    "    public void SayCircle(){\n",
    "        Console.WriteLine(\"I'm bowing up to my valley!\");\n",
    "    }\n",
    "}\n",
    "\n",
    "Shape c1 = new Circle();\n",
    "c1.SayCircle;\n",
    "\n",
    "\n"
   ]
  },
  {
   "cell_type": "code",
   "execution_count": 73,
   "id": "774b7e92",
   "metadata": {},
   "outputs": [
    {
     "name": "stdout",
     "output_type": "stream",
     "text": [
      "I'm deleting dude~!\r\n"
     ]
    }
   ],
   "source": [
    "abstract class Shape{\n",
    "    public virtual void  Draw(){\n",
    "    Console.Write(\"가나다라\");\n",
    "    }\n",
    "    public virtual void  Delete(){\n",
    "    Console.Write(\"마바사아\");\n",
    "    }\n",
    "}\n",
    "\n",
    "class Circle : Shape{\n",
    "    public override void Draw(){\n",
    "        Console.WriteLine(\"I'm drawing now\");\n",
    "    }\n",
    "    public override void Delete(){\n",
    "        Console.WriteLine(\"I'm deleting dude~!\");\n",
    "    }\n",
    "    public void SayCircle(){\n",
    "        Console.WriteLine(\"I'm bowing down up to my valley!\");\n",
    "    }\n",
    "}\n",
    "\n",
    "Shape c1 = new Circle();\n",
    "c1.Delete();\n"
   ]
  },
  {
   "cell_type": "code",
   "execution_count": 65,
   "id": "cf6455e7",
   "metadata": {},
   "outputs": [
    {
     "name": "stdout",
     "output_type": "stream",
     "text": [
      "BaseSon : who is a base son?\r\n"
     ]
    },
    {
     "data": {
      "text/html": [
       "<div class=\"dni-plaintext\">Submission#67+BaseSon</div>"
      ]
     },
     "execution_count": 65,
     "metadata": {},
     "output_type": "execute_result"
    }
   ],
   "source": [
    "// Base 키워드를 통해서 어떻게 상위 class의 생성자를 호출하는가? \n",
    "\n",
    "public class BaseFather {\n",
    "\tprivate string name;\n",
    "\tpublic BaseFather(string name) {\n",
    "\t\tthis.name = name;\n",
    "\t\tConsole.WriteLine(\"BaseSon : {0}\", name);\n",
    "\t}\n",
    "}\n",
    "public class BaseSon : BaseFather {\n",
    "\tpublic BaseSon(string name) : base(name) {\n",
    "\t\n",
    "\t}\n",
    "}\n",
    "\n",
    "BaseFather a = new BaseSon(\"who is a base son?\");\n",
    "a\n"
   ]
  },
  {
   "cell_type": "code",
   "execution_count": null,
   "id": "d2f4a6d5",
   "metadata": {},
   "outputs": [],
   "source": [
    "// "
   ]
  },
  {
   "cell_type": "code",
   "execution_count": null,
   "id": "6a0e371d",
   "metadata": {},
   "outputs": [],
   "source": []
  },
  {
   "cell_type": "code",
   "execution_count": null,
   "id": "5374fdea",
   "metadata": {},
   "outputs": [],
   "source": []
  },
  {
   "cell_type": "code",
   "execution_count": null,
   "id": "3b736c24",
   "metadata": {},
   "outputs": [],
   "source": []
  },
  {
   "cell_type": "code",
   "execution_count": null,
   "id": "1ef06ea1",
   "metadata": {},
   "outputs": [],
   "source": []
  },
  {
   "cell_type": "code",
   "execution_count": null,
   "id": "6dcb7442",
   "metadata": {},
   "outputs": [],
   "source": []
  },
  {
   "cell_type": "code",
   "execution_count": null,
   "id": "1e035ee1",
   "metadata": {},
   "outputs": [],
   "source": []
  }
 ],
 "metadata": {
  "kernelspec": {
   "display_name": ".NET (C#)",
   "language": "C#",
   "name": ".net-csharp"
  },
  "language_info": {
   "file_extension": ".cs",
   "mimetype": "text/x-csharp",
   "name": "C#",
   "pygments_lexer": "csharp",
   "version": "10.0"
  }
 },
 "nbformat": 4,
 "nbformat_minor": 5
}
