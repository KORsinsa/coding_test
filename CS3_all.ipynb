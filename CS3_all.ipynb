{
 "cells": [
  {
   "cell_type": "code",
   "execution_count": 22,
   "id": "a7d5c831",
   "metadata": {},
   "outputs": [
    {
     "name": "stdout",
     "output_type": "stream",
     "text": [
      "9\r\n"
     ]
    },
    {
     "ename": "Error",
     "evalue": "System.ArgumentNullException: Value cannot be null. (Parameter 's')\r\n   at System.Int32.Parse(String s)\r\n   at Submission#24.<<Initialize>>d__0.MoveNext()\r\n--- End of stack trace from previous location ---\r\n   at Microsoft.CodeAnalysis.Scripting.ScriptExecutionState.RunSubmissionsAsync[TResult](ImmutableArray`1 precedingExecutors, Func`2 currentExecutor, StrongBox`1 exceptionHolderOpt, Func`2 catchExceptionOpt, CancellationToken cancellationToken)",
     "output_type": "error",
     "traceback": [
      "System.ArgumentNullException: Value cannot be null. (Parameter 's')\r\n   at System.Int32.Parse(String s)\r\n   at Submission#24.<<Initialize>>d__0.MoveNext()\r\n--- End of stack trace from previous location ---\r\n   at Microsoft.CodeAnalysis.Scripting.ScriptExecutionState.RunSubmissionsAsync[TResult](ImmutableArray`1 precedingExecutors, Func`2 currentExecutor, StrongBox`1 exceptionHolderOpt, Func`2 catchExceptionOpt, CancellationToken cancellationToken)",
      "   at System.Int32.Parse(String s)",
      "   at Submission#24.<<Initialize>>d__0.MoveNext()",
      "--- End of stack trace from previous location ---",
      "   at Microsoft.CodeAnalysis.Scripting.ScriptExecutionState.RunSubmissionsAsync[TResult](ImmutableArray`1 precedingExecutors, Func`2 currentExecutor, StrongBox`1 exceptionHolderOpt, Func`2 catchExceptionOpt, CancellationToken cancellationToken)"
     ]
    }
   ],
   "source": [
    "Console.WriteLine(\"9\");\n",
    "int i = int.Parse(Console.ReadLine());\n",
    "while( i>=1 && i<=9){\n",
    "    Console.WriteLine(\"당신이 입력한 수는 {0}\\n\", i);\n",
    "}\n"
   ]
  },
  {
   "cell_type": "code",
   "execution_count": 23,
   "id": "babd0ab7",
   "metadata": {},
   "outputs": [
    {
     "name": "stdout",
     "output_type": "stream",
     "text": [
      "홀수들의 합은 2500 입니다.\n",
      "짝수들의 합은 2450 입니다.\n"
     ]
    }
   ],
   "source": [
    "// 홀수 짝수 합을 구하는 코드 \n",
    "int i, even, odd = 0; //even: 짝수,  odd: 홀수\n",
    "for(i=0; i<100; i++){\n",
    "        if (i % 2 == 0)\n",
    "        even += i;\n",
    "        \n",
    "        else if (i % 2 != 0)\n",
    "        odd += i;\n",
    "\n",
    "}\n",
    "\n",
    "Console.WriteLine(\"홀수들의 합은 {0} 입니다.\", odd);\n",
    "Console.WriteLine(\"짝수들의 합은 {0} 입니다.\", even);\n"
   ]
  },
  {
   "cell_type": "code",
   "execution_count": 26,
   "id": "fa6b7967",
   "metadata": {},
   "outputs": [
    {
     "name": "stdout",
     "output_type": "stream",
     "text": [
      "2100\r\n"
     ]
    }
   ],
   "source": [
    "// 3.1.4 클래스 내에 함수 삽입 \n",
    "public class top{\n",
    "            public int a;\n",
    "            public int b;\n",
    "            public int GetData(){\n",
    "                        return a + b;\n",
    "            \n",
    "            }\n",
    "\n",
    "}//class \n",
    "\n",
    "top t = new top();\n",
    "t.a = 100;\n",
    "t.b = 2000;\n",
    "int c1 = t.GetData(); //class 내의 함수가 작동해서 a + b 값을 반환해서 함수가 내어준다.\n",
    "Console.WriteLine(c1);"
   ]
  },
  {
   "cell_type": "code",
   "execution_count": 27,
   "id": "f9b20519",
   "metadata": {},
   "outputs": [
    {
     "name": "stderr",
     "output_type": "stream",
     "text": [
      "\r\n",
      "(15,9): error CS0122: '보호 수준 때문에 'Person.weight'에 액세스할 수 없습니다.\r\n",
      "\r\n",
      "(18,39): error CS0122: '보호 수준 때문에 'Person.weight'에 액세스할 수 없습니다.\r\n",
      "\r\n"
     ]
    },
    {
     "ename": "Error",
     "evalue": "compilation error",
     "output_type": "error",
     "traceback": []
    }
   ],
   "source": [
    "// 접근제어 \n",
    "// public : 멤버에 직접 접근할 수 있다. \n",
    "// private : 멤버에 직접 접근할 수 없다. \n",
    "// 접근 지정자의 종류 : private, public, protected\n",
    "// private 멤버의 접근은 public 멤버의 접근처럼 이용할 수 없다. \n",
    "public class Person{\n",
    "    public int age;\n",
    "    public float height;\n",
    "    private float weight; //private 멤버 변수 선언\n",
    "}\n",
    "\n",
    "Person brother = new Person(); //class의 변수 선언 및 기존의 class를 할당\n",
    "brother.age = 100;\n",
    "brother.height = 170.0F;\n",
    "brother.weight = 67.0F; //private 멤버 접근 에러 -> 그렇다면 어떻게 접근할 수 있을까?\n",
    "Console.WriteLine(\"age:\" + brother.age);\n",
    "Console.WriteLine(\"height:\" + brother.height);\n",
    "Console.WriteLine(\"weight:\" + brother.weight); //private 멤버 접근 - 에러\n"
   ]
  },
  {
   "cell_type": "code",
   "execution_count": 31,
   "id": "c089c982",
   "metadata": {},
   "outputs": [
    {
     "name": "stdout",
     "output_type": "stream",
     "text": [
      "500\r\n"
     ]
    }
   ],
   "source": [
    "// private 멤버 변수 값을 할당하고 값을 받아오려면 class 내부에서 각각 \n",
    "// public 멤버 형태의 메서드(함수)를 사용해야 한다.\n",
    "// 밑에 예시 \n",
    "\n",
    "public class TopSecret{\n",
    "        private int secret;\n",
    "        public void SetSecret(int x){ // private에 값을 할당하기 위한 함수\n",
    "                    secret = x;\n",
    "        }\n",
    "        \n",
    "        public int GetSecret(){  //private 값을 반환하기 위한 함수\n",
    "                    return secret;\n",
    "        }\n",
    "\n",
    "}\n",
    "\n",
    "TopSecret t = new TopSecret();\n",
    "t.SetSecret(500);\n",
    "int realsecret = t.GetSecret();\n",
    "\n",
    "Console.WriteLine(realsecret);"
   ]
  },
  {
   "cell_type": "code",
   "execution_count": null,
   "id": "631461c9",
   "metadata": {},
   "outputs": [],
   "source": [
    "// private 멤버 변수의 사용 이유\n",
    "// 1) 자료를 보호하기 위해서 2) 내부적으로만 사용하기 위해서 \n",
    "\n",
    "// 언제 public 멤버를 사용하는가? \n",
    "// 1) 클래스를 다른 사람에게 만들어준다고 가정 2) 다른 사람이 사용할 함수는 전부 \n",
    "// public. 그 외에는 전부 private 멤버를 사용한다. "
   ]
  },
  {
   "cell_type": "code",
   "execution_count": null,
   "id": "282e9be8",
   "metadata": {},
   "outputs": [],
   "source": [
    "// 속성(property)\n",
    "// 1) 멤버 필드에 값을 할당하는 방법 2)Set과 Get형식의 함수를 일반화한 형태 \n",
    "// 3) 스마트 필드(smart field)라고도 함\n",
    "// 속성(Property) 형식\n",
    "// private 데이터 타입 변수명;\n",
    "// public 데이터 타입 속성명 { //속성멤버\n",
    "//   set { \n",
    "//                속성 설정 구현        \n",
    "//  }\n",
    "//   get{\n",
    "//            속성 반환 구형\n",
    "//  }\n",
    "//} \n",
    "\n",
    "// set 함수 내에서 value라는 매개변수를 사용하며 외부에서 들어오는 값을 얻어낼 수 있다. \n",
    "// value는 set 접근자가 갖는 디폴트 매개변수이다.\n"
   ]
  },
  {
   "cell_type": "code",
   "execution_count": 41,
   "id": "dc4e26a3",
   "metadata": {},
   "outputs": [
    {
     "name": "stdout",
     "output_type": "stream",
     "text": [
      "저를 아사이말라이쿰이라고 불러주세요~!\r\n"
     ]
    }
   ],
   "source": [
    "// 속성 예시 \n",
    "\n",
    "class PropTest{\n",
    "        private string name; //소문자 이름 \n",
    "        public string Name{ //대문자 이름(Name:속성명)\n",
    "        get {  //여기서의 get은 private 멤버 변수를 반환하는 함수이다.\n",
    "            return name;\n",
    "        }\n",
    "        set{  //여기서 set 함수에서 value는 위에 속성명(input 값)을 받아와서 속성을 \n",
    "              // 설정해주는 역할을 한다. (value와 set는 짝꿍이다.)\n",
    "            name = value + \"이라고 불러주세요~!\";\n",
    "        }\n",
    "        }\n",
    "}\n",
    "\n",
    "PropTest a = new PropTest();\n",
    "a.Name = \"아사이말라이쿰\";\n",
    "//string b = a.Name\n",
    "\n",
    "Console.WriteLine(\"저를 {0}\", a.Name);\n",
    "\n",
    "// 멤버 변수와 속성을 혼동하지 않도록 주의해야 한다. \n",
    "// 속성을 사용하는 이유: 속성이 직관적이며 편리하게 값을 변경할 수 있기 때문이다. "
   ]
  },
  {
   "cell_type": "code",
   "execution_count": null,
   "id": "4bb6125c",
   "metadata": {},
   "outputs": [],
   "source": [
    "// 객체의 메모리 생성 \n",
    "// 객체 변수 선언: Person sister; -> 메모리 없는 변수 \n",
    "// 메모리 생성, 인스턴스 생성: sister = new Person(); -> 메모리 있는 변수 "
   ]
  },
  {
   "cell_type": "code",
   "execution_count": null,
   "id": "82f8930d",
   "metadata": {},
   "outputs": [],
   "source": [
    "// 객체의 개념 \n",
    "// 답) 객체도 변수의 한 형태이며 클래스에서 만들어졌다 해서 객체 또는 인스턴스라고 \n",
    "// 부른다. "
   ]
  },
  {
   "cell_type": "code",
   "execution_count": null,
   "id": "a73cd59e",
   "metadata": {},
   "outputs": [],
   "source": []
  },
  {
   "cell_type": "code",
   "execution_count": null,
   "id": "94c722f5",
   "metadata": {},
   "outputs": [],
   "source": []
  },
  {
   "cell_type": "code",
   "execution_count": null,
   "id": "cf2280fa",
   "metadata": {},
   "outputs": [],
   "source": []
  },
  {
   "cell_type": "code",
   "execution_count": null,
   "id": "f5667187",
   "metadata": {},
   "outputs": [],
   "source": []
  },
  {
   "cell_type": "code",
   "execution_count": null,
   "id": "08740912",
   "metadata": {},
   "outputs": [],
   "source": []
  }
 ],
 "metadata": {
  "kernelspec": {
   "display_name": ".NET (C#)",
   "language": "C#",
   "name": ".net-csharp"
  },
  "language_info": {
   "file_extension": ".cs",
   "mimetype": "text/x-csharp",
   "name": "C#",
   "pygments_lexer": "csharp",
   "version": "10.0"
  }
 },
 "nbformat": 4,
 "nbformat_minor": 5
}
