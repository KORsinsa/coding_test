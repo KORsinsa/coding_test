{
 "cells": [
  {
   "cell_type": "markdown",
   "id": "ddfda185",
   "metadata": {
    "slideshow": {
     "slide_type": "slide"
    }
   },
   "source": [
    "* 기본 데이터1 -1 "
   ]
  },
  {
   "cell_type": "code",
   "execution_count": 24,
   "id": "d1b382f6",
   "metadata": {
    "slideshow": {
     "slide_type": "slide"
    }
   },
   "outputs": [
    {
     "name": "stdout",
     "output_type": "stream",
     "text": [
      "Sum: 605\r\n"
     ]
    }
   ],
   "source": [
    "/*\n",
    "var name = \"james\";\n",
    "int age = 16;\n",
    "Console.WriteLine($\"nice to meet you, {name}!, your age is {age} year old right?\");\n",
    "*/\n",
    "\n",
    "var sum1 = 0;\n",
    "\n",
    "for (var i = 1; i <=10; i++) {\n",
    "    sum = sum + i;\n",
    "\n",
    "}\n",
    "\n",
    "Console.WriteLine($\"Sum: {sum}\");\n"
   ]
  },
  {
   "cell_type": "code",
   "execution_count": 2,
   "id": "4a7304f4",
   "metadata": {
    "slideshow": {
     "slide_type": "slide"
    }
   },
   "outputs": [
    {
     "name": "stderr",
     "output_type": "stream",
     "text": [
      "\r\n",
      "(7,1): error CS7021: 스크립트 코드에서 네임스페이스를 선언할 수 없습니다.\r\n",
      "\r\n",
      "(7,11): error CS1001: 식별자가 필요합니다.\r\n",
      "\r\n",
      "(7,16): error CS0116: 네임스페이스는 필드, 메서드 또는 문과 같은 멤버를 직접 포함할 수 없습니다.\r\n",
      "\r\n",
      "(7,11): error CS1514: {가 필요합니다.\r\n",
      "\r\n",
      "(7,12): error CS1013: 잘못된 숫자입니다.\r\n",
      "\r\n",
      "(8,1): error CS7017: 멤버 정의, 문 또는 파일 끝(EOF)이 필요합니다.\r\n",
      "\r\n"
     ]
    },
    {
     "ename": "Error",
     "evalue": "compilation error",
     "output_type": "error",
     "traceback": []
    }
   ],
   "source": [
    "using system;\n",
    "using system.Collections.Generic;\n",
    "using system.Linq;\n",
    "using System.Text;\n",
    "using System.Treading.Tasks;\n",
    "\n",
    "namespace _007_Variable2\n",
    "{\n",
    "    class Program\n",
    "    {\n",
    "    \n",
    "        static void Main(string[] args) //데이터 타입 + 식별자 \n",
    "        {\n",
    "            int x = 100;\n",
    "            int y = 200;\n",
    "            int a = 1000, b = 2000;\n",
    "            \n",
    "            Console.WriteLine(\"x:\" +x);\n",
    "            Console.WriteLine(\"y:\" +y);\n",
    "            Console.WriteLine(\"a:\" +a);\n",
    "            Console.WriteLine(\"b:\" +b);\n",
    "        }\n",
    "    }\n",
    "}"
   ]
  },
  {
   "cell_type": "code",
   "execution_count": 25,
   "id": "c3f223a4",
   "metadata": {},
   "outputs": [
    {
     "name": "stdout",
     "output_type": "stream",
     "text": [
      "x:100\n",
      "y:200\n",
      "a:1000\n",
      "b:2000\n"
     ]
    }
   ],
   "source": [
    "int x = 100;\n",
    "            int y = 200;\n",
    "            int a = 1000, b = 2000;\n",
    "            \n",
    "            Console.WriteLine(\"x:\" +x);\n",
    "            Console.WriteLine(\"y:\" +y);\n",
    "            Console.WriteLine(\"a:\" +a);\n",
    "            Console.WriteLine(\"b:\" +b);"
   ]
  },
  {
   "cell_type": "code",
   "execution_count": 26,
   "id": "b05ed306",
   "metadata": {},
   "outputs": [
    {
     "name": "stdout",
     "output_type": "stream",
     "text": [
      "1000\r\n"
     ]
    }
   ],
   "source": [
    "//006_Variable.Program\n",
    "int num;\n",
    "num = 1000;\n",
    "Console.WriteLine(num);"
   ]
  }
 ],
 "metadata": {
  "celltoolbar": "Slideshow",
  "kernelspec": {
   "display_name": ".NET (C#)",
   "language": "C#",
   "name": ".net-csharp"
  },
  "language_info": {
   "file_extension": ".cs",
   "mimetype": "text/x-csharp",
   "name": "C#",
   "pygments_lexer": "csharp",
   "version": "10.0"
  }
 },
 "nbformat": 4,
 "nbformat_minor": 5
}
