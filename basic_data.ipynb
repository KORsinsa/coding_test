{
 "cells": [
  {
   "cell_type": "markdown",
   "id": "ddfda185",
   "metadata": {
    "slideshow": {
     "slide_type": "slide"
    }
   },
   "source": [
    "* 기본 데이터1 -1 "
   ]
  },
  {
   "cell_type": "code",
   "execution_count": 24,
   "id": "d1b382f6",
   "metadata": {
    "slideshow": {
     "slide_type": "slide"
    }
   },
   "outputs": [
    {
     "name": "stdout",
     "output_type": "stream",
     "text": [
      "Sum: 605\r\n"
     ]
    }
   ],
   "source": [
    "/*\n",
    "var name = \"james\";\n",
    "int age = 16;\n",
    "Console.WriteLine($\"nice to meet you, {name}!, your age is {age} year old right?\");\n",
    "*/\n",
    "\n",
    "var sum1 = 0;\n",
    "\n",
    "for (var i = 1; i <=10; i++) {\n",
    "    sum = sum + i;\n",
    "\n",
    "}\n",
    "\n",
    "Console.WriteLine($\"Sum: {sum}\");\n"
   ]
  },
  {
   "cell_type": "code",
   "execution_count": 2,
   "id": "4a7304f4",
   "metadata": {
    "slideshow": {
     "slide_type": "slide"
    }
   },
   "outputs": [
    {
     "name": "stderr",
     "output_type": "stream",
     "text": [
      "\r\n",
      "(7,1): error CS7021: 스크립트 코드에서 네임스페이스를 선언할 수 없습니다.\r\n",
      "\r\n",
      "(7,11): error CS1001: 식별자가 필요합니다.\r\n",
      "\r\n",
      "(7,16): error CS0116: 네임스페이스는 필드, 메서드 또는 문과 같은 멤버를 직접 포함할 수 없습니다.\r\n",
      "\r\n",
      "(7,11): error CS1514: {가 필요합니다.\r\n",
      "\r\n",
      "(7,12): error CS1013: 잘못된 숫자입니다.\r\n",
      "\r\n",
      "(8,1): error CS7017: 멤버 정의, 문 또는 파일 끝(EOF)이 필요합니다.\r\n",
      "\r\n"
     ]
    },
    {
     "ename": "Error",
     "evalue": "compilation error",
     "output_type": "error",
     "traceback": []
    }
   ],
   "source": [
    "using system;\n",
    "using system.Collections.Generic;\n",
    "using system.Linq;\n",
    "using System.Text;\n",
    "using System.Treading.Tasks;\n",
    "\n",
    "namespace _007_Variable2\n",
    "{\n",
    "    class Program\n",
    "    {\n",
    "    \n",
    "        static void Main(string[] args) //데이터 타입 + 식별자 \n",
    "        {\n",
    "            int x = 100;\n",
    "            int y = 200;\n",
    "            int a = 1000, b = 2000;\n",
    "            \n",
    "            Console.WriteLine(\"x:\" +x);\n",
    "            Console.WriteLine(\"y:\" +y);\n",
    "            Console.WriteLine(\"a:\" +a);\n",
    "            Console.WriteLine(\"b:\" +b);\n",
    "        }\n",
    "    }\n",
    "}"
   ]
  },
  {
   "cell_type": "code",
   "execution_count": 25,
   "id": "c3f223a4",
   "metadata": {},
   "outputs": [
    {
     "name": "stdout",
     "output_type": "stream",
     "text": [
      "x:100\n",
      "y:200\n",
      "a:1000\n",
      "b:2000\n"
     ]
    }
   ],
   "source": [
    "int x = 100;\n",
    "            int y = 200;\n",
    "            int a = 1000, b = 2000;\n",
    "            \n",
    "            Console.WriteLine(\"x:\" +x);\n",
    "            Console.WriteLine(\"y:\" +y);\n",
    "            Console.WriteLine(\"a:\" +a);\n",
    "            Console.WriteLine(\"b:\" +b);"
   ]
  },
  {
   "cell_type": "code",
   "execution_count": 26,
   "id": "b05ed306",
   "metadata": {},
   "outputs": [
    {
     "name": "stdout",
     "output_type": "stream",
     "text": [
      "1000\r\n"
     ]
    }
   ],
   "source": [
    "//006_Variable.Program\n",
    "int num;\n",
    "num = 1000;\n",
    "Console.WriteLine(num);"
   ]
  },
  {
   "cell_type": "code",
   "execution_count": null,
   "id": "a4a7b002",
   "metadata": {},
   "outputs": [],
   "source": [
    "// 07\n",
    "int x = 100;\n",
    "int y = 200;\n",
    "int a = 1000, b = 2000;\n",
    "\n",
    "Console.WriteLine(\"x:\" + x);\n",
    "Console.WriteLine(\"y:\" + y);\n",
    "Console.WriteLine(\"a:\" + a);\n",
    "Console.WriteLine(\"b:\" + b);"
   ]
  },
  {
   "cell_type": "code",
   "execution_count": null,
   "id": "139b15a9",
   "metadata": {},
   "outputs": [],
   "source": [
    "// 08\n",
    "sbyte a = 120:\n",
    "byte b = 255;\n",
    "short c = 3000;\n",
    "long d = 1000000000000000000;\n",
    "ulong f = 10000000000000000000;\n",
    "int num = 100;\n",
    "\n",
    "Console.WriteLine(\"sbyte a:\" + a);\n",
    "Console.WriteLine(\"byte b:\" + b);\n",
    "Console.WriteLine(\"short c:\" + c);\n",
    "Console.WriteLine(\"long d:\" + d);\n",
    "Console.WriteLine(\"ulong e:\" + e);\n",
    "Console.WriteLine(\"int f:\" + f);"
   ]
  },
  {
   "cell_type": "code",
   "execution_count": null,
   "id": "aa9a8714",
   "metadata": {},
   "outputs": [],
   "source": [
    "// 09 \n",
    "Console.WriteLine(\"short min:{0} ~ short max: {1}\", short.MinValue, short.MaxValue);\n",
    "Console.WriteLine(\"byte min:{0} ~ byte max: {1}\", byte.MinValue, byte.MaxValue);\n",
    "Console.WriteLine(\"int min:{0} ~ int max: {1}\", int.MinValue, int.MaxValue);\n",
    "Console.WriteLine(\"long min:{0} ~ long max: {1}\", long.MinValue, long.MaxValue);\n"
   ]
  },
  {
   "cell_type": "code",
   "execution_count": null,
   "id": "c59d9a6c",
   "metadata": {},
   "outputs": [],
   "source": [
    "// 10 \n",
    "byte sbyteData = 255;\n",
    "sbyte sbyteData2 = (sbyte)sbyteData;\n",
    "int num = (int)sbyteData;\n",
    "\n",
    "Console.WriteLine(\"sbyteData:\" + sbyteData);\n",
    "Console.WriteLine(\"sbyteData2:\" + sbyteData2);\n",
    "Console.WriteLine(\"sbyte,Maxvalue:\" + sbyte.MaxValue);\n",
    "Console.WriteLine(\"num:\" + num);\n",
    "Console.WriteLine(\"int.Maxvalue:\" + int.MaxValue);"
   ]
  },
  {
   "cell_type": "code",
   "execution_count": null,
   "id": "337f8ed2",
   "metadata": {},
   "outputs": [],
   "source": [
    "// 11 \n",
    "int a = 0b11111111\n",
    "int b = 0xFF\n",
    "    \n",
    "Console.WriteLine(\"a: {0}\", a);\n",
    "Console.WriteLine(\"b:\" + b);"
   ]
  },
  {
   "cell_type": "code",
   "execution_count": null,
   "id": "d1a721f1",
   "metadata": {},
   "outputs": [],
   "source": [
    "// 12 \n",
    "Console.WriteLine(\"float min: {0} ~ float max: {1}\", float.MinValue, float.MaxValue);\n",
    "Console.WriteLine(\"double min: {0} ~ double max: {1}\", double.MinValue, double.MaxValue);\n",
    "Console.WriteLine(\"decimal min: {0} ~ decimal max: {1}\", decimal.MinValue, decimal.MaxValue);\n"
   ]
  },
  {
   "cell_type": "code",
   "execution_count": null,
   "id": "bd1651a3",
   "metadata": {},
   "outputs": [],
   "source": [
    "// 13 \n",
    "float a = 3.1415926535897932384626433832f\n",
    "Console.WriteLine(\"a: {0}\", a);\n",
    "\n",
    "double b = 3.1415926535897932384626433832;\n",
    "Console.WriteLine(\"b: {0}\", b);\n",
    "\n",
    "decimal c = 3.1415926535897932384626433832m;\n",
    "Console.WriteLine(\"c: {0}\", c);\n",
    "\n"
   ]
  },
  {
   "cell_type": "code",
   "execution_count": null,
   "id": "cdce7067",
   "metadata": {},
   "outputs": [],
   "source": [
    "// 14 \n",
    "char a = \"H\";\n",
    "char b = \"e\";\n",
    "char c = \"l\";\n",
    "char d = \"l\";\n",
    "char e = \"o\";\n",
    "\n",
    "string str = \"World!\";\n",
    "\n",
    "Console.WriteLine(\"{0}{1}{2}{3}{4} {5}\", a,b,c,d,e, str);\n",
    "\n"
   ]
  },
  {
   "cell_type": "code",
   "execution_count": null,
   "id": "9cc53a10",
   "metadata": {},
   "outputs": [],
   "source": [
    "// 15 \n",
    "char a = 'A'; // 아스키 코드 값 = 65\n",
    "int num = a;\n",
    "\n",
    "Console.WriteLine(\"문자: {0}, 아스키코드값: {1}, 문자로 캐스트 연산: {2}\", a, num, (char)num);\n"
   ]
  },
  {
   "cell_type": "code",
   "execution_count": null,
   "id": "482d4d59",
   "metadata": {},
   "outputs": [],
   "source": [
    "// 16 \n",
    "string str1 = \"abcdefg\";\n",
    "string str2 = \"hjklmn\";\n",
    "string str3 = str1 + str2;\n",
    "\n",
    "Console.WriteLine(\"str1 + str2: {0}\", str3);\n",
    "\n",
    "string str4 = \"zzz\";\n",
    "string str5 = \"zzz\";\n",
    "Console.WriteLine(\"str4 == str5: {0}\", (str4 == str5));\n",
    "\n",
    "int x = 10;\n",
    "string str6 = str5 + \"   \" + \":\" + x;\n",
    "Console.WriteLine(\"str6: {0}\", str6)"
   ]
  },
  {
   "cell_type": "code",
   "execution_count": 7,
   "id": "7a0c7992",
   "metadata": {},
   "outputs": [
    {
     "name": "stdout",
     "output_type": "stream",
     "text": [
      "a: 100\n",
      "b: 3.1415927\n",
      "c: 3.1415926535897932384626433832\n",
      "Hi World!!\n",
      "g: False\n"
     ]
    }
   ],
   "source": [
    "// 18 \n",
    "object a = 100;\n",
    "object b = 3.1415926535897932384626433832f;\n",
    "object c = 3.1415926535897932384626433832m;\n",
    "object d = 'H';\n",
    "object e = 'i';\n",
    "object f = \"World!!\";\n",
    "object g = false;\n",
    "\n",
    "Console.WriteLine(\"a: {0}\", a);\n",
    "Console.WriteLine(\"b: {0}\", b);\n",
    "Console.WriteLine(\"c: {0}\", c);\n",
    "Console.WriteLine(\"{0}{1} {2}\", d, e, f);\n",
    "Console.WriteLine(\"g: {0}\", g);"
   ]
  },
  {
   "cell_type": "code",
   "execution_count": 14,
   "id": "4983ed9f",
   "metadata": {},
   "outputs": [
    {
     "name": "stdout",
     "output_type": "stream",
     "text": [
      "SUN 0\n",
      "MON 1\n",
      "THE 2\n",
      "WED 3\n",
      "THU 4\n",
      "FRI 5\n",
      "SAT 6\n"
     ]
    }
   ],
   "source": [
    "//19  enum 열거형 자료 \n",
    "\n",
    "enum DAY_OF_WEEK\n",
    "{\n",
    "    SUN,  \n",
    "    MON,\n",
    "    THE,\n",
    "    WED,\n",
    "    THU,\n",
    "    FRI,\n",
    "    SAT,\n",
    "}\n",
    "\n",
    "Console.WriteLine(\"{0} {1}\", DAY_OF_WEEK.SUN, (int)DAY_OF_WEEK.SUN);\n",
    "Console.WriteLine(\"{0} {1}\", DAY_OF_WEEK.MON, (int)DAY_OF_WEEK.MON);\n",
    "Console.WriteLine(\"{0} {1}\", DAY_OF_WEEK.THE, (int)DAY_OF_WEEK.THE);\n",
    "Console.WriteLine(\"{0} {1}\", DAY_OF_WEEK.WED, (int)DAY_OF_WEEK.WED);\n",
    "Console.WriteLine(\"{0} {1}\", DAY_OF_WEEK.THU, (int)DAY_OF_WEEK.THU);\n",
    "Console.WriteLine(\"{0} {1}\", DAY_OF_WEEK.FRI, (int)DAY_OF_WEEK.FRI);\n",
    "Console.WriteLine(\"{0} {1}\", DAY_OF_WEEK.SAT, (int)DAY_OF_WEEK.SAT);\n",
    "// int로 출력할시 위에서 순서대로 0부터 인덱스 개념처럼 숫자가 출력된다. "
   ]
  },
  {
   "cell_type": "code",
   "execution_count": null,
   "id": "068cec22",
   "metadata": {},
   "outputs": [],
   "source": [
    "//20 enum 열거형 자료\n",
    "\n",
    "enum CHAR_STATE\n",
    "{\n",
    "    IDLE,\n",
    "    WALK,\n",
    "    RUN,\n",
    "    DIE,\n",
    "}\n",
    "\n",
    "\n",
    "enum CLICK_STATE\n",
    "{\n",
    "    NONE, \n",
    "    CLICK = 100,\n",
    "    DOUBLE_CLICK = 200, \n",
    "    UP, \n",
    "}\n",
    "\n",
    "\n",
    "CHAR_STATE charState = CHAR)STATE.IDLE;\n",
    "Console.WriteLine(\"캐릭터 상태: {0}  {1}\", charState, (int)charState);\n",
    "\n",
    "charState = CHAR_STATE.RUN;\n",
    "Console.WriteLine(\"캐릴터 상태: {0}   {1}\", charState, (int)charState);\n",
    "\n",
    "charState = CHAR_STATE.DIE;\n",
    "Console.WriteLine(\"캐릴터 상태: {0}   {1}\", charState, (int)charState);\n",
    "\n",
    "Console.WriteLine(\"CLICK_STATE: {0}   {1}\", CLICK_STATE.NONE, (int)CLICK_STATE.NONE);\n",
    "Console.WriteLine(\"CLICK_STATE: {0}   {1}\", CLICK_STATE.CLICK, (int)CLICK_STATE.CLICK);\n",
    "Console.WriteLine(\"CLICK_STATE: {0}   {1}\", CLICK_STATE.DOUBLE_CLICK, (int)CLICK_STATE.DOUBLE_CLICK);\n",
    "Console.WriteLine(\"CLICK_STATE: {0}   {1}\", CLICK_STATE.UP, (int)CLICK_STATE.UP);"
   ]
  },
  {
   "cell_type": "code",
   "execution_count": 12,
   "id": "b3aadb45",
   "metadata": {},
   "outputs": [
    {
     "name": "stderr",
     "output_type": "stream",
     "text": [
      "\r\n",
      "(11,1): error CS7021: 스크립트 코드에서 네임스페이스를 선언할 수 없습니다.\r\n",
      "\r\n"
     ]
    },
    {
     "ename": "Error",
     "evalue": "compilation error",
     "output_type": "error",
     "traceback": []
    }
   ],
   "source": []
  },
  {
   "cell_type": "code",
   "execution_count": 27,
   "id": "b40d8ced",
   "metadata": {},
   "outputs": [
    {
     "name": "stdout",
     "output_type": "stream",
     "text": [
      "a: 3.14\n",
      "b: a\n",
      "c: 10\n",
      "isFlag: \n",
      "isFlag HasValue: False\n"
     ]
    }
   ],
   "source": [
    "// 21 nullable 자료형 \n",
    "// .Hasvalue : 안에 값이 들어 있는지 없는지 확인해주는 함수(값이 있으면 True 없으면 \n",
    "// False로 반환 해준다.)\n",
    "// .Value : 값이 있으면 해당 값을 반환 해주는 함수\n",
    "\n",
    "double? a = 3.14; \n",
    "char? b = 'a';\n",
    "\n",
    "int num = 10;\n",
    "int? c = num;\n",
    "\n",
    "bool? isFlag = null;\n",
    "\n",
    "Console.WriteLine(\"a: {0}\", a);\n",
    "Console.WriteLine(\"b: {0}\", b);\n",
    "Console.WriteLine(\"c: {0}\", c);\n",
    "\n",
    "Console.WriteLine(\"isFlag: {0}\", isFlag); // isFlag가 null값이기에 출력하면 아무것도\n",
    "// 뜨지 않는다.\n",
    "Console.WriteLine(\"isFlag HasValue: {0}\", isFlag.HasValue);\n",
    "\n",
    "if (isFlag.HasValue) //값을 참조하려면 반드시 null인지 체크..\n",
    "Console.WriteLine(\"isFlag HasValue: {0}\", isFlag.Value);"
   ]
  },
  {
   "cell_type": "code",
   "execution_count": 32,
   "id": "2cb6b92b",
   "metadata": {},
   "outputs": [
    {
     "name": "stdout",
     "output_type": "stream",
     "text": [
      "type: System.Int32, a: 100\n",
      "type: System.Single, b: 3.1415927\n",
      "type: System.Decimal, c: 3.1415926535897932384626433832\n",
      "type: System.Boolean, g: False\n",
      "Hi World!!\n",
      "num: 100\n"
     ]
    }
   ],
   "source": [
    "// 22 Data_var \n",
    "// 지역변수(var)는 특정 브레이스\"{}\"안에서만 기능하는 변수로서 object와 쓰임이 동일\n",
    "var a = 100;\n",
    "var b = 3.1415926535897932384626433832f;\n",
    "var c = 3.1415926535897932384626433832m;\n",
    "var d = 'H';\n",
    "var e = 'i';\n",
    "var f = \"World!!\";\n",
    "var g = false;\n",
    "\n",
    "\n",
    "Console.WriteLine(\"type: {0}, a: {1}\", a.GetType(), a);\n",
    "Console.WriteLine(\"type: {0}, b: {1}\", b.GetType(), b);\n",
    "Console.WriteLine(\"type: {0}, c: {1}\", c.GetType(), c);\n",
    "Console.WriteLine(\"type: {0}, g: {1}\", g.GetType(), g);\n",
    "\n",
    "Console.WriteLine(\"{0}{1} {2}\", d, e, f);\n",
    "\n",
    "// 지역변수 생성시 -> 반드시 선언과 동시에 초기화 해야함. 만약 선언하고 값을 부여하는\n",
    "// 것을 따로 해주면 error가 생김, 하지만 동시에 진행 후 값을 변경하는 것은 가능! \n",
    "\n",
    "var num = 0;\n",
    "num = 100;\n",
    "\n",
    "Console.WriteLine(\"num: \" + num);"
   ]
  },
  {
   "cell_type": "code",
   "execution_count": 34,
   "id": "3e3508e5",
   "metadata": {},
   "outputs": [
    {
     "name": "stdout",
     "output_type": "stream",
     "text": [
      "MIN:0  ~ MAX:100\r\n"
     ]
    }
   ],
   "source": [
    "// 23 const 상수 \n",
    "// 기존 변수의 데이터 타입 앞에 const 를 붙여주면 된다. \n",
    "// 상수이기 때문에 중간에 값 변경이 안된다. \n",
    "const int MIN = 0; \n",
    "const int MAX = 100;\n",
    "\n",
    "Console.WriteLine(\"MIN:{0}  ~ MAX:{1}\", MIN, MAX);\n"
   ]
  },
  {
   "cell_type": "code",
   "execution_count": null,
   "id": "a08cda14",
   "metadata": {},
   "outputs": [],
   "source": []
  },
  {
   "cell_type": "code",
   "execution_count": null,
   "id": "e08e2380",
   "metadata": {},
   "outputs": [],
   "source": []
  },
  {
   "cell_type": "code",
   "execution_count": null,
   "id": "32340a18",
   "metadata": {},
   "outputs": [],
   "source": []
  },
  {
   "cell_type": "code",
   "execution_count": null,
   "id": "0802ccae",
   "metadata": {},
   "outputs": [],
   "source": []
  },
  {
   "cell_type": "code",
   "execution_count": null,
   "id": "d597ec32",
   "metadata": {},
   "outputs": [],
   "source": []
  },
  {
   "cell_type": "code",
   "execution_count": null,
   "id": "65cec7f9",
   "metadata": {},
   "outputs": [],
   "source": []
  },
  {
   "cell_type": "code",
   "execution_count": null,
   "id": "9c18b455",
   "metadata": {},
   "outputs": [],
   "source": []
  },
  {
   "cell_type": "code",
   "execution_count": null,
   "id": "f3909719",
   "metadata": {},
   "outputs": [],
   "source": []
  },
  {
   "cell_type": "code",
   "execution_count": null,
   "id": "ea310ee2",
   "metadata": {},
   "outputs": [],
   "source": []
  },
  {
   "cell_type": "code",
   "execution_count": null,
   "id": "960d512d",
   "metadata": {},
   "outputs": [],
   "source": []
  },
  {
   "cell_type": "code",
   "execution_count": null,
   "id": "791d0b3d",
   "metadata": {},
   "outputs": [],
   "source": []
  },
  {
   "cell_type": "code",
   "execution_count": null,
   "id": "07b3b710",
   "metadata": {},
   "outputs": [],
   "source": []
  },
  {
   "cell_type": "code",
   "execution_count": null,
   "id": "22e3cd0f",
   "metadata": {},
   "outputs": [],
   "source": []
  },
  {
   "cell_type": "code",
   "execution_count": null,
   "id": "1b710e8c",
   "metadata": {},
   "outputs": [],
   "source": []
  },
  {
   "cell_type": "code",
   "execution_count": null,
   "id": "1fede3d6",
   "metadata": {},
   "outputs": [],
   "source": []
  },
  {
   "cell_type": "code",
   "execution_count": null,
   "id": "c73c441b",
   "metadata": {},
   "outputs": [],
   "source": []
  }
 ],
 "metadata": {
  "kernelspec": {
   "display_name": ".NET (C#)",
   "language": "C#",
   "name": ".net-csharp"
  },
  "language_info": {
   "file_extension": ".cs",
   "mimetype": "text/x-csharp",
   "name": "C#",
   "pygments_lexer": "csharp",
   "version": "10.0"
  }
 },
 "nbformat": 4,
 "nbformat_minor": 5
}
