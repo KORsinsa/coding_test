{
 "cells": [
  {
   "cell_type": "markdown",
   "id": "ddfda185",
   "metadata": {
    "slideshow": {
     "slide_type": "slide"
    }
   },
   "source": [
    "* 기본 데이터1 -1 "
   ]
  },
  {
   "cell_type": "code",
   "execution_count": 24,
   "id": "d1b382f6",
   "metadata": {
    "slideshow": {
     "slide_type": "slide"
    }
   },
   "outputs": [
    {
     "name": "stdout",
     "output_type": "stream",
     "text": [
      "Sum: 605\r\n"
     ]
    }
   ],
   "source": [
    "/*\n",
    "var name = \"james\";\n",
    "int age = 16;\n",
    "Console.WriteLine($\"nice to meet you, {name}!, your age is {age} year old right?\");\n",
    "*/\n",
    "\n",
    "var sum1 = 0;\n",
    "\n",
    "for (var i = 1; i <=10; i++) {\n",
    "    sum = sum + i;\n",
    "\n",
    "}\n",
    "\n",
    "Console.WriteLine($\"Sum: {sum}\");\n"
   ]
  },
  {
   "cell_type": "code",
   "execution_count": 2,
   "id": "4a7304f4",
   "metadata": {
    "slideshow": {
     "slide_type": "slide"
    }
   },
   "outputs": [
    {
     "name": "stderr",
     "output_type": "stream",
     "text": [
      "\r\n",
      "(7,1): error CS7021: 스크립트 코드에서 네임스페이스를 선언할 수 없습니다.\r\n",
      "\r\n",
      "(7,11): error CS1001: 식별자가 필요합니다.\r\n",
      "\r\n",
      "(7,16): error CS0116: 네임스페이스는 필드, 메서드 또는 문과 같은 멤버를 직접 포함할 수 없습니다.\r\n",
      "\r\n",
      "(7,11): error CS1514: {가 필요합니다.\r\n",
      "\r\n",
      "(7,12): error CS1013: 잘못된 숫자입니다.\r\n",
      "\r\n",
      "(8,1): error CS7017: 멤버 정의, 문 또는 파일 끝(EOF)이 필요합니다.\r\n",
      "\r\n"
     ]
    },
    {
     "ename": "Error",
     "evalue": "compilation error",
     "output_type": "error",
     "traceback": []
    }
   ],
   "source": [
    "using system;\n",
    "using system.Collections.Generic;\n",
    "using system.Linq;\n",
    "using System.Text;\n",
    "using System.Treading.Tasks;\n",
    "\n",
    "namespace _007_Variable2\n",
    "{\n",
    "    class Program\n",
    "    {\n",
    "    \n",
    "        static void Main(string[] args) //데이터 타입 + 식별자 \n",
    "        {\n",
    "            int x = 100;\n",
    "            int y = 200;\n",
    "            int a = 1000, b = 2000;\n",
    "            \n",
    "            Console.WriteLine(\"x:\" +x);\n",
    "            Console.WriteLine(\"y:\" +y);\n",
    "            Console.WriteLine(\"a:\" +a);\n",
    "            Console.WriteLine(\"b:\" +b);\n",
    "        }\n",
    "    }\n",
    "}"
   ]
  },
  {
   "cell_type": "code",
   "execution_count": 25,
   "id": "c3f223a4",
   "metadata": {},
   "outputs": [
    {
     "name": "stdout",
     "output_type": "stream",
     "text": [
      "x:100\n",
      "y:200\n",
      "a:1000\n",
      "b:2000\n"
     ]
    }
   ],
   "source": [
    "int x = 100;\n",
    "            int y = 200;\n",
    "            int a = 1000, b = 2000;\n",
    "            \n",
    "            Console.WriteLine(\"x:\" +x);\n",
    "            Console.WriteLine(\"y:\" +y);\n",
    "            Console.WriteLine(\"a:\" +a);\n",
    "            Console.WriteLine(\"b:\" +b);"
   ]
  },
  {
   "cell_type": "code",
   "execution_count": 26,
   "id": "b05ed306",
   "metadata": {},
   "outputs": [
    {
     "name": "stdout",
     "output_type": "stream",
     "text": [
      "1000\r\n"
     ]
    }
   ],
   "source": [
    "//006_Variable.Program\n",
    "int num;\n",
    "num = 1000;\n",
    "Console.WriteLine(num);"
   ]
  },
  {
   "cell_type": "code",
   "execution_count": null,
   "id": "a4a7b002",
   "metadata": {},
   "outputs": [],
   "source": [
    "// 07\n",
    "int x = 100;\n",
    "int y = 200;\n",
    "int a = 1000, b = 2000;\n",
    "\n",
    "Console.WriteLine(\"x:\" + x);\n",
    "Console.WriteLine(\"y:\" + y);\n",
    "Console.WriteLine(\"a:\" + a);\n",
    "Console.WriteLine(\"b:\" + b);"
   ]
  },
  {
   "cell_type": "code",
   "execution_count": null,
   "id": "139b15a9",
   "metadata": {},
   "outputs": [],
   "source": [
    "// 08\n",
    "sbyte a = 120:\n",
    "byte b = 255;\n",
    "short c = 3000;\n",
    "long d = 1000000000000000000;\n",
    "ulong f = 10000000000000000000;\n",
    "int num = 100;\n",
    "\n",
    "Console.WriteLine(\"sbyte a:\" + a);\n",
    "Console.WriteLine(\"byte b:\" + b);\n",
    "Console.WriteLine(\"short c:\" + c);\n",
    "Console.WriteLine(\"long d:\" + d);\n",
    "Console.WriteLine(\"ulong e:\" + e);\n",
    "Console.WriteLine(\"int f:\" + f);"
   ]
  },
  {
   "cell_type": "code",
   "execution_count": null,
   "id": "aa9a8714",
   "metadata": {},
   "outputs": [],
   "source": [
    "// 09 \n",
    "Console.WriteLine(\"short min:{0} ~ short max: {1}\", short.MinValue, short.MaxValue);\n",
    "Console.WriteLine(\"byte min:{0} ~ byte max: {1}\", byte.MinValue, byte.MaxValue);\n",
    "Console.WriteLine(\"int min:{0} ~ int max: {1}\", int.MinValue, int.MaxValue);\n",
    "Console.WriteLine(\"long min:{0} ~ long max: {1}\", long.MinValue, long.MaxValue);\n"
   ]
  },
  {
   "cell_type": "code",
   "execution_count": null,
   "id": "c59d9a6c",
   "metadata": {},
   "outputs": [],
   "source": [
    "// 10 \n",
    "byte sbyteData = 255;\n",
    "sbyte sbyteData2 = (sbyte)sbyteData;\n",
    "int num = (int)sbyteData;\n",
    "\n",
    "Console.WriteLine(\"sbyteData:\" + sbyteData);\n",
    "Console.WriteLine(\"sbyteData2:\" + sbyteData2);\n",
    "Console.WriteLine(\"sbyte,Maxvalue:\" + sbyte.MaxValue);\n",
    "Console.WriteLine(\"num:\" + num);\n",
    "Console.WriteLine(\"int.Maxvalue:\" + int.MaxValue);"
   ]
  },
  {
   "cell_type": "code",
   "execution_count": null,
   "id": "337f8ed2",
   "metadata": {},
   "outputs": [],
   "source": [
    "// 11 \n",
    "int a = 0b11111111\n",
    "int b = 0xFF\n",
    "    \n",
    "Console.WriteLine(\"a: {0}\", a);\n",
    "Console.WriteLine(\"b:\" + b);"
   ]
  },
  {
   "cell_type": "code",
   "execution_count": null,
   "id": "d1a721f1",
   "metadata": {},
   "outputs": [],
   "source": [
    "// 12 \n",
    "Console.WriteLine(\"float min: {0} ~ float max: {1}\", float.MinValue, float.MaxValue);\n",
    "Console.WriteLine(\"double min: {0} ~ double max: {1}\", double.MinValue, double.MaxValue);\n",
    "Console.WriteLine(\"decimal min: {0} ~ decimal max: {1}\", decimal.MinValue, decimal.MaxValue);\n"
   ]
  },
  {
   "cell_type": "code",
   "execution_count": null,
   "id": "bd1651a3",
   "metadata": {},
   "outputs": [],
   "source": [
    "// 13 \n",
    "float a = 3.1415926535897932384626433832f\n",
    "Console.WriteLine(\"a: {0}\", a);\n",
    "\n",
    "double b = 3.1415926535897932384626433832;\n",
    "Console.WriteLine(\"b: {0}\", b);\n",
    "\n",
    "decimal c = 3.1415926535897932384626433832m;\n",
    "Console.WriteLine(\"c: {0}\", c);\n",
    "\n"
   ]
  },
  {
   "cell_type": "code",
   "execution_count": null,
   "id": "cdce7067",
   "metadata": {},
   "outputs": [],
   "source": [
    "// 14 \n",
    "char a = \"H\";\n",
    "char b = \"e\";\n",
    "char c = \"l\";\n",
    "char d = \"l\";\n",
    "char e = \"o\";\n",
    "\n",
    "string str = \"World!\";\n",
    "\n",
    "Console.WriteLine(\"{0}{1}{2}{3}{4} {5}\", a,b,c,d,e, str);\n",
    "\n"
   ]
  },
  {
   "cell_type": "code",
   "execution_count": null,
   "id": "9cc53a10",
   "metadata": {},
   "outputs": [],
   "source": [
    "// 15 \n",
    "char a = 'A'; // 아스키 코드 값 = 65\n",
    "int num = a;\n",
    "\n",
    "Console.WriteLine(\"문자: {0}, 아스키코드값: {1}, 문자로 캐스트 연산: {2}\", a, num, (char)num);\n"
   ]
  },
  {
   "cell_type": "code",
   "execution_count": null,
   "id": "482d4d59",
   "metadata": {},
   "outputs": [],
   "source": [
    "// 16 \n",
    "string str1 = \"abcdefg\";\n",
    "string str2 = \"hjklmn\";\n",
    "string str3 = str1 + str2;\n",
    "\n",
    "Console.WriteLine(\"str1 + str2: {0}\", str3);\n",
    "\n",
    "string str4 = \"zzz\";\n",
    "string str5 = \"zzz\";\n",
    "Console.WriteLine(\"str4 == str5: {0}\", (str4 == str5));\n",
    "\n",
    "int x = 10;\n",
    "string str6 = str5 + \"   \" + \":\" + x;\n",
    "Console.WriteLine(\"str6: {0}\", str6)"
   ]
  },
  {
   "cell_type": "code",
   "execution_count": 7,
   "id": "7a0c7992",
   "metadata": {},
   "outputs": [
    {
     "name": "stdout",
     "output_type": "stream",
     "text": [
      "a: 100\n",
      "b: 3.1415927\n",
      "c: 3.1415926535897932384626433832\n",
      "Hi World!!\n",
      "g: False\n"
     ]
    }
   ],
   "source": [
    "// 18 \n",
    "object a = 100;\n",
    "object b = 3.1415926535897932384626433832f;\n",
    "object c = 3.1415926535897932384626433832m;\n",
    "object d = 'H';\n",
    "object e = 'i';\n",
    "object f = \"World!!\";\n",
    "object g = false;\n",
    "\n",
    "Console.WriteLine(\"a: {0}\", a);\n",
    "Console.WriteLine(\"b: {0}\", b);\n",
    "Console.WriteLine(\"c: {0}\", c);\n",
    "Console.WriteLine(\"{0}{1} {2}\", d, e, f);\n",
    "Console.WriteLine(\"g: {0}\", g);"
   ]
  },
  {
   "cell_type": "code",
   "execution_count": 14,
   "id": "4983ed9f",
   "metadata": {},
   "outputs": [
    {
     "name": "stdout",
     "output_type": "stream",
     "text": [
      "SUN 0\n",
      "MON 1\n",
      "THE 2\n",
      "WED 3\n",
      "THU 4\n",
      "FRI 5\n",
      "SAT 6\n"
     ]
    }
   ],
   "source": [
    "//19  enum 열거형 자료 \n",
    "\n",
    "enum DAY_OF_WEEK\n",
    "{\n",
    "    SUN,  \n",
    "    MON,\n",
    "    THE,\n",
    "    WED,\n",
    "    THU,\n",
    "    FRI,\n",
    "    SAT,\n",
    "}\n",
    "\n",
    "Console.WriteLine(\"{0} {1}\", DAY_OF_WEEK.SUN, (int)DAY_OF_WEEK.SUN);\n",
    "Console.WriteLine(\"{0} {1}\", DAY_OF_WEEK.MON, (int)DAY_OF_WEEK.MON);\n",
    "Console.WriteLine(\"{0} {1}\", DAY_OF_WEEK.THE, (int)DAY_OF_WEEK.THE);\n",
    "Console.WriteLine(\"{0} {1}\", DAY_OF_WEEK.WED, (int)DAY_OF_WEEK.WED);\n",
    "Console.WriteLine(\"{0} {1}\", DAY_OF_WEEK.THU, (int)DAY_OF_WEEK.THU);\n",
    "Console.WriteLine(\"{0} {1}\", DAY_OF_WEEK.FRI, (int)DAY_OF_WEEK.FRI);\n",
    "Console.WriteLine(\"{0} {1}\", DAY_OF_WEEK.SAT, (int)DAY_OF_WEEK.SAT);\n",
    "// int로 출력할시 위에서 순서대로 0부터 인덱스 개념처럼 숫자가 출력된다. "
   ]
  },
  {
   "cell_type": "code",
   "execution_count": null,
   "id": "068cec22",
   "metadata": {},
   "outputs": [],
   "source": [
    "//20 enum 열거형 자료\n",
    "\n",
    "enum CHAR_STATE\n",
    "{\n",
    "    IDLE,\n",
    "    WALK,\n",
    "    RUN,\n",
    "    DIE,\n",
    "}\n",
    "\n",
    "\n",
    "enum CLICK_STATE\n",
    "{\n",
    "    NONE, \n",
    "    CLICK = 100,\n",
    "    DOUBLE_CLICK = 200, \n",
    "    UP, \n",
    "}\n",
    "\n",
    "\n",
    "CHAR_STATE charState = CHAR)STATE.IDLE;\n",
    "Console.WriteLine(\"캐릭터 상태: {0}  {1}\", charState, (int)charState);\n",
    "\n",
    "charState = CHAR_STATE.RUN;\n",
    "Console.WriteLine(\"캐릴터 상태: {0}   {1}\", charState, (int)charState);\n",
    "\n",
    "charState = CHAR_STATE.DIE;\n",
    "Console.WriteLine(\"캐릴터 상태: {0}   {1}\", charState, (int)charState);\n",
    "\n",
    "Console.WriteLine(\"CLICK_STATE: {0}   {1}\", CLICK_STATE.NONE, (int)CLICK_STATE.NONE);\n",
    "Console.WriteLine(\"CLICK_STATE: {0}   {1}\", CLICK_STATE.CLICK, (int)CLICK_STATE.CLICK);\n",
    "Console.WriteLine(\"CLICK_STATE: {0}   {1}\", CLICK_STATE.DOUBLE_CLICK, (int)CLICK_STATE.DOUBLE_CLICK);\n",
    "Console.WriteLine(\"CLICK_STATE: {0}   {1}\", CLICK_STATE.UP, (int)CLICK_STATE.UP);"
   ]
  },
  {
   "cell_type": "code",
   "execution_count": 12,
   "id": "b3aadb45",
   "metadata": {},
   "outputs": [
    {
     "name": "stderr",
     "output_type": "stream",
     "text": [
      "\r\n",
      "(11,1): error CS7021: 스크립트 코드에서 네임스페이스를 선언할 수 없습니다.\r\n",
      "\r\n"
     ]
    },
    {
     "ename": "Error",
     "evalue": "compilation error",
     "output_type": "error",
     "traceback": []
    }
   ],
   "source": []
  },
  {
   "cell_type": "code",
   "execution_count": 27,
   "id": "b40d8ced",
   "metadata": {},
   "outputs": [
    {
     "name": "stdout",
     "output_type": "stream",
     "text": [
      "a: 3.14\n",
      "b: a\n",
      "c: 10\n",
      "isFlag: \n",
      "isFlag HasValue: False\n"
     ]
    }
   ],
   "source": [
    "// 21 nullable 자료형 \n",
    "// .Hasvalue : 안에 값이 들어 있는지 없는지 확인해주는 함수(값이 있으면 True 없으면 \n",
    "// False로 반환 해준다.)\n",
    "// .Value : 값이 있으면 해당 값을 반환 해주는 함수\n",
    "\n",
    "double? a = 3.14; \n",
    "char? b = 'a';\n",
    "\n",
    "int num = 10;\n",
    "int? c = num;\n",
    "\n",
    "bool? isFlag = null;\n",
    "\n",
    "Console.WriteLine(\"a: {0}\", a);\n",
    "Console.WriteLine(\"b: {0}\", b);\n",
    "Console.WriteLine(\"c: {0}\", c);\n",
    "\n",
    "Console.WriteLine(\"isFlag: {0}\", isFlag); // isFlag가 null값이기에 출력하면 아무것도\n",
    "// 뜨지 않는다.\n",
    "Console.WriteLine(\"isFlag HasValue: {0}\", isFlag.HasValue);\n",
    "\n",
    "if (isFlag.HasValue) //값을 참조하려면 반드시 null인지 체크..\n",
    "Console.WriteLine(\"isFlag HasValue: {0}\", isFlag.Value);"
   ]
  },
  {
   "cell_type": "code",
   "execution_count": 32,
   "id": "2cb6b92b",
   "metadata": {},
   "outputs": [
    {
     "name": "stdout",
     "output_type": "stream",
     "text": [
      "type: System.Int32, a: 100\n",
      "type: System.Single, b: 3.1415927\n",
      "type: System.Decimal, c: 3.1415926535897932384626433832\n",
      "type: System.Boolean, g: False\n",
      "Hi World!!\n",
      "num: 100\n"
     ]
    }
   ],
   "source": [
    "// 22 Data_var \n",
    "// 지역변수(var)는 특정 브레이스\"{}\"안에서만 기능하는 변수로서 object와 쓰임이 동일\n",
    "var a = 100;\n",
    "var b = 3.1415926535897932384626433832f;\n",
    "var c = 3.1415926535897932384626433832m;\n",
    "var d = 'H';\n",
    "var e = 'i';\n",
    "var f = \"World!!\";\n",
    "var g = false;\n",
    "\n",
    "\n",
    "Console.WriteLine(\"type: {0}, a: {1}\", a.GetType(), a);\n",
    "Console.WriteLine(\"type: {0}, b: {1}\", b.GetType(), b);\n",
    "Console.WriteLine(\"type: {0}, c: {1}\", c.GetType(), c);\n",
    "Console.WriteLine(\"type: {0}, g: {1}\", g.GetType(), g);\n",
    "\n",
    "Console.WriteLine(\"{0}{1} {2}\", d, e, f);\n",
    "\n",
    "// 지역변수 생성시 -> 반드시 선언과 동시에 초기화 해야함. 만약 선언하고 값을 부여하는\n",
    "// 것을 따로 해주면 error가 생김, 하지만 동시에 진행 후 값을 변경하는 것은 가능! \n",
    "\n",
    "var num = 0;\n",
    "num = 100;\n",
    "\n",
    "Console.WriteLine(\"num: \" + num);"
   ]
  },
  {
   "cell_type": "code",
   "execution_count": 34,
   "id": "3e3508e5",
   "metadata": {},
   "outputs": [
    {
     "name": "stdout",
     "output_type": "stream",
     "text": [
      "MIN:0  ~ MAX:100\r\n"
     ]
    }
   ],
   "source": [
    "// 23 const 상수 \n",
    "// 기존 변수의 데이터 타입 앞에 const 를 붙여주면 된다. \n",
    "// 상수이기 때문에 중간에 값 변경이 안된다. \n",
    "const int MIN = 0; \n",
    "const int MAX = 100;\n",
    "\n",
    "Console.WriteLine(\"MIN:{0}  ~ MAX:{1}\", MIN, MAX);\n"
   ]
  },
  {
   "cell_type": "code",
   "execution_count": 3,
   "id": "a08cda14",
   "metadata": {},
   "outputs": [
    {
     "name": "stdout",
     "output_type": "stream",
     "text": [
      "num: 100,  dNum: 100\n",
      "dNum2: 12345678912,  num2: -2147483648\n"
     ]
    }
   ],
   "source": [
    "// 24 Data_cast : cast 연산자() \n",
    "int num = 100; \n",
    "double dNum = (double)num; // double 데이터 형이 int 보다 훨씬 크기 때문에 int에서 \n",
    "//double로 변환하는 것에 이상은 없다. 하지만 int에서 double로 변환하면 큰거에서 \n",
    "//작은 걸로 변환하는 것이기 때문에 데이터가 왜곡된다. \n",
    "\n",
    "Console.WriteLine(\"num: {0},  dNum: {1}\", num, dNum);\n",
    "\n",
    "double dNum2 = 12345678912;\n",
    "int num2 = (int)dNum2; //큰데이터형을 작은 데이터로 변경시 주의!! \n",
    "Console.WriteLine(\"dNum2: {0},  num2: {1}\", dNum2, num2);"
   ]
  },
  {
   "cell_type": "code",
   "execution_count": 4,
   "id": "e08e2380",
   "metadata": {},
   "outputs": [
    {
     "name": "stdout",
     "output_type": "stream",
     "text": [
      "a.ToString(): 100\n",
      "b.ToString(): 3.141593\n",
      "c.ToString(): 3.1415926535897932384626433832\n"
     ]
    }
   ],
   "source": [
    "// 25 Data_ToString() \n",
    "// 문자열이 아닌 데이터 형태를 문자열의 형태로 변환 해주는 함수! \n",
    "int a = 100;\n",
    "float b = 3.141593f;\n",
    "decimal c = 3.1415926535897932384626433832m;\n",
    "\n",
    "string strA = a.ToString();\n",
    "string strB = b.ToString();\n",
    "string strC = c.ToString();\n",
    "\n",
    "Console.WriteLine(\"a.ToString(): {0}\", strA);\n",
    "Console.WriteLine(\"b.ToString(): {0}\", strB);\n",
    "Console.WriteLine(\"c.ToString(): {0}\", strC);"
   ]
  },
  {
   "cell_type": "code",
   "execution_count": null,
   "id": "32340a18",
   "metadata": {},
   "outputs": [],
   "source": [
    "// 26 Data_Parse\n",
    "// 문자열인 데이터를 다른 데이터 형으로 바꿔주는 함수! \n",
    "// Parse 사용 형식: 바꿔주고 싶은 데이터형 기재.Parse <데이터 변수명 입력>\n",
    "string strA = \"100\";\n",
    "string strB = \"3.141593\";\n",
    "string strC = \"3.1415926535897932384626433832\";\n",
    "\n",
    "int parseA = int.Parse(strA);\n",
    "float parseB = float.Parse(strB);\n",
    "decimal parseC = decimal.Parse(strC);\n",
    "\n",
    "Console.WriteLine(\"int.Parse: {0}\", parseA);\n",
    "Console.WriteLine(\"float.Parse: {0}\", parseB);\n",
    "Console.WriteLine(\"decimal.Parse: {0}\", parseC);\n"
   ]
  },
  {
   "cell_type": "code",
   "execution_count": 9,
   "id": "0802ccae",
   "metadata": {},
   "outputs": [
    {
     "name": "stdout",
     "output_type": "stream",
     "text": [
      "a.ToString(): 100\n",
      "b.ToString(): 3.141593\n",
      "c.ToString(): 3.1415926535897932384626433832\n",
      "int.Parse: 100\n",
      "float.Parse: 3.141593\n",
      "decimal.Parse: 3.1415926535897932384626433832\n",
      "Convert.ToInt32(strA): 100\n",
      "Convert.ToSingle(strB): 3.141593\n",
      "Convert.ToDecimal(strC): 3.1415926535897932384626433832\n"
     ]
    }
   ],
   "source": [
    "// 27 Data_Convert \n",
    "// Convert, Tostring, Parse \n",
    "\n",
    "int a = 100;\n",
    "float b = 3.141593f;\n",
    "decimal c = 3.1415926535897932384626433832m;\n",
    "\n",
    "string strA = a.ToString();\n",
    "string strB = b.ToString();\n",
    "string strC = c.ToString();\n",
    "\n",
    "Console.WriteLine(\"a.ToString(): {0}\", strA);\n",
    "Console.WriteLine(\"b.ToString(): {0}\", strB);\n",
    "Console.WriteLine(\"c.ToString(): {0}\", strC);\n",
    "\n",
    "int parseA = int.Parse(strA);\n",
    "float parseB = float.Parse(strB);\n",
    "decimal parseC = decimal.Parse(strC);\n",
    "\n",
    "Console.WriteLine(\"int.Parse: {0}\", parseA);\n",
    "Console.WriteLine(\"float.Parse: {0}\", parseB);\n",
    "Console.WriteLine(\"decimal.Parse: {0}\", parseC);\n",
    "\n",
    "//---------------------------------------------------------------------------------//    \n",
    "// 여기서부터 convert 함수 소스코드이다. \n",
    " \n",
    "int convertA = Convert.ToInt32(strA);\n",
    "float convertB = Convert.ToSingle(strB);\n",
    "decimal convertC = Convert.ToDecimal(strC);\n",
    "\n",
    "Console.WriteLine(\"Convert.ToInt32(strA): {0}\", convertA);\n",
    "Console.WriteLine(\"Convert.ToSingle(strB): {0}\", convertB);\n",
    "Console.WriteLine(\"Convert.ToDecimal(strC): {0}\", convertC);"
   ]
  },
  {
   "cell_type": "code",
   "execution_count": 10,
   "id": "d597ec32",
   "metadata": {},
   "outputs": [
    {
     "name": "stdout",
     "output_type": "stream",
     "text": [
      "refStr: 100    ReferenceEquals: False\n",
      "refStr: 1000   ReferenceEquals: True\n"
     ]
    }
   ],
   "source": [
    "// 28 Reference 참조 기초 \n",
    "// reference가 되는 데이터 형은 배열([]), string, class, interface, delegate 가 있다. \n",
    "// 두개의 변수가 서로 영향을 준다. \n",
    "int num = 100;\n",
    "int refNum = num;\n",
    "refNum = 1000; \n",
    "\n",
    "Console.WriteLine(\"refStr: {0}    ReferenceEquals: {1}\", num, Object.ReferenceEquals(num, refNum));\n",
    "\n",
    "int[] arrNum = {100, 200};\n",
    "int[] refArrNum = arrNum;\n",
    "refArrNum[0] = 1000;\n",
    "\n",
    "Console.WriteLine(\"refStr: {0}   ReferenceEquals: {1}\", arrNum[0], Object.ReferenceEquals(refArrNum, arrNum));"
   ]
  },
  {
   "cell_type": "code",
   "execution_count": 2,
   "id": "65cec7f9",
   "metadata": {},
   "outputs": [
    {
     "name": "stdout",
     "output_type": "stream",
     "text": [
      "i: 456,  o: 123,  j: 123\n",
      "ReferenceEquals: False\n"
     ]
    }
   ],
   "source": [
    "// 29 boxing과 unboxing \n",
    "\n",
    "int i = 123; \n",
    "object o = i; // boxing 과정\n",
    "int j = (int)o; //unboxing 과정 \n",
    "i = 456; \n",
    "\n",
    "Console.WriteLine(\"i: {0},  o: {1},  j: {2}\", i, o, j);\n",
    "Console.WriteLine(\"ReferenceEquals: {0}\", Object.ReferenceEquals(i, o));  "
   ]
  },
  {
   "cell_type": "code",
   "execution_count": 5,
   "id": "9c18b455",
   "metadata": {},
   "outputs": [
    {
     "name": "stdout",
     "output_type": "stream",
     "text": [
      "정수를 입력하세요!"
     ]
    },
    {
     "ename": "Error",
     "evalue": "System.ArgumentNullException: Value cannot be null. (Parameter 's')\r\n   at System.Int32.Parse(String s)\r\n   at Submission#7.<<Initialize>>d__0.MoveNext()\r\n--- End of stack trace from previous location ---\r\n   at Microsoft.CodeAnalysis.Scripting.ScriptExecutionState.RunSubmissionsAsync[TResult](ImmutableArray`1 precedingExecutors, Func`2 currentExecutor, StrongBox`1 exceptionHolderOpt, Func`2 catchExceptionOpt, CancellationToken cancellationToken)",
     "output_type": "error",
     "traceback": [
      "System.ArgumentNullException: Value cannot be null. (Parameter 's')\r\n   at System.Int32.Parse(String s)\r\n   at Submission#7.<<Initialize>>d__0.MoveNext()\r\n--- End of stack trace from previous location ---\r\n   at Microsoft.CodeAnalysis.Scripting.ScriptExecutionState.RunSubmissionsAsync[TResult](ImmutableArray`1 precedingExecutors, Func`2 currentExecutor, StrongBox`1 exceptionHolderOpt, Func`2 catchExceptionOpt, CancellationToken cancellationToken)",
      "   at System.Int32.Parse(String s)",
      "   at Submission#7.<<Initialize>>d__0.MoveNext()",
      "--- End of stack trace from previous location ---",
      "   at Microsoft.CodeAnalysis.Scripting.ScriptExecutionState.RunSubmissionsAsync[TResult](ImmutableArray`1 precedingExecutors, Func`2 currentExecutor, StrongBox`1 exceptionHolderOpt, Func`2 catchExceptionOpt, CancellationToken cancellationToken)"
     ]
    }
   ],
   "source": [
    "// 30 Read_line (입력을 받는 함수)\n",
    "\n",
    "Console.Write(\"정수를 입력하세요!\"); // 여기서 입력을 받고 \n",
    "string inputNum = Console.ReadLine(); // 위에서 입력 받은 거를 읽어오는데 문자열로 읽어옴\n",
    "int num = int.Parse(inputNum); //위에서 읽어온 문자열을 정수형으로 변환해주기\n",
    "\n",
    "Console.WriteLine(\"입력한 수는:\" + num);"
   ]
  },
  {
   "cell_type": "code",
   "execution_count": 7,
   "id": "f3909719",
   "metadata": {},
   "outputs": [
    {
     "name": "stdout",
     "output_type": "stream",
     "text": [
      "첫 정수를 입력하세요!두 정수를 입력하세요!"
     ]
    },
    {
     "ename": "Error",
     "evalue": "System.ArgumentNullException: Value cannot be null. (Parameter 's')\r\n   at System.Int32.Parse(String s)\r\n   at Submission#9.<<Initialize>>d__0.MoveNext()\r\n--- End of stack trace from previous location ---\r\n   at Microsoft.CodeAnalysis.Scripting.ScriptExecutionState.RunSubmissionsAsync[TResult](ImmutableArray`1 precedingExecutors, Func`2 currentExecutor, StrongBox`1 exceptionHolderOpt, Func`2 catchExceptionOpt, CancellationToken cancellationToken)",
     "output_type": "error",
     "traceback": [
      "System.ArgumentNullException: Value cannot be null. (Parameter 's')\r\n   at System.Int32.Parse(String s)\r\n   at Submission#9.<<Initialize>>d__0.MoveNext()\r\n--- End of stack trace from previous location ---\r\n   at Microsoft.CodeAnalysis.Scripting.ScriptExecutionState.RunSubmissionsAsync[TResult](ImmutableArray`1 precedingExecutors, Func`2 currentExecutor, StrongBox`1 exceptionHolderOpt, Func`2 catchExceptionOpt, CancellationToken cancellationToken)",
      "   at System.Int32.Parse(String s)",
      "   at Submission#9.<<Initialize>>d__0.MoveNext()",
      "--- End of stack trace from previous location ---",
      "   at Microsoft.CodeAnalysis.Scripting.ScriptExecutionState.RunSubmissionsAsync[TResult](ImmutableArray`1 precedingExecutors, Func`2 currentExecutor, StrongBox`1 exceptionHolderOpt, Func`2 catchExceptionOpt, CancellationToken cancellationToken)"
     ]
    }
   ],
   "source": [
    "// 31 Read_Line2 \n",
    "\n",
    "Console.Write(\"첫 정수를 입력하세요!\"); // 쓰고 \n",
    "string str1 = Console.ReadLine();       // 쓴거 읽어오고\n",
    "Console.Write(\"두 정수를 입력하세요!\");   // 쓰고 \n",
    "string str2 = Console.ReadLine();      // 쓴거 읽어오고 \n",
    "\n",
    "int num1 = int.Parse(str1);\n",
    "int num2 = int.Parse(str2);\n",
    "\n",
    "int sum = num1 + num2;\n",
    "\n",
    "Console.WriteLine(\"{0} + {1} = {2}\", num1 , num2, sum)"
   ]
  },
  {
   "cell_type": "code",
   "execution_count": 14,
   "id": "ea310ee2",
   "metadata": {},
   "outputs": [
    {
     "name": "stdout",
     "output_type": "stream",
     "text": [
      "a: 100, a.GetType():System.Int32\n",
      "b: AAA, b.GetType():System.String\n",
      "c: 0.123, c.GetType():System.Single\n",
      "d: A, d.GetType():System.Char\n"
     ]
    }
   ],
   "source": [
    "// 32_check \n",
    "\n",
    "int a = 100; \n",
    "string b = \"AAA\";\n",
    "float c = 0.123f; \n",
    "char d = 'A';\n",
    "\n",
    "Console.WriteLine(\"a: {0}, a.GetType():{1}\", a, a.GetType());\n",
    "Console.WriteLine(\"b: {0}, b.GetType():{1}\", b, b.GetType());\n",
    "Console.WriteLine(\"c: {0}, c.GetType():{1}\", c, c.GetType());\n",
    "Console.WriteLine(\"d: {0}, d.GetType():{1}\", d, d.GetType());\n"
   ]
  },
  {
   "cell_type": "code",
   "execution_count": 24,
   "id": "960d512d",
   "metadata": {},
   "outputs": [
    {
     "name": "stdout",
     "output_type": "stream",
     "text": [
      "국어 점수를 입력해주세요!"
     ]
    },
    {
     "ename": "Error",
     "evalue": "System.ArgumentNullException: Value cannot be null. (Parameter 's')\r\n   at System.Int32.Parse(String s)\r\n   at Submission#26.<<Initialize>>d__0.MoveNext()\r\n--- End of stack trace from previous location ---\r\n   at Microsoft.CodeAnalysis.Scripting.ScriptExecutionState.RunSubmissionsAsync[TResult](ImmutableArray`1 precedingExecutors, Func`2 currentExecutor, StrongBox`1 exceptionHolderOpt, Func`2 catchExceptionOpt, CancellationToken cancellationToken)",
     "output_type": "error",
     "traceback": [
      "System.ArgumentNullException: Value cannot be null. (Parameter 's')\r\n   at System.Int32.Parse(String s)\r\n   at Submission#26.<<Initialize>>d__0.MoveNext()\r\n--- End of stack trace from previous location ---\r\n   at Microsoft.CodeAnalysis.Scripting.ScriptExecutionState.RunSubmissionsAsync[TResult](ImmutableArray`1 precedingExecutors, Func`2 currentExecutor, StrongBox`1 exceptionHolderOpt, Func`2 catchExceptionOpt, CancellationToken cancellationToken)",
      "   at System.Int32.Parse(String s)",
      "   at Submission#26.<<Initialize>>d__0.MoveNext()",
      "--- End of stack trace from previous location ---",
      "   at Microsoft.CodeAnalysis.Scripting.ScriptExecutionState.RunSubmissionsAsync[TResult](ImmutableArray`1 precedingExecutors, Func`2 currentExecutor, StrongBox`1 exceptionHolderOpt, Func`2 catchExceptionOpt, CancellationToken cancellationToken)"
     ]
    }
   ],
   "source": [
    "// 33 check\n",
    "Console.Write(\"국어 점수를 입력해주세요!\"); //입력 자체가 문자열로 들어온다.\n",
    "string Kscore = Console.ReadLine();\n",
    "int Kscore1 = int.Parse(Kscore);\n",
    "\n",
    "Console.Write(\"영어 점수를 입력해주세요!\"); //입력 자체가 문자열로 들어온다.\n",
    "string Escore = Console.ReadLine();\n",
    "int Escore1 = int.Parse(Escore);\n",
    "\n",
    "Console.Write(\"수학 점수를 입력해주세요!\"); //입력 자체가 문자열로 들어온다.\n",
    "string Mscore = Console.ReadLine();\n",
    "int Mscore1 = int.Parse(Mscore);\n",
    "\n",
    "Console.Write(\"과학 점수를 입력해주세요!\"); //입력 자체가 문자열로 들어온다.\n",
    "string Sscore = Console.ReadLine();\n",
    "int Sscore1 = int.Parse(Sscore);\n",
    "\n",
    "int sum = Kscore1 + Escore1 + Mscore1 + Sscore1;\n",
    "float divd = sum / 4f;\n",
    "\n",
    "Console.WriteLine(\"국어:{0},영어:{1},수학:{2},과학:{3}, 총점:{4}, 평균:{5}\",Kscore1,Escore1, Mscore1, Sscore1,  sum, divd);\n",
    "\n",
    "\n"
   ]
  },
  {
   "cell_type": "code",
   "execution_count": 27,
   "id": "791d0b3d",
   "metadata": {},
   "outputs": [
    {
     "name": "stdout",
     "output_type": "stream",
     "text": [
      "c:24\n",
      "100-10:90\n",
      "d:3\n",
      "e:432\n",
      "f:0\n"
     ]
    }
   ],
   "source": [
    "// 34 Operator1 \n",
    "\n",
    "int a = 18;\n",
    "int b = 6;\n",
    "int c = a + b;\n",
    "Console.WriteLine(\"c:\" + c);\n",
    "\n",
    "Console.WriteLine(\"100-10:{0}\", (100 - 10));\n",
    "\n",
    "int d =  a/ b;\n",
    "Console.WriteLine(\"d:\" + d);\n",
    "\n",
    "int e = a * (a+b);\n",
    "Console.WriteLine(\"e:\" + e);\n",
    "\n",
    "int f = (a+b) % 2;\n",
    "Console.WriteLine(\"f:\" + f);\n"
   ]
  },
  {
   "cell_type": "code",
   "execution_count": 28,
   "id": "07b3b710",
   "metadata": {},
   "outputs": [
    {
     "name": "stdout",
     "output_type": "stream",
     "text": [
      "a: 10\n",
      "b: 3\n",
      "c: 123.45\n",
      "d: 3.1456\n",
      "\n",
      "정수의 계산\n",
      "a + b = 13\n",
      "a - b = 7\n",
      "a * b = 30\n",
      "a / b = 3\n",
      "a % b = 1\n",
      "\n",
      "실수의 계산\n",
      "c + d = 126.5956\n",
      "c - d = 120.3044\n",
      "c * d = 388.3243\n",
      "c / d = 39.245293\n",
      "c % d = 0.7715938\n"
     ]
    }
   ],
   "source": [
    "// 35 Operator2\n",
    "// = : 할당연산자 a = b -> a 값에 b를 할당해준다. (오른쪽 값을 왼쪽에 넣어준다.)\n",
    "\n",
    "int a = 10, b = 3;\n",
    "float c = 123.45f, d = 3.1456f;\n",
    "\n",
    "Console.WriteLine(\"a: {0}\", a);\n",
    "Console.WriteLine(\"b: {0}\", b);\n",
    "Console.WriteLine(\"c: {0}\", c);\n",
    "Console.WriteLine(\"d: {0}\", d);\n",
    "\n",
    "\n",
    "Console.WriteLine(\"\\n정수의 계산\");\n",
    "Console.WriteLine(\"a + b = {0}\", a + b);\n",
    "Console.WriteLine(\"a - b = {0}\", a - b);\n",
    "Console.WriteLine(\"a * b = {0}\", a * b);\n",
    "Console.WriteLine(\"a / b = {0}\", a / b);\n",
    "Console.WriteLine(\"a % b = {0}\", a % b);\n",
    "\n",
    "Console.WriteLine(\"\\n실수의 계산\");\n",
    "Console.WriteLine(\"c + d = {0}\", c + d);\n",
    "Console.WriteLine(\"c - d = {0}\", c - d);\n",
    "Console.WriteLine(\"c * d = {0}\", c * d);\n",
    "Console.WriteLine(\"c / d = {0}\", c / d);\n",
    "Console.WriteLine(\"c % d = {0}\", c % d);"
   ]
  },
  {
   "cell_type": "code",
   "execution_count": 29,
   "id": "22e3cd0f",
   "metadata": {},
   "outputs": [
    {
     "name": "stdout",
     "output_type": "stream",
     "text": [
      "a:20\n",
      "a:-80\n",
      "a:-8000\n",
      "a:33\n",
      "a:3\n"
     ]
    }
   ],
   "source": [
    "// 36_01 산술 연산자 \n",
    "\n",
    "int a = 10, b = 100; \n",
    "a += 10;\n",
    "Console.WriteLine(\"a:\" + a);\n",
    "\n",
    "a -= b;\n",
    "Console.WriteLine(\"a:\" + a);\n",
    "\n",
    "a *= b;\n",
    "Console.WriteLine(\"a:\" + a);\n",
    "\n",
    "b /= 3;\n",
    "Console.WriteLine(\"a:\" + b);\n",
    "\n",
    "b %= 10;\n",
    "Console.WriteLine(\"a:\" + b);"
   ]
  },
  {
   "cell_type": "code",
   "execution_count": 31,
   "id": "2333cb3e",
   "metadata": {},
   "outputs": [
    {
     "name": "stdout",
     "output_type": "stream",
     "text": [
      "num: 10\n",
      "num: 11\n",
      "num: 12\n",
      "num: 12\n",
      "num: 11\n",
      "num: 10\n"
     ]
    }
   ],
   "source": [
    "// 36 후치연산, 전치연산\n",
    "// 전치연산(++x): 먼저 계산을 하고 나서 출력할 때, 계산된 값이 반환된다. \n",
    "// 후치연산(x++): 계산을 나중에 하기 때문에 바로 출력했을 때는 계산 전의 값이 반환된다. \n",
    "// ++ : 1씩 더한다.\n",
    "// -- : 1씩 뺀다. \n",
    "\n",
    "int num = 10; \n",
    "\n",
    "Console.WriteLine(\"num: {0}\", num++); //후치연산\n",
    "Console.WriteLine(\"num: {0}\", num); //후치연산\n",
    "Console.WriteLine(\"num: {0}\", ++num); //전치연산\n",
    "\n",
    "Console.WriteLine(\"num: {0}\", num--); //후치연산\n",
    "Console.WriteLine(\"num: {0}\", num);\n",
    "Console.WriteLine(\"num: {0}\", --num); //전치 연산 "
   ]
  },
  {
   "cell_type": "code",
   "execution_count": 32,
   "id": "1b710e8c",
   "metadata": {},
   "outputs": [
    {
     "name": "stdout",
     "output_type": "stream",
     "text": [
      "(a == b): False\n",
      "(a != b): True\n",
      "(a > b): False\n",
      "(a < b): True\n",
      "(a >= b): False\n",
      "(a <= b): True\n"
     ]
    }
   ],
   "source": [
    "// 37 관계 연산자 \n",
    "// '<'. \">\", \"<=\", \">=\", \"==\", \"!=\"\n",
    "\n",
    "\n",
    "bool result;\n",
    "int a = 100;\n",
    "int b = 1000;\n",
    " \n",
    "result = (a == b);\n",
    "Console.WriteLine(\"(a == b): {0}\", result);\n",
    "\n",
    "result = (a != b);\n",
    "Console.WriteLine(\"(a != b): {0}\", result);\n",
    "\n",
    "result = (a > b);\n",
    "Console.WriteLine(\"(a > b): {0}\", result);\n",
    "\n",
    "result = (a < b);\n",
    "Console.WriteLine(\"(a < b): {0}\", result);\n",
    "\n",
    "result = (a >= b);\n",
    "Console.WriteLine(\"(a >= b): {0}\", result);\n",
    "\n",
    "result = (a <= b);\n",
    "Console.WriteLine(\"(a <= b): {0}\", result);"
   ]
  },
  {
   "cell_type": "code",
   "execution_count": 34,
   "id": "1fede3d6",
   "metadata": {},
   "outputs": [
    {
     "name": "stdout",
     "output_type": "stream",
     "text": [
      "(a==100) && (b == 1000): True\n",
      "(a==100) || (b == 1000): True\n",
      "(a==100) || (b == 100): False\n",
      "(a==100) && (b == 100): False\n",
      "!result: True\n",
      "!result: False\n"
     ]
    }
   ],
   "source": [
    "// 38 논리 연산자 \n",
    "// &&, ||\n",
    "bool result;\n",
    "int a = 100;\n",
    "int b = 1000; \n",
    "\n",
    "\n",
    "result = (a == 100) && (b == 1000); //true, true\n",
    "Console.WriteLine(\"(a==100) && (b == 1000): {0}\", result);\n",
    "\n",
    "result = (a == 100) || (b == 1000); //true, true\n",
    "Console.WriteLine(\"(a==100) || (b == 1000): {0}\", result);\n",
    "\n",
    "result = (a == 100) && (b == 100); //true, false\n",
    "Console.WriteLine(\"(a==100) || (b == 100): {0}\", result);\n",
    "\n",
    "result = (a == 100) && (b == 100); //true, false\n",
    "Console.WriteLine(\"(a==100) && (b == 100): {0}\", result);\n",
    "\n",
    "// toggle 역할 구현하기 (toggle:불을 껐다 켰다 하는 것처럼 on-off 되는 기능)\n",
    "result = false;\n",
    "result = !result;\n",
    "Console.WriteLine(\"!result: {0}\", result);\n",
    "result = !result;\n",
    "Console.WriteLine(\"!result: {0}\", result);"
   ]
  },
  {
   "cell_type": "code",
   "execution_count": 36,
   "id": "c73c441b",
   "metadata": {},
   "outputs": [
    {
     "name": "stdout",
     "output_type": "stream",
     "text": [
      "num: 0\n",
      "(num == 0) ? true : false: True\n"
     ]
    }
   ],
   "source": [
    "// 39 삼항 연산자 -> ?: \n",
    "// 삼항 연산자는 조건 연산자이다. \n",
    "// 조건식 ? A(true이면) : B(false이면)\n",
    "\n",
    "int num = 0;\n",
    "bool result;\n",
    "\n",
    "result = (num == 0) ? true : false;\n",
    "Console.WriteLine(\"num: {0}\", num);\n",
    "Console.WriteLine(\"(num == 0) ? true : false: {0}\", result);\n"
   ]
  },
  {
   "cell_type": "code",
   "execution_count": 11,
   "id": "eae22e46",
   "metadata": {},
   "outputs": [
    {
     "name": "stdout",
     "output_type": "stream",
     "text": [
      "a & b: 6\n",
      "a | b:31\n",
      "a^b:25\n",
      "a << 2:60\n",
      "a << 1:30\n",
      "20 >> 2:5\n",
      "20 >> 1:10\n",
      "h = ~b: -23\n",
      "i = (~b) >> 2: -6\n",
      "s:00000000000000000000000000001111\n"
     ]
    }
   ],
   "source": [
    "// 40 비트 연산자 \n",
    "\n",
    "int a = 15;     //0000 0000  0000 0000  0000 0000  0000 1111 \n",
    "int b = 22;     //0000 0000  0000 0000  0000 0000  0001 0110\n",
    "int c = a & b;  //0000 0000  0000 0000  0000 0000  0000 0110 -> 6 \n",
    "                // 둘다 1(true)일 때, true(1)인 연산자가 바로 and 연산자이다.\n",
    "\n",
    "Console.WriteLine(\"a & b: \" + c);\n",
    "\n",
    "                //0000 0000  0000 0000  0000 0000  0000 1111 \n",
    "                //0000 0000  0000 0000  0000 0000  0001 0110\n",
    "                //0000 0000  0000 0000  0000 0000  0001 1111 -> 31 \n",
    "int d = a | b; // or 연산자는 하나만 1(true)여도 true(1)로 받아들인다.\n",
    "Console.WriteLine(\"a | b:\" + d);\n",
    "\n",
    "                //0000 0000  0000 0000  0000 0000  0000 1111 \n",
    "                //0000 0000  0000 0000  0000 0000  0001 0110\n",
    "                //0000 0000  0000 0000  0000 0000  0001 1001 -> 25 \n",
    "                //XOR연산자는 같으면 0(false)이고 다르면 1(true)를 반환한다.\n",
    "int e = a ^ b;\n",
    "Console.WriteLine(\"a^b:\" + e);\n",
    "\n",
    "                // a = 15\n",
    "                //0000 0000  0000 0000  0000 0000  0000 1111\n",
    "                //0000 0000  0000 0000  0000 0000  0011 1100 -> 60 \n",
    "int f = a << 2; \n",
    "Console.WriteLine(\"a << 2:\" + f);\n",
    "Console.WriteLine(\"a << 1:\" + (a << 1));\n",
    "// 왼쪽으로 한번 시프트 하면 곱하기 2를 한 것과 같다. \n",
    "\n",
    "\n",
    "                //0000 0000  0000 0000  0000 0000  0001 0100\n",
    "                //0000 0000  0000 0000  0000 0000  0000 1010 -> 5 \n",
    "int g = 20 >> 2; \n",
    "Console.WriteLine(\"20 >> 2:\" + g);\n",
    "Console.WriteLine(\"20 >> 1:\" + (20 >> 1)); // output = 10\n",
    "// 오른쪽으로 shift 한번 하면 2로 나눈 것과 같다. \n",
    "\n",
    "\n",
    "                //0000 0000  0000 0000  0000 0000  0001 0110\n",
    "                //1111 1111  1111 1111  1111 1111  1110 1001 -> -22\n",
    "int h = ~b;\n",
    "Console.WriteLine(\"h = ~b: \" + h);\n",
    "\n",
    "\n",
    "                //0000 0000  0000 0000  0000 0000  0001 0110 (b = 22)\n",
    "                //1111 1111  1111 1111  1111 1111  1110 1001 (b = -22)\n",
    "                //1111 1111  1111 1111  1111 1111  1110 1010 -> -6 (CPU에 따라 다른 결과)\n",
    "int i = (~b) >> 2;\n",
    "Console.WriteLine(\"i = (~b) >> 2: \" + i);\n",
    "\n",
    "\n",
    "//비트로 출력하기 \n",
    "//int a = 15;      //0000 0000  0000 0000  0000 0000  0000 1111\n",
    "//int b = 22;      //0000 0000  0000 0000  0000 0000  0001 0110\n",
    "string s = Convert.ToString(a, 2).PadLeft(32, '0');\n",
    "Console.WriteLine(\"s:\" + s);\n",
    "s = Convert.ToString(b, 2).PadLeft(32, '0');\n"
   ]
  },
  {
   "cell_type": "code",
   "execution_count": null,
   "id": "47c702ed",
   "metadata": {},
   "outputs": [],
   "source": []
  },
  {
   "cell_type": "code",
   "execution_count": null,
   "id": "d250f7db",
   "metadata": {},
   "outputs": [],
   "source": []
  },
  {
   "cell_type": "code",
   "execution_count": null,
   "id": "d6984dbb",
   "metadata": {},
   "outputs": [],
   "source": []
  },
  {
   "cell_type": "code",
   "execution_count": null,
   "id": "e74df7e9",
   "metadata": {},
   "outputs": [],
   "source": []
  }
 ],
 "metadata": {
  "kernelspec": {
   "display_name": ".NET (C#)",
   "language": "C#",
   "name": ".net-csharp"
  },
  "language_info": {
   "file_extension": ".cs",
   "mimetype": "text/x-csharp",
   "name": "C#",
   "pygments_lexer": "csharp",
   "version": "10.0"
  }
 },
 "nbformat": 4,
 "nbformat_minor": 5
}
